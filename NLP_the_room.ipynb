{
 "cells": [
  {
   "cell_type": "markdown",
   "metadata": {},
   "source": [
    "## The Room 2 - Room Harder"
   ]
  },
  {
   "cell_type": "code",
   "execution_count": 1,
   "metadata": {},
   "outputs": [],
   "source": [
    "from fastai.text import *\n",
    "import html\n",
    "import pandas as pd"
   ]
  },
  {
   "cell_type": "code",
   "execution_count": 2,
   "metadata": {},
   "outputs": [],
   "source": [
    "#BOS = 'xbos'  # beginning-of-sentence tag\n",
    "#FLD = 'xfld'  # data field tag\n",
    "PATH=Path('data/the_room/')\n",
    "#PATH=Path('data/imdb/aclImdb/')"
   ]
  },
  {
   "cell_type": "code",
   "execution_count": 3,
   "metadata": {},
   "outputs": [],
   "source": [
    "CLAS_PATH=Path('data/the_room/the_room_clas/')\n",
    "CLAS_PATH.mkdir(exist_ok=True)\n",
    "\n",
    "LM_PATH=Path('data/the_room/the_room_lm/')\n",
    "LM_PATH.mkdir(exist_ok=True)"
   ]
  },
  {
   "cell_type": "code",
   "execution_count": 4,
   "metadata": {
    "scrolled": true
   },
   "outputs": [],
   "source": [
    "df = pd.read_csv(f'{PATH}/the_room.csv', engine='python', header=None)"
   ]
  },
  {
   "cell_type": "code",
   "execution_count": 5,
   "metadata": {},
   "outputs": [],
   "source": [
    "text = df.values.flatten().tolist()"
   ]
  },
  {
   "cell_type": "code",
   "execution_count": 6,
   "metadata": {},
   "outputs": [],
   "source": [
    "text = [line + \"\\n\" for line in text]   "
   ]
  },
  {
   "cell_type": "code",
   "execution_count": 7,
   "metadata": {},
   "outputs": [],
   "source": [
    "text_line_length = len(text)\n",
    "trn_index = int(text_line_length*1.0)\n",
    "trn = text[:trn_index]\n",
    "tst = text[trn_index:]\n",
    "with open('data/the_room/trn/trn.txt','w') as f2:\n",
    "    f2.writelines(trn)\n",
    "with open('data/the_room/val/val.txt','w') as f3:\n",
    "    f3.writelines(tst)  "
   ]
  },
  {
   "cell_type": "code",
   "execution_count": 8,
   "metadata": {
    "scrolled": true
   },
   "outputs": [
    {
     "name": "stdout",
     "output_type": "stream",
     "text": [
      "models\t       the_room.csv  the_room_script.txt  trn\r\n",
      "the_room_clas  the_room_lm   tmp\t\t  val\r\n"
     ]
    }
   ],
   "source": [
    "!ls {PATH}"
   ]
  },
  {
   "cell_type": "code",
   "execution_count": 9,
   "metadata": {},
   "outputs": [
    {
     "data": {
      "text/plain": [
       "1100"
      ]
     },
     "execution_count": 9,
     "metadata": {},
     "output_type": "execute_result"
    }
   ],
   "source": [
    "len(trn)"
   ]
  },
  {
   "cell_type": "code",
   "execution_count": 10,
   "metadata": {},
   "outputs": [],
   "source": [
    "col_names = ['text']"
   ]
  },
  {
   "cell_type": "code",
   "execution_count": 11,
   "metadata": {},
   "outputs": [],
   "source": [
    "d = {'labels': 0, 'text': trn}"
   ]
  },
  {
   "cell_type": "code",
   "execution_count": 12,
   "metadata": {
    "scrolled": true
   },
   "outputs": [],
   "source": [
    "train_df = pd.DataFrame(data=d)"
   ]
  },
  {
   "cell_type": "code",
   "execution_count": 13,
   "metadata": {},
   "outputs": [],
   "source": [
    "trn_texts = np.array(train_df['text'])\n",
    "val_texts = np.array(train_df['text'])"
   ]
  },
  {
   "cell_type": "code",
   "execution_count": 14,
   "metadata": {},
   "outputs": [
    {
     "data": {
      "text/plain": [
       "array(['Wiseau Films logo\\n',\n",
       "       'Opening credits play against generic footage of Johnny stalking about San Francisco\\n',\n",
       "       'Exterior shot of Johnny�s car pulling up outside his house\\n', ...,\n",
       "       'Denny: Why, Johnny? Why? Johnny, why? Why?\\n',\n",
       "       'Denny sobs. Mark and Lisa, who were in the process of leaving, rejoin Denny and comfort him. We hear police sirens. The three of them appear to take turns fellating Johnny�s corpse as we hear generic police chatter.\\n',\n",
       "       'Fade to black and roll credits.\\n'], dtype=object)"
      ]
     },
     "execution_count": 14,
     "metadata": {},
     "output_type": "execute_result"
    }
   ],
   "source": [
    "trn_texts"
   ]
  },
  {
   "cell_type": "code",
   "execution_count": 163,
   "metadata": {},
   "outputs": [],
   "source": [
    "df_trn = trn_texts\n",
    "df_val = val_texts"
   ]
  },
  {
   "cell_type": "markdown",
   "metadata": {},
   "source": [
    "We start by creating the data for the Language Model(LM). The LM's goal is to learn the structure of the english language. It learns language by trying to predict the next word given a set of previous words(ngrams). Since the LM does not classify reviews, the labels can be ignored.\n",
    "\n",
    "The LM can benefit from all the textual data and there is no need to exclude the unsup/unclassified movie reviews.\n",
    "\n",
    "We first concat all the train(pos/neg/unsup = **75k**) and test(pos/neg=**25k**) reviews into a big chunk of **100k** reviews. And then we use sklearn splitter to divide up the 100k texts into 90% training and 10% validation sets."
   ]
  },
  {
   "cell_type": "code",
   "execution_count": 164,
   "metadata": {},
   "outputs": [],
   "source": [
    "trn_texts,val_texts = sklearn.model_selection.train_test_split(\n",
    "    np.concatenate([trn_texts,val_texts]), test_size=0.1)"
   ]
  },
  {
   "cell_type": "code",
   "execution_count": 165,
   "metadata": {
    "scrolled": true
   },
   "outputs": [
    {
     "data": {
      "text/plain": [
       "(990, 110)"
      ]
     },
     "execution_count": 165,
     "metadata": {},
     "output_type": "execute_result"
    }
   ],
   "source": [
    "len(trn_texts), len(val_texts)"
   ]
  },
  {
   "cell_type": "code",
   "execution_count": 166,
   "metadata": {
    "scrolled": true
   },
   "outputs": [
    {
     "data": {
      "text/plain": [
       "array(['Mark: Fuck!\\n', 'Lisa: I still love you.\\n', 'Johnny: Hello Michelle. I heard you. What secret?\\n',\n",
       "       'Mike: I dunno, uh, a couple hours? At least.\\n', 'Mark: Come on! Come on! Come on!\\n',\n",
       "       'Claudette: Well, sure, I can come. But I don�t know if I�ll bring anybody. Oh! That jerk Harold. He wants me to give him a share of my house. That house belongs to me. He has no right. I�m not giving him a penny. Who does he think he is?\\n',\n",
       "       'Lisa: He�s so boring.\\n', 'Johnny: In a few minutes, bitch.\\n',\n",
       "       'Lisa: Did you tell them how much you save them?\\n',\n",
       "       'Lisa: He still won�t come out of the bathroom.\\n', 'Denny: What�s happening?!\\n',\n",
       "       'Denny: What�s wrong with Mark?\\n', 'Denny: Catch, Mark!\\n', 'Lisa: No. I don�t know what to do.\\n',\n",
       "       'Mark slowly kisses Johnny�s forehead.\\n', 'Johnny: You know better, Denny, you almost got killed.\\n',\n",
       "       'Chris-R: Where�s my fucking money, Denny?\\n', 'Flashback of Lisa and Johnny kissing.\\n',\n",
       "       'Lisa: Stop it! Stop it! You two are acting like children.\\n',\n",
       "       'Mark: You don�t understand anything, man. Leave your stupid comments in your pocket!\\n',\n",
       "       'Lisa: You�re wrong! Mom, he�s not what you think he is. He didn�t get his promotion. And he got drunk last night. And he hit me.\\n',\n",
       "       'Cut to Lisa emerging from the kitchen with, it seems, scotch and vodka.\\n',\n",
       "       'Cut to exterior shot of a hilly San Francisco street. Johnny�s car pulls up to a flower shop.\\n',\n",
       "       'Johnny: I�m so happy I have you as my best friend, and I love Lisa so much.\\n',\n",
       "       'Lisa (recording): Don�t worry about Johnny, he�s just being a big baby. You know, I love you very much. You�re the sparkle of my life (this is a deviation from the original conversation, you�ll note). I can�t live without you. I love you.\\n',\n",
       "       'We see Johnny is straining to hear this through the bathroom door.\\n', 'Peter: No.\\n',\n",
       "       'Mark enters.\\n', 'Mark inexplicably shoves Mike into a trashcan.\\n', 'Mark: Don�t call me that.\\n',\n",
       "       'Mark: Hey guys. You like it?\\n',\n",
       "       'Mark: Goddammit man, fuck. Why do you want to know my secret, man? Well you�re right! It�s Lisa. I don�t know what to do, man. I�m so depressed. It�s all her fault, she�s such a manipulative bitch!\\n',\n",
       "       'Johnny: A-ha-ha. I�m tired, I�m wasted, I love you darling!\\n', 'Lisa: Oh my god.\\n',\n",
       "       'Denny: No, stop!\\n', 'Susan: Well, hi Johnny. How are you? Good to see you. What would you like?\\n',\n",
       "       'Lisa: It�s between us women.\\n', 'They kiss.\\n',\n",
       "       'Michelle attacks Lisa with a pillow. A strange pillow vs broom fight ensues.\\n',\n",
       "       'Lisa: I don�t see what the big deal is. Doesn�t everybody look out for number one? Don�t I deserve the best?\\n',\n",
       "       'Michelle: Yum!\\n', 'Johnny: Yeah, sure, what time?\\n',\n",
       "       'Denny: Wake up, Johnny, please, please! It�s not right! It�s not right!\\n', 'Everyone exits.\\n',\n",
       "       'Claudette: What homework?\\n', 'Johnny: Ha-ha!\\n',\n",
       "       'Mark: Relationships never work, man, I don�t know why I waste my time.\\n',\n",
       "       'Johnny: Wow, you look so sexy, Lisa.\\n',\n",
       "       'Johnny: (removing sunglasses) Yeah, can I have a dozen red roses, please?\\n',\n",
       "       'Lisa: I�ll be waiting for you. Bye.\\n',\n",
       "       'Claudette: Johnny is your financial security. You can�t afford to ignore this.\\n',\n",
       "       'Claudette: This is not the way you make money!\\n', 'Mark: Aw, come on, why not?\\n',\n",
       "       'Lisa: You�re scaring me.\\n',\n",
       "       'Michelle places a chocolate in Mike�s mouth and then makes out with him. She starts to go down on him, although he begins reacting with comically exaggerated orgasm faces before she�s in position to do anything.\\n',\n",
       "       'Claudette: Please, don�t hurt Johnny. Now if you really don�t love him, so be it, but you should tell him.\\n',\n",
       "       'Lisa: What is it?\\n', 'Johnny: They never say what they mean, and they always play games.\\n',\n",
       "       'Peter: People are people. Sometimes they just can�t see their own faults.\\n', 'Johnny: Nah.\\n',\n",
       "       'Male Barista: What size?\\n', 'Lisa: Denny, what kind of money, just tell me!\\n',\n",
       "       'Lisa: Hey everybody, let�s go outside for some fresh air.\\n',\n",
       "       'Cut to the fountain by the Exploratorium, where Johnny is out walking.\\n',\n",
       "       'Johnny: No, because I trust you and I trust Lisa. What about Elizabeth, hunh?\\n',\n",
       "       'Denny: Just leave! Both of you!\\n', 'Mark: Wake up, Johnny, come on!\\n',\n",
       "       'Johnny: Who were you talking to?\\n', 'Peter: Tell me about it.\\n',\n",
       "       'Back in the room, Lisa answers the door. Mark enters.\\n', 'Denny: Are you sure?\\n',\n",
       "       'Mark: What? Well did you?\\n', 'Mark: Underwear? What�s that?\\n',\n",
       "       'Steven: What are you talking about?\\n', 'Cut to the room, where Johnny and Peter are talking.\\n',\n",
       "       'Lisa: Nothing much. Do you want some coffee?\\n', 'Lisa: Please don�t tell anybody.\\n',\n",
       "       'Johnny: Oh hey, Peter.\\n', 'Cut to a coffee shop.\\n', 'Claudette: What�s okay? He�s taking drugs.\\n',\n",
       "       'Michelle: So how�s Johnny?\\n',\n",
       "       'Claudette: I�m sure I�ll be alright. Oh! I heard Edward is talking about me. He is a hateful man. Oh, I�m so glad I divorced him.\\n',\n",
       "       'In the bedroom, Johnny and Lisa start a pillow fight.\\n',\n",
       "       'Claudette: What�s clear? I am going to call the police.\\n', 'Mark and Mike exit\\n',\n",
       "       'Mark: In the kitchen. I gotta go.\\n',\n",
       "       'Barista 2: Okay, why don�t you guys have a seat? We�ll have that right out for you.\\n',\n",
       "       'Claudette: Unh. Oh, all that shopping wore me out.\\n',\n",
       "       'Mark (recording): Sure baby, come on up. I want your body.\\n',\n",
       "       'Claudette: Well, you should be happy then.\\n', 'Lisa: I�m leaving you, Johnny.\\n',\n",
       "       'Mark: Underwear? Man, come on�\\n',\n",
       "       'Claudette: I got the results of the test back. I definitely have breast cancer.\\n', 'Mark: Hello?\\n',\n",
       "       'Johnny: Nah.\\n', 'Lisa: I don�t love him anymore.\\n',\n",
       "       'Cut to the roof, where Denny is dribbling a basketball. This scene is in HD for some reason. Chris-R enters.\\n',\n",
       "       'Mark: Yeah. Yeah, maybe you�re right. Maybe I have one already. I don�t know yet.\\n',\n",
       "       'Peter: I�m not doing it this year.\\n', 'Cut to a tracking shot of the Golden Gate Bridge.\\n',\n",
       "       'They make out some more. Steven enters.\\n', 'Denny: See you guys.\\n',\n",
       "       'Denny enters, wearing a tux and carrying a football.\\n', 'Denny: Well� I love her.\\n',\n",
       "       'The alarm clock goes off at :28. Johnny gets up, smells a rose, and bares his ass to the camera. He emerges from the bathroom dressed for work and greets Lisa.\\n',\n",
       "       'Claudette: Oh, that was not nothing!\\n', 'Mark: Forget it! Forget it, dude!\\n',\n",
       "       'Mark kicks over a chair and a table.\\n', 'Johnny: Are you okay?\\n',\n",
       "       'Lisa: Yeah, okay mom. Can I just talk to you later?\\n',\n",
       "       'Chris-R: Five minutes? You want five fucking minutes, Denny? You know what? I haven�t got five fucking minutes! (he pulls a gun on Denny) I�m going to ask you again, Denny. Where�s my money?\\n',\n",
       "       'Claudette: Sure. I suppose so.\\n',\n",
       "       'Johnny: That son of a bitch told me that I would get it within three months. I save them bundles. They�re crazy. I don�t think I will ever get it. They betray me, they didn�t keep their promise, they tricked me, and I don�t care anymore.\\n',\n",
       "       'Claudette: Why don�t you love him anymore? Tell me.\\n', 'Michelle: You�ve got to tell Johnny.\\n',\n",
       "       'Lisa: No, of course not.\\n', 'Claudette: You remember my friend Shirley Hamilton?\\n',\n",
       "       'Lisa: It�s hot in here. (she unbuttons the top of her blouse) Do you mind?\\n',\n",
       "       'Flashback to Lisa saying �goodbye, Johnny�\\n',\n",
       "       'Peter: It�s a complicated situation, Johnny. I mean you�re my friend. I don�t want to get between you and Lisa. Look. If you want to, you should confront her.\\n',\n",
       "       'Lisa: His best friend. And he lives in this building.\\n', 'Denny: Whoa.\\n',\n",
       "       'Johnny: Sure, we are.\\n', 'Lisa: Hey Denny, how are you doing?\\n',\n",
       "       'Johnny: You�re lying, I never hit you. You are tearing me apart, Lisa!\\n',\n",
       "       'Claudette: I understand, sweetheart. I�m going to go home now. Bye bye. You can call me if you need me.\\n',\n",
       "       'Cut to the room, where Mike and Michelle are startled by Lisa and Claudette entering.\\n',\n",
       "       'Peter: You never really know. I mean, look, you should tell her about your feelings, okay? You shouldn�t hide them. You two have been together forever. You can work out anything as long as you talk about it.\\n',\n",
       "       'Mark: Yeah, man. Yeah, you are very lucky.\\n', 'Denny: I owe him some money.\\n',\n",
       "       'Lisa (recording): You got it.\\n', 'Cut to the room. Michelle and Mike enter, nervously.\\n',\n",
       "       'Claudette: Well, you can�t do that. Have you talked to him about it?\\n',\n",
       "       'Claudette: Okay. I will see you later. Bye bye.\\n',\n",
       "       'Johnny: Yeah. (answers the door) Oh hi, Mark. Come in.\\n',\n",
       "       'Johnny: I have a problem with Lisa. She says that I hit her.\\n',\n",
       "       'Johnny: Well, what happened? Remember Betty? That�s her name?\\n',\n",
       "       'Michelle: You think you can get it all from Mark?\\n',\n",
       "       'Lisa: You know, I really loved Johnny at first. Everything�s changed. I need more from life than what Johnny can give me. Suddenly my eyes are wide open and I can see everything so clearly. I want it all.\\n',\n",
       "       'Cut to the party, where Mark and Lisa are dancing. Johnny confronts them\\n',\n",
       "       'Lisa: I�m doing what I want to do.\\n', 'Michelle: Uh-huh.\\n',\n",
       "       'Mike: Did you, uh, know, that chocolate is the symbol of love?\\n',\n",
       "       'Peter: You�ve got a lot of faith in Lisa. Sometimes, life gets complicated. The unexpected can happen. When it does, you just gotta deal with it.\\n',\n",
       "       'Mark (recording): Hello?\\n',\n",
       "       'Cut to the alley, where Johnny, Mark, Peter, and Denny are throwing around the football in tuxedos.\\n',\n",
       "       'Mark: Oh, hey Lisa.\\n',\n",
       "       'Lisa: Denny, you know that Johnny�s like your father. And we�re your friends. We�re going to help you.\\n',\n",
       "       'Mark: Hey come on, man, who�s the king of the house?\\n',\n",
       "       'Lisa: I understand, it�s our secret. But I still have feelings for you. You just don�t care.\\n',\n",
       "       'Lisa: You know, it�s getting really hot in here. Why don�t we go back outside?\\n',\n",
       "       'Johnny: You look great. You look a babyface.\\n',\n",
       "       'Denny materializes behind Lisa, then proceeds to stare out the window for some reason.\\n',\n",
       "       'Denny: I get it. You guys want to be alone.\\n',\n",
       "       'Claudette: Well, he�s a wonderful person. And he�s getting a promotion very soon. Now he bought you a car, he bought you a ring, clothes, whatever you wanted, and now you want to dump him. That�s not right. I�ve always thought of him as my son-in-law. You should marry Johnny, he would be good for you.\\n',\n",
       "       'Denny: I�m just kidding! I love you and Johnny.\\n',\n",
       "       'Lisa: You sure about that? Maybe I�ll change my mind.\\n',\n",
       "       'Johnny: He�s cranky today. A-ha-ha-ha. Girl trouble, I guess. What�s new with you?\\n',\n",
       "       'Denny sobs. Mark and Lisa, who were in the process of leaving, rejoin Denny and comfort him. We hear police sirens. The three of them appear to take turns fellating Johnny�s corpse as we hear generic police chatter.\\n',\n",
       "       'Lisa: I guess you�re right about that.\\n',\n",
       "       'Johnny dry-humps the dress amid flashbacks of fucking Lisa when she was wearing it.\\n',\n",
       "       'Enter Denny\\n', 'Mark: No. Definitely not an expert, Johnny.\\n',\n",
       "       'Johnny: Let�s take him to the police.\\n',\n",
       "       'Everyone exits enthusiastically. Michelle looks pained.\\n', 'Johnny: We�ll see about that.\\n',\n",
       "       'Cut to a shot of the Disney store at night.\\n', 'Lisa: Tell me everything!\\n',\n",
       "       'Denny: Calm down, he�s going to jail!\\n', 'Johnny enters the flower shop.\\n',\n",
       "       'Michelle: Well, if you care so much for him, why cheat on him?\\n', 'Mark: Alright, see you.\\n',\n",
       "       'Johnny: Yeah.\\n',\n",
       "       'Lisa: Look, I�m gonna tell him, okay? I just, I don�t want to ruin his birthday.\\n',\n",
       "       'Johnny collapses on the bed.\\n', 'Denny: Lisa�s your future wife!\\n',\n",
       "       'Johnny: No I can�t. Anyway, how is your sex life?\\n',\n",
       "       'Lisa: Okay, mom, I�ll see you at the party. I just need to be alone right now.\\n',\n",
       "       'Johnny: We�ll see about that.\\n',\n",
       "       'Mark: What are you doing? I mean, are you crazy? Everybody�s here.\\n',\n",
       "       'Exterior shot of Johnny�s car pulling up outside his house\\n', 'They exit together.\\n',\n",
       "       'Mark enters.\\n', 'Male Barista: Medium also?\\n', 'Peter: You look depressed.\\n', 'Lisa: Nobody.\\n',\n",
       "       'Johnny: A-ha-ha.\\n', 'Johnny: Right on, yeah.\\n',\n",
       "       'Denny: Catch, Johnny! Alright, Peter! Here we go, Mark!\\n', 'Mark: No.\\n',\n",
       "       'Mark: Yeah, I know. Life is too short.\\n',\n",
       "       'Lisa: We�ll talk about it now! Whenever you say we�ll talk about it later, we never do. I can�t wait till later. I want to talk right now. You owe me one anyway.\\n',\n",
       "       'Fade to black.\\n', 'Denny: Bye.\\n', 'Lisa: Stop it!\\n', 'Mark: Wait, what are you doing?\\n',\n",
       "       'Denny: Do you need to see a doctor?\\n', 'Denny: Oh hey, guys.\\n',\n",
       "       'Peter: Who are you calling a chicken? I just don�t like all the weirdos, there�s too many weirdos there.\\n',\n",
       "       'Johnny: Well maybe you should have a girl, Mark.\\n', 'Denny: Hi Lisa.\\n', 'Claudette: When is it?\\n',\n",
       "       'Lisa: I like you very much, loverboy.\\n', 'Peter: What the hell is that?\\n',\n",
       "       'Steven: Why are you doing this?\\n', 'Johnny: Yeah, I�m sorry.\\n', 'Denny: I owe him some money.\\n',\n",
       "       'Claudette: A mistake, that he takes drugs.\\n', 'Mark: Yeah.\\n',\n",
       "       'Lisa: Denny, look at me in the eyes and tell me the truth. We�re your friends.\\n',\n",
       "       'Denny: Hey Johnny.\\n',\n",
       "       'Lisa: What�s the matter? Are you alright? It�s just a lousy promotion. You know what you need? You need a drink.\\n',\n",
       "       'He grabs a book but somehow this leads to Claudette holding his underwear.\\n',\n",
       "       'Lisa exits downstairs.\\n', 'Lisa: Thanks honey, they�re beautiful. Did you get your promotion?\\n',\n",
       "       'They proceed to play short-distance catch with the football while talking.\\n', 'Denny: I�m okay!\\n',\n",
       "       'She slaps him.\\n', 'Johnny: Let�s go eat, hunh? Come on, let�s go. Let�s go. I�m starving.\\n',\n",
       "       'Lisa: You�re going to ruin the party.\\n',\n",
       "       'Mark: As far as I�m concerned, you can drop off the earth. That�s a promise.\\n',\n",
       "       'Claudette: Oh, why not?\\n', 'Mark: What are you talking about?\\n', 'Peter: Nah, I don�t think so.\\n',\n",
       "       'Lisa: Didn�t you enjoy it?\\n',\n",
       "       'Lisa: I�m just wanting to hear your sexy voice. I keep thinking about your strong hands around my body. It excites me so much. I love you.\\n',\n",
       "       'Mark and Claudette exit.\\n', 'Johnny: Sit down.\\n',\n",
       "       'The same room, later in the day. Lisa picks up the phone and Mark answers on the other end.\\n',\n",
       "       'He plays the tape.\\n', 'Cut to exterior shot of the house. Johnny�s car pulls up.\\n',\n",
       "       'Claudette: It doesn�t matter? How in the hell did you get involved with drugs? What are you, giving them to him, selling them to him? Where the hell did you meet that man?\\n',\n",
       "       'Lisa drops the broom and takes her shirt off.\\n',\n",
       "       'Johnny: You�re my future wife. What are you doing, Lisa?\\n',\n",
       "       'Lisa: I�m fixing the apartment for Johnny�s birthday, but I�m really not into it.\\n',\n",
       "       'Peter: Yeah.\\n', 'Johnny: You bitch!\\n', 'Cut to the room.\\n', 'Johnny exits.\\n',\n",
       "       'Lisa: Johnny�s okay, I suppose. Actually, I have him wrapped around my little finger.\\n',\n",
       "       'Wiseau Films logo\\n', 'Lisa: (sobbing) Denny�\\n', 'Mark: How can you be sure? Come on, Lisa.\\n',\n",
       "       'Flashback of Lisa and Johnny having sex.\\n',\n",
       "       'Cut to an exterior shot of a church in San Francisco.\\n',\n",
       "       'Johnny opens the door to leave and Claudette enters.\\n',\n",
       "       'Lisa: You look really tired today, mom. Are you feeling okay?\\n',\n",
       "       'Lisa (recording): I know, he�s not worth it. Why don�t I come up there and be with you?\\n',\n",
       "       'Claudette exits.\\n', 'They exit upstairs, speaking barely audibly\\n',\n",
       "       'Lisa: He did last night. And I don�t love him anymore.\\n',\n",
       "       'Mark: You couldn�t kill me if you tried.\\n', 'Lisa: I love you, Johnny. (she rips open his shirt)\\n',\n",
       "       'Random dude: Lisa looks hot tonight.\\n', 'Johnny: M-hm.\\n', 'Mark: Come on, it�s clear.\\n',\n",
       "       'Cut to another tracking shot of the Golden Gate Bridge.\\n', 'Lisa: No. I�m happy.\\n',\n",
       "       'Lisa: That�s why he�s so boring!\\n', 'Lisa: But I don�t love him!\\n', 'Denny: Johnny?\\n',\n",
       "       'Steven: Do you understand what you�re doing? You�re going to destroy Johnny. He�s very sensitive.\\n',\n",
       "       'Johnny: Ha-ha-ha.\\n', 'Claudette: Who? Who is it?\\n',\n",
       "       'Mike: It�s embarrassing, man, I don�t want to get into it.\\n', 'Johnny: Hey.\\n',\n",
       "       'Lisa: You got it. I�m on my way. Bye.\\n', 'Lisa: No. Mark�s his best friend.\\n',\n",
       "       'Lisa: Can I get you anything?\\n', 'Lisa: Maybe, you�re right. Can I see you tomorrow?\\n',\n",
       "       'Mark: What, man, you want to put me on the clock?\\n', 'Denny: What do you mean?\\n',\n",
       "       'Johnny: Aughhhhhhhh!!! (he hurls the tape player against the wall) Everybody betray me. I don�t have a friend in the world.\\n',\n",
       "       'Lisa: Goodnight, Johnny.\\n', 'Lisa: Wait. I have something I want to show you.\\n',\n",
       "       'Johnny: Go on.\\n', 'Johnny: That�s the idea.\\n', 'Lisa: No. I�ve got plenty of time.\\n',\n",
       "       'Mike: I�m going out.\\n', 'Denny: I swear to god, it�s coming!\\n', 'Mark: I�m up for it.\\n',\n",
       "       'Johnny: What makes you say that?\\n', 'Mark sighs and takes a drag.\\n',\n",
       "       'Lisa: (sobbing) Oh my god�\\n', 'Patron 3: And I�ll take a cheesecake and a coffee.\\n',\n",
       "       'Johnny: Shoot, Denny.\\n', 'Peter: Hi Lisa.\\n', 'Johnny: Let�s go home.\\n',\n",
       "       'Susan: Real good. Alright.\\n',\n",
       "       'Mark: Oh hey, how you doing? Yeah, I�m very busy, what�s going on?\\n', 'Mike: Oh, God!\\n',\n",
       "       'Johnny: I love you, Lisa.\\n', 'Johnny: Oh, thank you so much.\\n',\n",
       "       'Claudette exits downstairs. Lisa tries to open the bathroom door, but it�s locked.\\n',\n",
       "       'Lisa: Come on, you owe me one.\\n', 'Lisa: Forget about Johnny. This is between you and me.\\n',\n",
       "       'Lisa: You�re probably right about that, mom.\\n', 'Johnny: Yeah.\\n',\n",
       "       'Michelle: Yeah, but we�re not talking about me, are we?\\n',\n",
       "       'Claudette: You don�t know. If you think I�m tired today, wait till you see me tomorrow.\\n',\n",
       "       'Johnny: You mean she�s too old, or you think I will take her away from you? Hunh?\\n',\n",
       "       'Claudette: Sweetheart, he�s upset. Now Johnny is a sensible man. He will come out, you will discuss this, everything is going to be okay.\\n',\n",
       "       'Johnny: A-ha-ha-ha. You must be kidding, aren�t you?\\n', 'Mark: Yes, he�s dead. Yes he�s dead!\\n',\n",
       "       'Cut to Johnny and Mark running in the woods and muttering at each other.\\n',\n",
       "       'Lisa: Wait right here. (she grabs Johnny�s tie and kisses him) I�ll try it on right now.\\n',\n",
       "       'She takes off his shirt and the fourth terrible R&B-scored love scene commences. It goes on for about two minutes, full of half-hearted moaning, before cutting to black.\\n',\n",
       "       'Lisa: Why are you so hysterical?!\\n', 'Johnny: Well, we can talk about this tomorrow.\\n',\n",
       "       'They both stand up.\\n', 'Denny: I just need to borrow some sugar.\\n', 'Mark: Betty?\\n',\n",
       "       'Lisa: Who is it?\\n', 'Steven: How can you do this? You make me sick.\\n',\n",
       "       'Mark: Hey, Denny, what�s up?\\n', 'Michelle: (laughing) Feed me.\\n',\n",
       "       'Peter: No, I don�t smoke that stuff.\\n', 'Mark: Maybe late afternoon?\\n',\n",
       "       'Peter: You know this is going to ruin your friendship with Johnny? What were you thinking? Alright, you want my advice? Sometimes, life can get complicated, and you�ve got to be responsible. So you don�t see Lisa again, and you definitely don�t sleep with her again! Just find yourself another girl. She�s a sociopath! She only cares about herself. She can�t love anyone.\\n',\n",
       "       'Denny: I also need a cup of flour and half a stick of butter.\\n', 'Steven and Michelle: What?!\\n',\n",
       "       'Lisa: I don�t want to talk about it!\\n', 'Lisa hugs and comforts Denny. Johnny enters.\\n',\n",
       "       'Claudette: If I were a burglar, you would be my best friend.\\n', 'Lisa: I love you, Mark.\\n',\n",
       "       'Lisa: Look, I don�t want to talk about it. I�m going to go upstairs, and wash up, and go to bed.\\n',\n",
       "       'Johnny: A-ha.\\n', 'Johnny: Do you understand life? Do you?\\n',\n",
       "       'Lisa: But I�m not happy! He still thinks I�m gonna marry him next month. He�s a fool.\\n',\n",
       "       'Lisa: There�s no problem. Why do you ask?\\n',\n",
       "       'Johnny: Hi babe. These are for you. (he presents a bouquet of roses)\\n', 'Johnny: Wowwwwww.\\n',\n",
       "       'Johnny enters the bedroom.\\n', 'Johnny: Thanks a lot, bye!\\n',\n",
       "       'Michelle: I can�t believe you�re telling me this. It�s Mark, isn�t it? Lisa, you know, you�re just thinking about yourself. Somebody�s going to get hurt. You�ve got to be honest with Johnny.\\n',\n",
       "       'Lisa: Mark, we�re free to be together. I love you. I love you!\\n',\n",
       "       'Lisa: Hi, Mark? I need to talk to you.\\n', 'Peter: It�s a good place to think up here, isn�t it?\\n',\n",
       "       'Johnny: (shoving Lisa down onto the couch) How dare you talk to me like that! You should tell me everything!\\n',\n",
       "       'Lisa: Excuse me.\\n', 'Johnny: Don�t talk like that. What do you mean?\\n',\n",
       "       'Lisa: He�s in the shower.\\n', 'Cut to the bedroom. Lisa and Mark enter.\\n',\n",
       "       'Mark: Why don�t you ditch this creep? I don�t like him anymore.\\n',\n",
       "       'Cut to Mark on the phone with Lisa.\\n', 'Cut to the Embarcadero, where Johnny is walking.\\n',\n",
       "       'Johnny toasts with everyone amid various celebratory mumblings. He offers Denny a drink, which Denny says he�ll accept later.\\n',\n",
       "       'Lisa: You can come out now, Johnny. She�s gone.\\n',\n",
       "       'Mark: Yeah I�m looking for some offers in Sausalito. How are the [inaudible] like these days?\\n',\n",
       "       'Claudette: You know I worry about you. I have to go home.\\n', 'Johnny: Did you get a new dress?\\n',\n",
       "       'Cut to the famous �painted ladies� of San Francisco.\\n',\n",
       "       'Michelle: I couldn�t do that. You�re too much for me, Lisa.\\n',\n",
       "       'Cut to an alleyway, where Mike approaches Johnny.\\n',\n",
       "       'Chris-R: My fucking money! Where�s my fucking money, Denny?\\n', 'Mark: Oh, really?\\n',\n",
       "       'Claudette: It�s not right, Lisa. I still think you should marry Johnny. Now you can�t live on love. You need financial security.\\n',\n",
       "       'Steven: I don�t believe it.\\n',\n",
       "       'Lisa: So I�m organizing the party for Johnny�s birthday. Can you come?\\n', 'Mark exits.\\n',\n",
       "       'Denny: Come on, Peter.\\n', 'Mark: You devil. You planned this all along.\\n',\n",
       "       'Cut to a shot of the San Francisco skyline.\\n', 'Denny: Did you get your wedding gown yet?\\n',\n",
       "       'Mark: God, I�m so tired of girls� games.\\n', 'Johnny: What makes you say that?\\n',\n",
       "       'Lisa: Please don�t leave. Please don�t leave. I need you. I love you. I don�t want to get married anymore. I don�t love Johnny. I dream about you. I need you to make love to me.\\n',\n",
       "       'Lisa: It�s a surprise.\\n',\n",
       "       'Peter: Why are you smoking that crap? It�s no wonder you can�t think straight. It�s gonna screw with your head.\\n',\n",
       "       'Cut to Mark and Lisa dashing into the bedroom to find Johnny�s bloody corpse.\\n',\n",
       "       'Denny: It�s nothing like that!\\n', 'Male Barista: Alright.\\n',\n",
       "       'Denny: No thanks. I just want to talk to Johnny. You look beautiful today. Can I kiss you?\\n',\n",
       "       'Everyone exits.\\n', 'Johnny exits to the kitchen. Lisa enters.\\n', 'Johnny: Go on.\\n',\n",
       "       'Johnny: Ask Peter.\\n', 'Lisa: Hello mom, how are you?\\n', 'Denny: You okay? Are you okay?\\n',\n",
       "       'Johnny: Yeah, the barbecue chicken was delicious, rice, that was cool.\\n',\n",
       "       'Claudette: You have no idea what kind of trouble you�re in here, do you?\\n',\n",
       "       'Mark exits. Peter also exits. Denny crouches to the floor. Lisa also crouches to the floor.\\n',\n",
       "       'Johnny is clearly dead and blood is everywhere.\\n', 'Lisa: If you love me, you�ll drink this.\\n',\n",
       "       'Johnny: Just a little something.\\n', 'Mark: Nah man, you don�t know her.\\n',\n",
       "       'Mark: Is Johnny there?\\n',\n",
       "       'Lisa: Mom, I don�t love Johnny anymore. I don�t even like him. I had sex with someone else.\\n',\n",
       "       'Lisa picks up the phone and calls Mark.\\n',\n",
       "       'Mike: So I come back to get it, I pretend that I need a book, you know, I�m like looking for my book, and then I reach and put the underwear in my pocket, sort of slide out real quick. Well Claudette, she saw it sticking out of my pocket, so she pulls it out, and she�s, uh, showing everybody me underwears.\\n',\n",
       "       'Lisa: Look, I don�t want to talk about it.\\n',\n",
       "       'Lisa: Denny, are you okay? What did that man want from you?\\n', 'Peter: I don�t know what to say.\\n',\n",
       "       'Johnny: Let�s go for it.\\n', 'Mark: You don�t have me. You�ll never have me. You killed him.\\n',\n",
       "       'Johnny: A-ha-ha.\\n', 'Mike: That�s nothing!\\n', 'Mark: Nothing, man.\\n', 'They fight some more.\\n',\n",
       "       'Denny: Catch it, come on, man.\\n', 'Lisa: Hey baby, how are you doing?\\n',\n",
       "       'Johnny: Here you go, keep the change. Hi doggy!\\n',\n",
       "       'Johnny and Mark haul Chris-R away amid indecipherable commotion.\\n', 'Michelle: Are you okay?\\n',\n",
       "       'Denny exits.\\n', 'Denny: Chris-R. I�ve been looking for you.\\n',\n",
       "       'Susan: You�re welcome. How about something like cheesecake?\\n', 'Mike: Yeah, I dunno what�\\n',\n",
       "       'Lisa: Don�t worry about it. Everything will be alright.\\n', 'Michelle: Hi Mark. XYZ.\\n',\n",
       "       'Claudette: You don�t want to talk about it. Then why did you bring it up in the first place?\\n',\n",
       "       'Cut to the room, where Johnny is wearing a tuxedo and talking on the phone.\\n',\n",
       "       'Denny exits, and a three-minute love scene commences, scored to terrible R&B. There�s a lot of water and rose petals and naked boobs. Johnny fucks Lisa�s belly button. Afterwards they lie awkwardly in bed together, and Lisa seems bored with Johnny as he sleeps.\\n',\n",
       "       'Johnny and Michelle enter.\\n', 'Johnny enters the living room\\n',\n",
       "       'The doorbell rings. Denny answers it. Mark enters, clean-shaven and wearing a tux.\\n',\n",
       "       'Mark: How about the one with the bridal gown with the sign?\\n',\n",
       "       'Cut to the roof. Peter enters. Mark is sitting on the roof, clad entirely in denim, smoking what might be a joint.\\n',\n",
       "       'Johnny: What are you doing?\\n', 'Johnny and Mark sit down.\\n', 'Mike and Michelle exit.\\n',\n",
       "       'Johnny: I cannot tell you, it�s confidential.\\n', 'Lisa: He�s your brother!\\n',\n",
       "       'Johnny: You betrayed me, you�re not good, you�re just a chicken, cheep-cheep-cheep-cheep-cheep.\\n',\n",
       "       'Lisa: It�s from Johnny.\\n', 'Johnny: Bye.\\n', 'Johnny: Denny, do you have something else to do?\\n',\n",
       "       'Johnny: Don�t worry about it. I still love you. Goodnight, Lisa.\\n', 'Florist: Bye bye!\\n',\n",
       "       'Lisa laughs hysterically. Johnny drops and shatters a glass.\\n',\n",
       "       'Johnny: Peter, you always play psychologist with us!\\n', 'Claudette: Well, why not?\\n',\n",
       "       'Johnny descends the staircase and tediously installs a primitive tape recorder under the phone, then exits upstairs.\\n',\n",
       "       'Lisa: No guilt-trips.\\n', 'Cut to an illuminated building on Columbus at night.\\n',\n",
       "       'Lisa: I just finished talking to my mom. She gave me this big lecture about Johnny.\\n',\n",
       "       'Peter: Alright, that�s it, I�m done. Great idea, Denny.\\n',\n",
       "       'Male Barista: Yeah, sounds good. Why don�t you guys have a seat, we�ll have that right out for you.\\n',\n",
       "       'Johnny: Are you okay, Denny?\\n',\n",
       "       'Patron 5: I�m gonna get a slice of cheesecake and a bottle of water.\\n',\n",
       "       'Mike puts a chocolate in Michelle�s mouth and then makes out with her. He puts a chocolate on her chest and eats it off of her.\\n',\n",
       "       'Mark: Hello?\\n', 'Johnny: That�s the idea!\\n', 'Mark: Thank you.\\n', 'Johnny: Yeah.\\n',\n",
       "       'Denny: I bought some drugs off of him. Things got mixed up. I didn�t mean for this to happen.\\n',\n",
       "       'Michelle: Tricky tricky.\\n', 'Johnny: What�s bothering you, Mark?\\n',\n",
       "       'Mark: Why did you do this to me? Why? Johnny�s my best friend.\\n', 'Lisa: Of course.\\n',\n",
       "       'Denny enters.\\n', 'Florist: It�ll be eighteen dollars.\\n',\n",
       "       'Mark: Hey, I�m thinking of moving to a bigger place, man, I�m making some good money.\\n',\n",
       "       'Lisa: I don�t care. I�m in love with Mark.\\n',\n",
       "       'Johnny: That�s too bad. My Lisa is great when I can get it.\\n', 'Johnny: You drive me crazy.\\n',\n",
       "       'Chris-R: Yeah, sure you have. You have my money, right?\\n',\n",
       "       'Mark: Hey, who are you calling a kid? Fuck you!\\n',\n",
       "       'Mark: Tramp! You killed him. You�re the cause of all of this. I don�t love you. Get out of my life, you bitch!\\n',\n",
       "       'Lisa: He didn�t get his promotion.\\n', 'Flashback to Lisa saying �everything will be alright�\\n',\n",
       "       'Johnny: That�s me! How much is it?\\n',\n",
       "       'Claudette: I�m fine, how are you? Hmmm? Okay, let�s go to the couch, and we will sit down. Now, what�s happening with you? Hmmm?\\n',\n",
       "       'Patron 2: Um, I�ll have a large peanut butter cup with extra whipped cream, please?\\n',\n",
       "       'Peter: Okay� um� what do you mean?\\n', 'Johnny: Can I meet her?\\n', 'They hang up.\\n',\n",
       "       'Johnny: Oh hi, Denny.\\n',\n",
       "       'Johnny: Lisa is teasing me about whether we are going to get married or not. And we didn�t make love in a while. And I don�t know what to do.\\n',\n",
       "       'Cut to a car parking in Golden Gate Park. Johnny exits to find Mark.\\n', 'Claudette: What�s this?\\n',\n",
       "       'Johnny: Denny, two�s great, but three�s a crowd, ha-ha.\\n',\n",
       "       'Lisa: I don�t know. I don�t mind living with him.\\n',\n",
       "       'Cut to an exterior panning shot of the Golden Gate Bridge.\\n',\n",
       "       'Mark: Leave him, alright! Let him be with him!\\n',\n",
       "       'Michelle: Lisa, are you feeling okay? Because this is just getting worse and worse.\\n',\n",
       "       'Mark: Oh, man, I just can�t figure women out. Sometimes they�re just too smart, sometimes they�re just flat-out stupid, other times they�re just evil.\\n',\n",
       "       'Mark: I don�t think so. It�s an awkward situation.\\n', 'Susan: How about you?\\n',\n",
       "       'Peter: Why didn�t you mention this before? Is it anyone I know?\\n', 'Johnny: Unhhh�\\n',\n",
       "       'Claudette: Well, I�m glad you�re listening to your mother. Listen, I�ve gotta go. But you remember what I told you, okay? M-hm. Bye bye now.\\n',\n",
       "       'Mark: It�s none of your business, man. You think you know everything. You don�t know shit.\\n',\n",
       "       'Lisa: No. Stop. You little prick. I put up with you for seven years. You think you�re an angel. You�re just like everybody.\\n',\n",
       "       'Mark: What are you doing this for?\\n', 'Mike: Nah.\\n',\n",
       "       'Johnny knocks over some more stuff and shatters a mirror. He sits on the floor and picks up Lisa�s red dress.\\n',\n",
       "       'Mark: I mean for the party.\\n', 'Everyone laughs.\\n', 'Claudette: Homework!\\n',\n",
       "       'Lisa: I don�t know.\\n',\n",
       "       'Lisa: I am not responsible for Johnny. I�m through with that. I�m changing. I have the right, don�t I? People are changing all the time. I have to think about my future. What�s it to you?\\n',\n",
       "       'Mike: Yeah, I�m fine!\\n', 'Mark: Sure baby, come on up. I want your body.\\n',\n",
       "       'Johnny: Come on, it�s good for you, come on.\\n', 'Michelle: Lisa!\\n', 'Mark: You serious?\\n',\n",
       "       'Susan: Take your time.\\n', 'Johnny: (shoving Mark into a table) What do you want from me, hunh?\\n',\n",
       "       'Mark: Look, we�ll talk about it later. I told you, I�m very busy.\\n', 'Lisa: Okay, mom.\\n',\n",
       "       'Mark: I don�t think so. Everything�s going to be fine, I promise.\\n', 'Johnny: Oh, yeahhh.\\n',\n",
       "       'Denny enters, passing Mark.\\n', 'Mark: I dunno. I dunno, I�m just, I�m just thinking.\\n',\n",
       "       'Mark: Why not?\\n', 'Johnny exits.\\n', 'Johnny: Shut up!\\n',\n",
       "       'Lisa: What the hell is wrong with you?!\\n', 'Claudette: Bye bye, my precious.\\n',\n",
       "       'Lisa: Come on in, it�s open!\\n', 'Johnny: Oh, thanks.\\n',\n",
       "       'Lisa: Well, I don�t want to marry him anymore.\\n',\n",
       "       'Steven: I feel like I�m sitting on an atomic bomb waiting for it to go off.\\n',\n",
       "       'Lisa: Okay, okay. Johnny�s going to be here any minute. You can wait if you want.\\n',\n",
       "       'Mark: I mean, why do you ask me? You know, you�ve been very happy with Johnny. What do you want me to say? I mean, you should enjoy your life. What�s the problem?\\n',\n",
       "       'They bolt upright.\\n', 'Lisa: Hurry up, I have to open the door.\\n',\n",
       "       'Denny: I�m fine. What�s new?\\n',\n",
       "       'The doorbell rings. Denny answers it. Peter enters, wearing a tux.\\n', 'Johnny: Mhm. A-ha-ha.\\n',\n",
       "       'Claudette: What do you need money for?\\n',\n",
       "       'Lisa: I am happy. Look, Denny, I need to talk to Johnny. Okay? I�ll see you later.\\n',\n",
       "       'Claudette exits\\n', 'Mark: No, forget it, I�ll talk to you later!\\n',\n",
       "       'Michelle: You guys are too much. So, uh, what can I do to help?\\n', 'Michelle exits.\\n',\n",
       "       'Mark: I can�t talk about it.\\n', 'Lisa: (sarcastically) Thanks, mom.\\n',\n",
       "       'Michelle: Did you tell Johnny yet?\\n', 'Mark: Catch me, come on.\\n',\n",
       "       'They make out on the couch, and then we cut to the bedroom for a lovemaking sequence that seems to be recut from their previous lovemaking sequence, but with a different terrible R&B song. Mercifully, it only lasts for about a minute.\\n',\n",
       "       'Michelle: Lisa, I have to talk to you. You have got to be honest with Johnny.\\n',\n",
       "       'Lisa: I love him.\\n', 'Lisa: Hey Denny. Denny, this is my mom. Mom, this is Denny.\\n',\n",
       "       'Michelle: Well who is he?\\n',\n",
       "       'Lisa: Mom, this is Michelle�s boyfriend Mike. Mike, this is my mother.\\n',\n",
       "       'Mark: I�ll have the mint tea.\\n', 'Johnny: Bye, Denny.\\n',\n",
       "       'Lisa: Is he dead? (sobbing) My god, Mark, is he dead?\\n', 'They start making out.\\n',\n",
       "       'Mark: You�re sure you�re okay.\\n', 'Lisa: What kind of money?\\n', 'Mark: I never ate so much.\\n',\n",
       "       'Mark: Hi. How you doing?\\n', 'Claudette: Somebody had better do something around here.\\n',\n",
       "       'Michelle: Me too. There�s no simple solution to this.\\n', 'Peter: Lisa? Are you sure?\\n',\n",
       "       'They drink. Cut to later, when they have had quite a bit to drink and Lisa is now wearing Johnny�s tie as a headband.\\n',\n",
       "       'Johnny: Sure, it�s yours.\\n', 'Lisa: Come on in.\\n', 'Mark: Son of a bitch.\\n',\n",
       "       'Flashback to Lisa and Mark dancing.\\n',\n",
       "       'Cut to Johnny re-entering the bedroom, howling incomprehensibly. He knocks stuff off the dresser, pulls out all the drawers, and shoves it over. He pulls all the sheets off the bed. He flings himself on the bed.\\n',\n",
       "       'Steven: What�s going on here?\\n', 'Michelle: Your point of view is so different from mine.\\n',\n",
       "       'Everyone helps Peter up and exits.\\n', 'Lisa: I have to go now. I�ll see you later, darling.\\n',\n",
       "       'Lisa: You are such a little brat!\\n', 'She raises his glass to his mouth and he drinks.\\n',\n",
       "       'Claudette: It matters a great deal! A man holds a gun on you, you almost got killed, you expect me to forget that happened?\\n',\n",
       "       'Mark: Leave her alone, man, she doesn�t want to talk to you.\\n',\n",
       "       'Johnny: We�re just talking about women.\\n', 'Male Barista: Sure.\\n',\n",
       "       'She hangs up, and the doorbell rings.\\n', 'Denny: Hey, what�s up, Mark?\\n',\n",
       "       'Mark: Johnny�s my best friend. You�re going to be married next month. Come on.\\n',\n",
       "       'Cut to the room, where Michelle and Lisa are talking. Lisa�s neck is bulging throughout this scene, which means very few people have ever heard the dialogue.\\n',\n",
       "       'Denny: I don�t have anything.\\n',\n",
       "       'Peter: Listen, who do you think you are? You�re acting like a kid. Just grow up.\\n',\n",
       "       'Lisa: I�ve got some candles upstairs.\\n', 'Flashback to Lisa saying �I put up with you�\\n',\n",
       "       'Mark: (holding a football) Oh hey Johnny, what�s up?\\n',\n",
       "       'Peter: (laughs) What man does? What�s the problem?\\n', 'Mark: Sorry. Sorry man, you okay?\\n',\n",
       "       'Lisa: Don�t worry about it. You just concentrate on getting well.\\n', 'Johnny: A-ha-ha.\\n',\n",
       "       'Mark has materialized behind Claudette and Lisa.\\n', 'Johnny: Ha-ha-ha. A-ha-ha-ha. Mmm.\\n',\n",
       "       'Claudette: Johnny doesn�t drink! What are you talking about?\\n',\n",
       "       'Mark: You really don�t know, do you?\\n',\n",
       "       'Johnny: I never hit you. You shouldn�t have any secrets from me. I�m your future husband.\\n',\n",
       "       'Lisa: Don�t worry about it. It�s good for you.\\n', 'Peter: In tuxes? No, you gotta be kidding.\\n',\n",
       "       'Claudette: Bye bye.\\n', 'Mark and Johnny enter.\\n',\n",
       "       'Lisa: (laughing) Stop it! Are you trying to ruin my party?\\n',\n",
       "       'Lisa: Oh, Denny, Denny, Denny boy!\\n', 'Peter: Hey, Mark. What�s up?\\n',\n",
       "       'Everyone congratulates Johnny. Lisa and Steven confront Lisa.\\n',\n",
       "       'Lisa: You�re welcome, darling. You know how much I love you.\\n',\n",
       "       'Johnny: I don�t have to worry about that because Lisa is loyal to me.\\n',\n",
       "       'Mark: Yeah, you can say that again.\\n', 'Mike: I forgot my, uh, book.\\n',\n",
       "       'Mark: So, uh, what do you want to show me?\\n',\n",
       "       'Denny: Not much. Still going to the movie tonight?\\n', 'Denny: I�m okay.\\n',\n",
       "       'Lisa: I just think I should be alone with him right now.\\n',\n",
       "       'Lisa: Leave him alone, he�s a good guy.\\n', 'Lisa: Hey Mark.\\n',\n",
       "       'Mark: Well when can we meet about that?\\n',\n",
       "       'Johnny: Why Lisa, why Lisa, please talk to me, please! You�re part of my life, you are everything, I could not go on without you, Lisa.\\n',\n",
       "       'Lisa puts her shirt on but Mark is still struggling with this task.\\n',\n",
       "       'Lisa: Don�t worry. You guys worry entirely too much about me.\\n', 'Mark: Bye.\\n',\n",
       "       'Peter: You guys proved my point. You�re both weird. You guys want to play cards?\\n',\n",
       "       'Johnny: I can�t confront her! I want to give her a second chance, after all, she�s my future wife. You know what they say: �love is blind.�\\n',\n",
       "       'Mark: Don�t worry about it, man.\\n',\n",
       "       'Mike: �and, uh, Lisa and Claudette sort of, uh, walked in on us in the middle of it. That�s not the end of the story.\\n',\n",
       "       'Mark: Come on, stop, it was a mistake.\\n', 'Mike: Alright, whatever, whatever.\\n',\n",
       "       'Susan: Go sit down, we�ll be right there.\\n', 'Cut to the skyline at night.\\n',\n",
       "       'Denny: Oh, pshhh, come on!\\n', 'Denny: Gee Peter, you�re clumsy.\\n',\n",
       "       'Denny: What kind of movie are we going to see?\\n', 'Johnny: You bitch! You bitch!\\n',\n",
       "       'Johnny: Oh hey, Denny.\\n', 'Peter: Hey guys.\\n',\n",
       "       'Denny: Fine. I have homework to do anyway. Bye, lovebirds!\\n', 'Lisa: What about his zipper?\\n',\n",
       "       'Mark: Tomorrow?\\n', 'Patron 4: Can I get a bagel with a [inaudible]?\\n',\n",
       "       'Claudette: I know, but Johnny is part of our family.\\n',\n",
       "       'Johnny and Mark grab Chris-R and disarm him. Lisa and Claudette enter, or rather, they are suddenly in the scene without explanation.\\n',\n",
       "       'Michelle: Okay. What was he doing here?\\n', 'Claudette: I�m okay, how are you?\\n',\n",
       "       'Johnny: I think you should leave right now, Mark.\\n', 'Steven: I agree with that.\\n',\n",
       "       'Johnny enters the room.\\n',\n",
       "       'Mark: Look, you�re very attractive, alright? You�re beautiful. But we can�t do this anymore. I can�t hurt Johnny.\\n',\n",
       "       'Cut to panning shot of the nighttime San Francisco skyline.\\n',\n",
       "       'Denny: Johnny doesn�t seem very excited. Is there a problem?\\n',\n",
       "       'Denny: He�s just telling us about an underwear issue he had.\\n',\n",
       "       'Cut to a shot of a busy street at night.\\n',\n",
       "       'Johnny: Do you, do you have some secrets? Why don�t you tell me?\\n', 'Lisa: No!\\n',\n",
       "       'Lisa: Mom, stop, it was Denny�s mistake, just stop!\\n', 'Johnny: Oh god, I have to run.\\n',\n",
       "       'Johnny enters.\\n', 'Michelle: Hi! I brought the stuff.\\n',\n",
       "       'Johnny: You always think. A-ha-ha. Alright, I�m ready.\\n',\n",
       "       'Cut to Lisa in the room, talking on the phone.\\n',\n",
       "       'Johnny: Why? Why is this happening to me? Why?! It�s over. God, forgive me.\\n',\n",
       "       'Claudette: Doesn�t your home have a kitchen?\\n',\n",
       "       'Claudette exits. Cut to an exterior shot of the house.\\n',\n",
       "       'Lisa: I can�t do that. He would be devastated.\\n',\n",
       "       'Lisa: How do you mean that? I�m always ready. For you.\\n',\n",
       "       'Johnny: Anything for my princess! Ha-ha-ha-ha.\\n', 'They exit.\\n',\n",
       "       'Johnny: Well, you should be happy, Mark.\\n', 'Peter: Am I wrong?\\n',\n",
       "       'Johnny: Get out, get out, get out of my life! Agh!\\n',\n",
       "       'Cut to the party on the roof. Johnny waves at someone below him and off-camera.\\n',\n",
       "       'Lisa: Are you coming to the party?\\n',\n",
       "       'Mike: I gotta go see Michelle in a little bit to make out with her.\\n',\n",
       "       'Claudette: You don�t want to talk to me.\\n', 'Denny: Your wedding picture�s gonna look great.\\n',\n",
       "       'Mark: I gotta work early. See ya.\\n',\n",
       "       'Mark (recording): Why don�t you ditch this creep? I don�t like him anymore.\\n',\n",
       "       'Mark: Golden Gate Park, 6:30.\\n', 'Cut to the roof. Johnny enters, mid-sentence.\\n',\n",
       "       'Lisa: So what? You can learn something from me. You have to take as much as you can. You have to live, live, live. Don�t worry about me. I have everything covered.\\n',\n",
       "       'Mark gets angry and ineffectively tries to push Peter off the roof.\\n',\n",
       "       'Opening credits play against generic footage of Johnny stalking about San Francisco\\n',\n",
       "       'Denny: Nothing.\\n', 'Johnny: Hi.\\n',\n",
       "       'Denny: I know she doesn�t like me because sometimes she�s mean to me, but sometimes when I�m around her, I feel like I want to kiss her and tell her I love her. I don�t know. I�m just confused.\\n',\n",
       "       'Cut to an exterior shot of the painted ladies.\\n', 'Mike: It�s a pleasure to meet you.\\n',\n",
       "       'Claudette: Well it is time somebody ganged up on you, for god�s sake! A man like that! Where in the hell did you meet a man like that?\\n',\n",
       "       'Mike takes the underwear and exits as everyone continues to laugh.\\n', 'Lisa: Yes I did.\\n',\n",
       "       'Johnny retrieves the tape from the recorder (or something; the technical process here makes very little sense).\\n',\n",
       "       'Johnny: But you�re a psychologist. Do you have some advice?\\n',\n",
       "       'Peter: How the hell did you let this happen?\\n',\n",
       "       'Johnny fires the gun and falls backward in slow motion.\\n', 'Johnny: Why not?\\n',\n",
       "       'Cut to Johnny�s car pulling onto a residential street and parking in front of his house. Johnny and Mark exit the car.\\n',\n",
       "       'They sit on the couch and Mike opens a box of chocolates.\\n', 'Denny: Hey Johnny! Hey Mike!\\n',\n",
       "       'Johnny: It�s not over! Everybody betray me! I fed up with this world!\\n',\n",
       "       'Johnny: Mark, why don�t you take him home? And Mike, listen, if you need anything, call me anytime, alright? Are you alright?\\n',\n",
       "       'Johnny: I have my own problems.\\n', 'Mark: Alright, see ya.\\n', 'Lisa: I will. Thanks, mom.\\n',\n",
       "       'They shake hands.\\n', 'Johnny: Hey everybody! I have an announcement to make. We�re expecting!\\n',\n",
       "       'Lisa: Just shut up!\\n', 'Mark: That�s not the point.\\n', 'Steven: It�s over! It�s over!\\n',\n",
       "       'Johnny: You�re the only one who does.\\n', 'Johnny: Hi babe! I have something for you.\\n',\n",
       "       'Mark: Look, come on. Johnny�s my best friend.\\n', 'Johnny: Go on, I�m listening.\\n',\n",
       "       'Mark and Johnny fight.\\n', 'Denny exits.\\n', 'Johnny: Medium.\\n', 'Cut to the room.\\n',\n",
       "       'Denny: Are you sure you have plenty of time? It�s only a month away.\\n',\n",
       "       'Steven: This is going to pull us all down. It�s going to shake up our group of friends. It�s going to destroy our friendship, Lisa. I don�t think Mark really loves you.\\n',\n",
       "       'Lisa: Denny, I think I�m gonna join him.\\n', 'Lisa: What kind of drugs do you take?!\\n',\n",
       "       'Lisa: At least you have friends. I didn�t get any calls today. You�re right. The computer business is too competitive. Do you want me to order a pizza?\\n',\n",
       "       'Lisa: Hi mom, how are you?\\n', 'Johnny: What�s she talking about?\\n',\n",
       "       'Mark: I just feel like, like running. I�m killing myself. Something crazy like that.\\n',\n",
       "       'Lisa: I told him that to make it interesting. We�re probably going to have a baby eventually anyway. You�re not going to tell Johnny, are you?\\n',\n",
       "       'Cut to exterior shot of the house. Johnny is approaching. He picks up the paper.\\n',\n",
       "       'Johnny picks up a box and opens it to reveal a handgun.\\n',\n",
       "       'Lisa: If he can�t give me what I want, somebody else will.\\n',\n",
       "       'Mark: If you�d keep your girl satisfied, she wouldn�t come to me!\\n',\n",
       "       'Michelle: Lisa, you�re sounding just like your mother. You�re being so manipulative.\\n',\n",
       "       'Mark: Already?\\n',\n",
       "       'Claudette: You�ve known him for over five years. You�re engaged. You said you loved him. He supports you, he provides for you, and darling, you can�t support yourself. He�s a wonderful man, and he loves you very much. And his position is very secure. And he told me he plans to buy you a house.\\n',\n",
       "       'Johnny: Oh, pretty good. We got a new client at the bank, we make a lot of money.\\n',\n",
       "       'Lisa: You know, you�re not such an angel yourself.\\n', 'Claudette: You can�t be serious.\\n',\n",
       "       'Denny: It�s about Lisa.\\n', 'Lisa: I love you.\\n',\n",
       "       'Denny: Yeah. It�s coming. It�ll be here in a few minutes.\\n', 'Mike: Yeah.\\n', 'Peter: (laughs)\\n',\n",
       "       'Lisa: I just got done talking with a client, and I have to get ready to meet him. Can I just talk to you later?\\n',\n",
       "       'Johnny: I treat you like a princess, and you stab me in the back. I love you, and I did anything for you to just please you, and now you betray me! How could you love him?!\\n',\n",
       "       'Denny: You mean you�re not upset with me?\\n', 'Peter: What are you, nuts? Gahhh!\\n',\n",
       "       'Denny: Okay. Just give me five minutes. Just give me five!\\n',\n",
       "       'Johnny: Yeah I�m sure, I overheard a conversation between Lisa and her mother. What should I do, Peter?\\n',\n",
       "       'Mark: Delivery man! It�s me, Lisa, come on, open up.\\n', 'Johnny and Mark enter.\\n',\n",
       "       'Denny: You guys want to play some football?\\n', 'Johnny: Ha-ha-ha-ha.\\n',\n",
       "       'Denny enters, with a football.\\n', 'Johnny: Let�s go home.\\n',\n",
       "       'Johnny: Denny, don�t worry about it. You are part of our family, and we love you very much. And we will help you anytime. And Lisa loves you too. As a friend. You are sort of like her son.\\n',\n",
       "       'Lisa: Because I love you. You just don�t care, do you?\\n', 'Mark: What client?\\n', 'Denny enters.\\n',\n",
       "       'Lisa: Johnny, it�s beautiful. Thank you. Can I try it on now?\\n',\n",
       "       'Lisa: Denny, he�s in a better place.\\n', 'Johnny: I would do anything for my girl.\\n',\n",
       "       'Johnny: I do. Ha-ha-ha.\\n', 'Lisa: (laughing) Don�t worry about it.\\n',\n",
       "       'He playfully hides the package, then presents it to Lisa. She opens it to find a red dress.\\n',\n",
       "       'Michelle: You don�t feel guilty about this at all.\\n',\n",
       "       'Johnny knocks over a bowl of fake fruit, some furniture, and everything on the mantle. He picks up the TV and hurls it out the window.\\n',\n",
       "       'Lisa: Yeah.\\n', 'Mark: I don�t understand you. Why do you do things like this?\\n',\n",
       "       'Johnny: Let�s go home, Denny.\\n', 'Michelle: He hit you?!\\n',\n",
       "       'Claudette: Well it�s true. All men are assholes. Men and women use and abuse each other all the time, there�s nothing wrong with it. Marriage has nothing to do with love.\\n',\n",
       "       'Claudette: How many people come in and out of this apartment every day? This is worse than Grand Central Station!\\n',\n",
       "       'Mark: Yeah man, you never know. People are very strange these days. I used to know a girl, she had a dozen guys. One of them found out about it, beat her up so bad she ended up in a hospital on Guerrero Street.\\n',\n",
       "       'Lisa: Isn�t it fabulous?\\n', 'Mark: Hey. This will be our secret.\\n',\n",
       "       'Lisa: It�s girl talk. I just told you that.\\n', 'Lisa: Want to help me move the coffee table?\\n',\n",
       "       'Denny takes a bite of an apple, then follows them upstairs.\\n',\n",
       "       'Lisa: Quite a bit. He got drunk last night. And he hit me.\\n',\n",
       "       'Denny: Everything is okay, he�s gone!\\n',\n",
       "       'Lisa: What do you think? Women change their minds all the time.\\n', 'Lisa: How much?!\\n',\n",
       "       'Claudette: A man like that, with a gun! My god!\\n', 'Denny: How much was it?\\n',\n",
       "       'Lisa: I can�t talk right now.\\n', 'Claudette: Well, what are you going to do?\\n',\n",
       "       'Denny: It doesn�t matter, I don�t have them anymore.\\n',\n",
       "       'Johnny: You�re very welcome, Denny, and keep in mind, if you have any problems, talk to me, and I will help you.\\n',\n",
       "       'Lisa: You never told me that!\\n',\n",
       "       'Claudette: Everything is not okay. Denny, that is a dangerous man!\\n',\n",
       "       'Denny: Alright. Let�s toss the ball around.\\n',\n",
       "       'Michelle: Um� well, I guess I better be going. I�ll just talk to you guys later?\\n',\n",
       "       'Michelle: What?!\\n', 'Lisa: He didn�t know what he was doing.\\n', 'Denny: I�m sorry.\\n',\n",
       "       'Peter: Yeah!\\n', 'Lisa approaches Mark in her strapless black dress.\\n',\n",
       "       'Johnny: Of course, what do you think? They already put my ideas into practice. The bank saves money, and they are using me, and I am the fool.\\n',\n",
       "       'Cut to the party, where various characters and non-characters are engaged in fake conversations. Johnny and Claudette are discussing something. Lisa is flirting with Steven, a character we�ve never seen before who is actually a last-minute replacement for Peter. Mark is watching them. Lisa and Mark exchange flirty looks. Johnny seems concerned. Mike and Michelle are flirting with another couple. Michelle and Mike start feeding each other cake.\\n',\n",
       "       'Cut to a dark room. Johnny enters and turns on the lights to find the whole cast.\\n',\n",
       "       'Mike enters.\\n',\n",
       "       'Michelle: Lisa! This isn�t right. You�re living with one guy and you�re sleeping with another guy?\\n',\n",
       "       'He exits. Michelle and Lisa are cracking up.\\n', 'Mark: What�s going on here?\\n',\n",
       "       'Johnny: Hi Mark.\\n', 'Peter tries to go deep, but instead trips and falls.\\n',\n",
       "       'Lisa: I didn�t mean to chase you off. You should stick around for a while.\\n',\n",
       "       'Mark and Lisa embrace.\\n',\n",
       "       'Peter: Just chill out, Mark. I�m just trying to help. You�re having an affair with Lisa, aren�t you?\\n',\n",
       "       'Flashback to Johnny and Lisa having sex.\\n', 'Lisa: You don�t understand.\\n',\n",
       "       'Johnny: You must be kidding. Underwear, I got the picture.\\n',\n",
       "       'Peter: Look, I�m just your friend, and I�m just worried about you.\\n',\n",
       "       'Johnny: I don�t drink, you know that!\\n', 'Mike: Yeah, sorry you had to see that.\\n',\n",
       "       'Johnny: Is there some secret, tell me.\\n',\n",
       "       'Lisa: Yeah, delivery. 555-4828. Half Canadian bacon with pineapple, half artichoke with pesto and light on the cheese. Thanks.\\n',\n",
       "       'Lisa: Stop asking me stupid questions!\\n', 'Denny: Please?\\n',\n",
       "       'Lisa: They like to come here to do their� homework.\\n', 'Denny: You look really handsome.\\n',\n",
       "       'Johnny: Not always!\\n', 'Michelle: Don�t worry. You can trust me. Your secret is safe with me.\\n',\n",
       "       'Denny: Put the gun down.\\n', 'Michelle: I don�t understand you, Lisa.\\n',\n",
       "       'Cut to the party, where a random couple is eating cake.\\n', 'Johnny puts the gun in his mouth.\\n',\n",
       "       'Lisa: I miss you.\\n', 'Denny: Awesome. Thanks, Johnny.\\n',\n",
       "       'Lisa: I know. I am right. Don�t worry about those fuckers. You�re a good man. Drink and let�s have some fun.\\n',\n",
       "       'Mark: You�re so beautiful.\\n', 'Johnny: Whatever, I don�t care.\\n',\n",
       "       'Lisa: Don�t spoil it, we were just having fun.\\n',\n",
       "       'Chris-R: What do you mean it�s coming, Denny? Where�s my money?\\n',\n",
       "       'Denny: Gotta tell you about something.\\n', 'Johnny: Oh, hi Denny. Nice tux, you look great.\\n',\n",
       "       'Lisa: I�m not feeling good today.\\n',\n",
       "       'They proceed to toss the football around in close quarters, like you do.\\n',\n",
       "       'Mike: Hey, what�s going on, man?\\n', 'Johnny: Don�t touch me, motherfucker! Get out.\\n',\n",
       "       'Peter: Did you hear the door?\\n', 'Cut to exterior shot of the San Francisco skyline.\\n',\n",
       "       'Mark: Hey Johnny, how�s it going?\\n',\n",
       "       'Cut to a shot of a staircase in San Francisco, which Johnny and Mark are running up.\\n',\n",
       "       'Mark: I just saw you! What are you talking about?\\n', 'Mark: Okay. Alright, how about noon?\\n',\n",
       "       'Mark: Since Lisa changed her mind about you. Wake up, man, what planet are you on?\\n',\n",
       "       'Mark: (laughs) No.\\n', 'Peter: This is Lisa we�re talking about?\\n', 'Lisa: What�s going on?!\\n',\n",
       "       'Johnny: Well we�ll see� Denny, don�t plan too much. It may not come out right.\\n', 'Johnny: Okay.\\n',\n",
       "       'Michelle: Examine your zipper!\\n', 'Lisa: (laughing) You have nice pecs.\\n',\n",
       "       'Johnny: Absolutely. Three o�clock?\\n', 'Johnny: Yeah.\\n',\n",
       "       'Johnny: A-ha-ha-ha! What a story, Mark!\\n', 'Michelle: Well, let�s have some fun.\\n',\n",
       "       'Johnny: Okey-dokey, Mark.\\n', 'Denny: Come on, Mark, let�s do it.\\n',\n",
       "       'Johnny: You�re right, Peter. Ha-ha. Is she getting a divorce, Mark?\\n',\n",
       "       'Johnny: Yeah, that�s the idea.\\n', 'Johnny and Claudette are chatting. Mark and Lisa are arguing.\\n',\n",
       "       'Lisa: What�s the matter? Don�t you like me? I�m your girl?\\n', 'Denny: Oh hey, Peter, come on in.\\n',\n",
       "       'Lisa: Stop it!\\n', 'Mark: So, I mean, what�s the interesting part?\\n',\n",
       "       'Johnny: Lisa, can, can you clean up here, please?\\n',\n",
       "       'Florist: Oh hi, Johnny, I didn�t know it was you. Here you go.\\n',\n",
       "       'Johnny: You�re right, it tastes good. A-ha.\\n', 'Johnny: Haughhhh-augh! Why, Lisa, why, why?!\\n',\n",
       "       'Peter: Yeah, you�ve got to establish these guidelines before you get married. Speaking of, how�d you ever meet Lisa? You never told us.\\n',\n",
       "       'Mark: You think girls like to cheat like guys do?\\n',\n",
       "       'Mark: Yeah, we don�t see each other anymore. You know, she wasn�t any good in bed. She was beautiful, but we had too many arguments.\\n',\n",
       "       'Johnny: Get out of my house! I kill you, I [incomprehensible]!\\n', 'Denny: I�ll come back later.\\n',\n",
       "       'Johnny: Whatever. Do you guys want to eat something?\\n',\n",
       "       'Mark attacks Johnny. Steven, Lisa, et al pull them apart.\\n',\n",
       "       'Claudette: He�s always bugging me about my house. Fifteen years ago, we agreed, that house belongs to me. Now the value of the house is going up and he�s seeing dollar signs. Everything goes wrong at once. Nobody wants to help me, and I�m dying.\\n',\n",
       "       'Mike: No, no, I�m tough. I�m good, I�m alright, I�m fine.\\n', 'Johnny: Good.\\n',\n",
       "       'Mark: Johnny�s dead!\\n', 'Mark: Shit, alright?\\n', 'Mike: Yeah, uh-huh.\\n',\n",
       "       'Johnny: You and your stupid mother.\\n', 'Denny: I just want you and Johnny to be happy.\\n',\n",
       "       'Johnny: Yeah, I�m sure.\\n',\n",
       "       'Johnny exits. Cut to an exterior daytime shot of the house, then to the living room. Lisa answers the door, and Claudette enters.\\n',\n",
       "       'Mike: Not much.\\n', 'Mark: It�s not that easy, Johnny.\\n', 'Johnny: That�s life.\\n',\n",
       "       'Denny: Okay. Tell him I said hello?\\n',\n",
       "       'Peter: Yeah, I�m fine. Let�s just talk about your problem.\\n',\n",
       "       'Lisa: Johnny wanted to adopt Denny. It�s really a tragedy how many kids out there don�t have parents. When Denny turned eighteen, Johnny found him a little apartment here in this building and he�s paying for it until he graduates from school. Johnny really loves Denny even though he doesn�t say it much. He�s like a father figure to him. I told you, mom, Johnny is very caring about the people in his life. And he gave Denny his own set of keys to our place.\\n',\n",
       "       'Susan: Hi, how you doing? What would you like?\\n',\n",
       "       'Everyone: Surprise! (they all sing Happy Birthday while Johnny says things like �wow�, �okay�, and �thank you�)\\n',\n",
       "       'Claudette: Mm.\\n',\n",
       "       'Michelle: Arms up! (she takes off Mike�s shirt) Chocolate is a symbol of love.\\n',\n",
       "       'Cut to some random building at night.\\n',\n",
       "       'Denny: She�s beautiful. She looks great in a red dress. I think I�m in love with her.\\n',\n",
       "       'Lisa: I know.\\n',\n",
       "       'Johnny: How can they say this about me? I don�t believe it. I show them. I will record everything.\\n',\n",
       "       'Mark: Oh, hey, Johnny. Hey Peter!\\n', 'Johnny: Nice to see you, Denny. I�m going to take a nap.\\n',\n",
       "       'They run side by side tossing the football in the park. There�s barely audible and completely uninteresting dialogue. They say �what�s new with you� a lot. Johnny wrestles Mark to the ground.\\n',\n",
       "       'Mark: You want some? It�s good, bro.\\n',\n",
       "       'Claudette: Well, of course I�m right. I know men! I wasn�t born yesterday. I�m glad you�re listening to your mother. Nobody else listens to me.\\n',\n",
       "       'Lisa: Where�s Johnny?\\n', 'Flashback to Lisa trying on the dress.\\n',\n",
       "       'Claudette: What�s wrong? Tell me.\\n', 'Lisa: Uh-huh.\\n', 'Florist: You�re my favorite customer.\\n',\n",
       "       'Mark: Yeah, me too.\\n', 'Lisa: Nothing.\\n', 'Mark: I do care!\\n', 'Johnny: He doesn�t.\\n',\n",
       "       'Lisa: This is so pretty, I can�t wait for you to get it off of me.\\n',\n",
       "       'Johnny: Thank you, honey. This is a beautiful party. You invited all my friends. Good thinking!\\n',\n",
       "       'Johnny: You little tramp. How could you do this to me?! I gave you seven years of my life! And you betray me. Let�s see what else we have on this tape.\\n',\n",
       "       'Lisa: Next Friday at six. It�s a surprise.\\n',\n",
       "       'Johnny: No, it�s not true! Don�t even ask! What�s new with you?\\n',\n",
       "       'Cut to the room, which Claudette and Lisa are entering.\\n', 'Johnny: Oh hi, Susan.\\n',\n",
       "       'Mark: What? No tips from your job?\\n', 'Mark hands off the football to Johnny and exits.\\n',\n",
       "       'Denny: You�re not my fucking mother!\\n', 'Claudette: Well at least you have a good man.\\n',\n",
       "       'Denny: It doesn�t matter!\\n', 'Cut to a long tracking shot of the Golden Gate Bridge.\\n',\n",
       "       'Lisa: Okay, bye.\\n', 'Johnny: You think about everything, ha-ha.\\n', 'Mark: Oh, hey Peter.\\n',\n",
       "       'Lisa: Just one more time.\\n',\n",
       "       'Johnny: I did not hit her! It�s not true! It�s bullshit! I did not hit her! I did not! (he throws a water bottle to the floor) Oh, hi Mark.\\n',\n",
       "       'Cut to the Disney store, where Johnny is walking.\\n',\n",
       "       'Claudette: Don�t throw your life away just because you don�t love him! That�s ridiculous! You need to grow up. And you need to listen to me.\\n',\n",
       "       'Johnny: Oh hi, Denny.\\n', 'Lisa: Johnny�s okay. But I found somebody else.\\n',\n",
       "       'Lisa: Hi guys. What�s going on?\\n', 'They exit.\\n', 'Lisa: Who is it?\\n',\n",
       "       'Johnny: Oh hi, Mike, what�s new?\\n', 'Johnny: I kill you, you bastard.\\n',\n",
       "       'Michelle enters in time to see Mark shirtless before he finally manages to dress himself.\\n',\n",
       "       'Lisa: Why not?\\n', 'Lisa: Actually I�m really busy. Do you want something to drink?\\n',\n",
       "       'Susan: Great, sure.\\n', 'Michelle: Lisa, remember what I told you.\\n',\n",
       "       'Denny: Can I go upstairs too?\\n', 'Susan brings the drinks.\\n',\n",
       "       'Johnny: Why did you do this? You know better, right? Why?!\\n', 'Lisa: There is no baby.\\n',\n",
       "       'Mark: Wait! Hang on.\\n', 'Denny: I�m sorry. It won�t happen again, I promise.\\n',\n",
       "       'Lisa gets up and heads upstairs.\\n',\n",
       "       'Lisa: She�s a stupid bitch. She wants to control my life. I�m not going to put up with that. I�m going to do what I want to do, and that�s it. What do you think I should do?\\n',\n",
       "       'Lisa: Don�t worry about Johnny, he�s just being a big baby. You know, I love you very much.\\n',\n",
       "       'Lisa: Bye, Denny.\\n', 'Michelle: Johnny�s so excited about this wedding.\\n',\n",
       "       'Michelle: Lisa, we�re not worried about you. We�re worried about Johnny. You don�t understand the psychological impact of what you�re doing here. You�re hurting yourself. You�re hurting our friendship.\\n',\n",
       "       'Johnny: What happened now, Mark?\\n', 'Denny: I just like to watch you guys.\\n',\n",
       "       'Michelle: Is he disappointed?\\n', 'Johnny: You tramp!\\n',\n",
       "       'Mike: Um, actually, Johnny, I got, I got a little bit of a tragedy on my hands, yeah. Me and Michelle, we were, we were making out, uh, at your place�\\n',\n",
       "       'Lisa: Look, I really don�t know what to do. I love Mark. I don�t have any more feelings for Johnny.\\n',\n",
       "       'Lisa: What kind of drugs, Denny?\\n',\n",
       "       'Johnny sits down. Cut to Lisa reemerging from the stairs in the red dress.\\n',\n",
       "       'Denny and Johnny exit with the football.\\n', 'Johnny: Bye, Lisa. (he pecks her on the cheek)\\n',\n",
       "       'Johnny: Hot chocolate, please.\\n', 'Everybody exits except for Lisa and Mark.\\n',\n",
       "       'Lisa: Hey everybody! Let�s go inside and eat some cake.\\n', 'Johnny: Oh hi, Claudette. Bye!\\n',\n",
       "       'Michelle: How much time do we have?\\n', 'Johnny: Unh-unh. I have to go now.\\n',\n",
       "       'Johnny: Pretty good, yeah, you�d be qualified.\\n', 'Lisa: You�re not dying, mom.\\n',\n",
       "       'Mark: What�s going on?\\n', 'Johnny: You have nice legs, Lisa. Ha-ha.\\n',\n",
       "       'Lisa: I�m fine, come in. Have a seat. (they are silent while she pours wine and offers it)\\n',\n",
       "       'Lisa: I know. He�s your best friend.\\n', 'Lisa: I don�t want to talk about it.\\n',\n",
       "       'Johnny: You must be crazy. I cannot drink this.\\n',\n",
       "       'Denny: I�m not sorry! (gibberish) Studying, right? (more gibberish) I don�t study like that.\\n',\n",
       "       'Cut to the room, where Lisa is sweeping. The doorbell rings.\\n', 'Fade to black and roll credits.\\n',\n",
       "       'Michelle: Hi Johnny.\\n', 'Florist: Can I help you?\\n',\n",
       "       'Denny: You�re right. Thanks for paying my tuition.\\n',\n",
       "       'Johnny: (attacking Mark) Since when do you give me orders?\\n',\n",
       "       'Claudette: Hello? What are these characters doing here?\\n', 'Mark: I gotta go.\\n',\n",
       "       'Mark: Okay. Alright, what do you want to talk about?\\n',\n",
       "       'Denny: When I graduate from college, get a good job, I want to marry her and have kids with her.\\n',\n",
       "       'Mark: Whatever, dude. Come on.\\n', 'Mark: Wow, so, uh, you gonna be ready?\\n', 'Claudette: Oh.\\n',\n",
       "       'Mark: Go! Go deep!\\n', 'Denny: Do you want to play some football?\\n',\n",
       "       'Mark: I mean the candles, the music, the sexy dress, I mean, what�s going on here?\\n',\n",
       "       'Denny: I gotta go. You�ll tell him I stopped by.\\n', 'Mark (recording): What�s going on?\\n',\n",
       "       'Lisa: What kind of money?\\n', 'Mark: I don�t think so. I�m leaving now.\\n',\n",
       "       'Lisa: Who are you calling a bitch?\\n',\n",
       "       'Cut to gratuitous footage of a cable car in downtown San Francisco.\\n',\n",
       "       'Claudette: She wants to buy a new house, and so I asked Johnny if he could help her with the down payment. All he can tell me is it�s an awkward situation. I expected your husband to be a little more generous.\\n',\n",
       "       'Johnny: I am, sure.\\n'], dtype=object)"
      ]
     },
     "execution_count": 166,
     "metadata": {},
     "output_type": "execute_result"
    }
   ],
   "source": [
    "trn_texts"
   ]
  },
  {
   "cell_type": "code",
   "execution_count": 19,
   "metadata": {
    "scrolled": true
   },
   "outputs": [],
   "source": [
    "df_trn = pd.DataFrame({'text':trn_texts, 'labels':0})\n",
    "df_val = pd.DataFrame({'text':val_texts, 'labels':0})\n",
    "\n",
    "df_trn.to_csv(LM_PATH/'train.csv', header=False, index=False)\n",
    "df_val.to_csv(LM_PATH/'test.csv', header=False, index=False)"
   ]
  },
  {
   "cell_type": "code",
   "execution_count": 20,
   "metadata": {},
   "outputs": [
    {
     "data": {
      "text/plain": [
       "array(['Mark: You serious?\\n', 'Lisa: Where�s Johnny?\\n', 'Denny: Lisa�s your future wife!\\n',\n",
       "       'Mark: If you�d keep your girl satisfied, she wouldn�t come to me!\\n',\n",
       "       'Mark: Aw, come on, why not?\\n', 'Michelle: What?!\\n',\n",
       "       'Lisa: Mom, this is Michelle�s boyfriend Mike. Mike, this is my mother.\\n',\n",
       "       'Steven: I feel like I�m sitting on an atomic bomb waiting for it to go off.\\n',\n",
       "       'Mike: Yeah, uh-huh.\\n', 'Claudette: Well, you should be happy then.\\n', 'Mark: Hello?\\n',\n",
       "       'Claudette: Oh, why not?\\n', 'Peter: Alright, that�s it, I�m done. Great idea, Denny.\\n',\n",
       "       'Claudette: Well, what are you going to do?\\n',\n",
       "       'Denny: I�m sorry. It won�t happen again, I promise.\\n', 'Claudette: Who? Who is it?\\n',\n",
       "       'Johnny enters the living room\\n',\n",
       "       'Peter: Look, I�m just your friend, and I�m just worried about you.\\n',\n",
       "       'Lisa: (sobbing) Oh my god�\\n', 'Lisa: How do you mean that? I�m always ready. For you.\\n',\n",
       "       'Johnny: Medium.\\n', 'Mark: Oh, really?\\n',\n",
       "       'Johnny: Denny, two�s great, but three�s a crowd, ha-ha.\\n', 'Mike: Oh, God!\\n',\n",
       "       'Mark: Yes, he�s dead. Yes he�s dead!\\n', 'Lisa: You can bring someone if you want.\\n',\n",
       "       'Mark: Don�t worry about it, man.\\n', 'Johnny enters the room.\\n', 'Denny: I owe him some money.\\n',\n",
       "       'Mike: Alright, whatever, whatever.\\n',\n",
       "       'Johnny: Of course, what do you think? They already put my ideas into practice. The bank saves money, and they are using me, and I am the fool.\\n',\n",
       "       'Johnny: Do you, do you have some secrets? Why don�t you tell me?\\n', 'Denny: Hey Johnny.\\n',\n",
       "       'Johnny: What makes you say that?\\n', 'Lisa: Why not?\\n', 'Claudette: Bye!\\n', 'Lisa: Okay, bye.\\n',\n",
       "       'Claudette: You don�t know. If you think I�m tired today, wait till you see me tomorrow.\\n',\n",
       "       'Lisa: I already ordered a pizza.\\n', 'Johnny: You and your stupid mother.\\n',\n",
       "       'Flashback of Lisa and Johnny kissing.\\n', 'Lisa: What about his zipper?\\n',\n",
       "       'Johnny: Aughhhhhhhh!!! (he hurls the tape player against the wall) Everybody betray me. I don�t have a friend in the world.\\n',\n",
       "       'Lisa: No!\\n', 'Michelle: Tricky tricky.\\n', 'Lisa: Well, I don�t want to marry him anymore.\\n',\n",
       "       'Lisa: You look really tired today, mom. Are you feeling okay?\\n', 'Lisa: Of course.\\n',\n",
       "       'Johnny: M-hm.\\n', 'Mike: I�m going out.\\n', 'Mark: You want some? It�s good, bro.\\n',\n",
       "       'Denny: I�m sorry.\\n', 'Lisa: You sure about that? Maybe I�ll change my mind.\\n',\n",
       "       'Claudette: Oh, that was not nothing!\\n', 'Lisa: Isn�t it fabulous?\\n', 'Mark: Catch me, come on.\\n',\n",
       "       'Denny: Hey, what�s up, Mark?\\n', 'Mark: No.\\n',\n",
       "       'Cut to the party, where a random couple is eating cake.\\n',\n",
       "       'Michelle: Lisa, we�re not worried about you. We�re worried about Johnny. You don�t understand the psychological impact of what you�re doing here. You�re hurting yourself. You�re hurting our friendship.\\n',\n",
       "       'Mark (recording): What�s going on?\\n',\n",
       "       'Mark: What are you doing? I mean, are you crazy? Everybody�s here.\\n',\n",
       "       'Opening credits play against generic footage of Johnny stalking about San Francisco\\n',\n",
       "       'Lisa: Mom, please, Denny�s with me and Johnny!\\n',\n",
       "       'Lisa: Okay, okay. Johnny�s going to be here any minute. You can wait if you want.\\n',\n",
       "       'Denny: Oh hey, Peter, come on in.\\n', 'Cut to a tracking shot of the Golden Gate Bridge.\\n',\n",
       "       'Johnny: You betrayed me, you�re not good, you�re just a chicken, cheep-cheep-cheep-cheep-cheep.\\n',\n",
       "       'Claudette: I know, but Johnny is part of our family.\\n', 'Mike enters.\\n',\n",
       "       'Peter: Look. You should tell her the truth. I mean you�re doing this for your girl, right?\\n',\n",
       "       'Claudette: When is it?\\n', 'Flashback to Johnny and Lisa having sex.\\n',\n",
       "       'Lisa: Want to help me move the coffee table?\\n', 'Denny exits.\\n', 'Everyone giggles.\\n',\n",
       "       'Everyone exits enthusiastically. Michelle looks pained.\\n',\n",
       "       'Denny exits, and a three-minute love scene commences, scored to terrible R&B. There�s a lot of water and rose petals and naked boobs. Johnny fucks Lisa�s belly button. Afterwards they lie awkwardly in bed together, and Lisa seems bored with Johnny as he sleeps.\\n',\n",
       "       'Mark: What?\\n',\n",
       "       'Mark: (long pause) Women, man. Women just confuse me. Ahhh. I have a girl. She�s married, I mean she�s very attractive, it�s driving me crazy.\\n',\n",
       "       'Lisa: Hi mom, how are you?\\n', 'Johnny: Just a little something.\\n', 'Denny: Whoa.\\n',\n",
       "       'Michelle: You think you can get it all from Mark?\\n', 'Mark: Alright, see ya.\\n',\n",
       "       'Denny: She�s beautiful. She looks great in a red dress. I think I�m in love with her.\\n',\n",
       "       'Exterior shot of Johnny�s car pulling up outside his house\\n',\n",
       "       'Denny: I just need to borrow some sugar.\\n',\n",
       "       'Claudette: Well, sure, I can come. But I don�t know if I�ll bring anybody. Oh! That jerk Harold. He wants me to give him a share of my house. That house belongs to me. He has no right. I�m not giving him a penny. Who does he think he is?\\n',\n",
       "       'Lisa: Hey baby, how are you doing?\\n', 'Cut to a coffee shop.\\n',\n",
       "       'Denny: Why, Johnny? Why? Johnny, why? Why?\\n', 'Michelle: Lisa, remember what I told you.\\n',\n",
       "       'Everyone helps Peter up and exits.\\n', 'Mark: How can you be sure? Come on, Lisa.\\n',\n",
       "       'Mark: Look, we�ll talk about it later. I told you, I�m very busy.\\n',\n",
       "       'Mark: Hey guys. You like it?\\n', 'Johnny: Yeah.\\n', 'Male Barista: Alright.\\n',\n",
       "       'Denny and Johnny exit with the football.\\n',\n",
       "       'Mark: Why did you do this to me? Why? Johnny�s my best friend.\\n',\n",
       "       'Claudette: Well, you can�t do that. Have you talked to him about it?\\n',\n",
       "       'Peter: Tell me about your problems, Johnny.\\n', 'Lisa: I�ve got some candles upstairs.\\n',\n",
       "       'Mike: I dunno, uh, a couple hours? At least.\\n', 'Lisa: I don�t want to talk about it!\\n',\n",
       "       'Lisa: So I�m organizing the party for Johnny�s birthday. Can you come?\\n',\n",
       "       'Lisa: Don�t worry about it. You just concentrate on getting well.\\n',\n",
       "       'Mark: Who the hell do you think you are?\\n',\n",
       "       'Denny: I know she doesn�t like me because sometimes she�s mean to me, but sometimes when I�m around her, I feel like I want to kiss her and tell her I love her. I don�t know. I�m just confused.\\n',\n",
       "       'Johnny: Absolutely. Three o�clock?\\n',\n",
       "       'Johnny: Alright, alright. Okay, folks, everything is fine. Fight is over, folks. I�m sorry, Mark.\\n',\n",
       "       'Mark: What? Well did you?\\n', 'Mark: I don�t think so. It�s an awkward situation.\\n',\n",
       "       'Denny: Do you need to see a doctor?\\n',\n",
       "       'Johnny: How can they say this about me? I don�t believe it. I show them. I will record everything.\\n',\n",
       "       'Johnny: A-ha-ha-ha. You must be kidding, aren�t you?\\n',\n",
       "       'Susan: Hi, how you doing? What would you like?\\n',\n",
       "       'Denny takes a bite of an apple, then follows them upstairs.\\n',\n",
       "       'Denny: Fine. I have homework to do anyway. Bye, lovebirds!\\n', 'Lisa: It�s between us women.\\n',\n",
       "       'Mark: Yeah man, you never know. People are very strange these days. I used to know a girl, she had a dozen guys. One of them found out about it, beat her up so bad she ended up in a hospital on Guerrero Street.\\n',\n",
       "       'Johnny: Nah.\\n',\n",
       "       'Johnny: (incomprehensible gibberish) I don�t mind. Mark, do you remember the one with big tits, the blondie one?\\n',\n",
       "       'Johnny is clearly dead and blood is everywhere.\\n', 'Johnny: Who were you talking to?\\n',\n",
       "       'Johnny: That�s the idea.\\n', 'They exit.\\n', 'Denny: I don�t have anything.\\n',\n",
       "       'Lisa: He still won�t come out of the bathroom.\\n', 'Johnny: In a few minutes, bitch.\\n',\n",
       "       'Susan: Great, sure.\\n', 'Lisa: You are such a little brat!\\n', 'Johnny exits.\\n', 'Johnny: Nah.\\n',\n",
       "       'Johnny: Yeah, I�m sure.\\n',\n",
       "       'Michelle: Lisa! This isn�t right. You�re living with one guy and you�re sleeping with another guy?\\n',\n",
       "       'Denny: It�s nothing like that!\\n', 'Lisa gets up and heads upstairs.\\n', 'Johnny: I do. Ha-ha-ha.\\n',\n",
       "       'Denny: Okay. Tell him I said hello?\\n',\n",
       "       'Claudette: Everything is not okay. Denny, that is a dangerous man!\\n',\n",
       "       'Claudette: You expect to be happy. I haven�t been happy since I married my first husband. I didn�t even want to marry your father.\\n',\n",
       "       'Denny exits.\\n', 'Denny: You look really handsome.\\n', 'Peter: You look depressed.\\n',\n",
       "       'Mark: Hey. This will be our secret.\\n', 'Chris-R: Yeah, sure you have. You have my money, right?\\n',\n",
       "       'Johnny: Lisa, can, can you clean up here, please?\\n',\n",
       "       'Lisa: Because I love you. You just don�t care, do you?\\n', 'Lisa: Excuse me.\\n',\n",
       "       'Mark: Delivery man! It�s me, Lisa, come on, open up.\\n',\n",
       "       'Mark: Sure baby, come on up. I want your body.\\n',\n",
       "       'Cut to an alleyway, where Mike approaches Johnny.\\n',\n",
       "       'Mark: Oh, man, I just can�t figure women out. Sometimes they�re just too smart, sometimes they�re just flat-out stupid, other times they�re just evil.\\n',\n",
       "       'Lisa: We�ll talk about it now! Whenever you say we�ll talk about it later, we never do. I can�t wait till later. I want to talk right now. You owe me one anyway.\\n',\n",
       "       'Cut to an exterior shot of a church in San Francisco.\\n',\n",
       "       'Cut to a shot of a busy street at night.\\n', 'Lisa: No. I�m happy.\\n',\n",
       "       'Johnny: (shoving Mark into a table) What do you want from me, hunh?\\n',\n",
       "       'Denny: What kind of movie are we going to see?\\n', 'Steven: I agree with that.\\n',\n",
       "       'Claudette: Well it is time somebody ganged up on you, for god�s sake! A man like that! Where in the hell did you meet a man like that?\\n',\n",
       "       'Mark and Johnny fight.\\n', 'Enter Denny\\n',\n",
       "       'Mark exits. Peter also exits. Denny crouches to the floor. Lisa also crouches to the floor.\\n',\n",
       "       'Michelle: You don�t feel guilty about this at all.\\n', 'Lisa: I can�t talk right now.\\n',\n",
       "       'Peter: Hi Lisa.\\n', 'Lisa: Don�t spoil it, we were just having fun.\\n',\n",
       "       'Mark: You think girls like to cheat like guys do?\\n',\n",
       "       'Mark: Look, you�re very attractive, alright? You�re beautiful. But we can�t do this anymore. I can�t hurt Johnny.\\n',\n",
       "       'Johnny: Wowwwwww.\\n', 'Florist: Bye bye!\\n', 'Lisa: Bye, Denny.\\n',\n",
       "       'Mark: God, I�m so tired of girls� games.\\n',\n",
       "       'In the bedroom, Johnny and Lisa start a pillow fight.\\n',\n",
       "       'Cut to the party, where Mark and Lisa are dancing. Johnny confronts them\\n', 'Lisa: I don�t know.\\n',\n",
       "       'Florist: Oh hi, Johnny, I didn�t know it was you. Here you go.\\n',\n",
       "       'Lisa: If you love me, you�ll drink this.\\n', 'Mark: It�s not that easy, Johnny.\\n',\n",
       "       'Mark: What are you talking about?\\n', 'Steven: What�s going on here?\\n', 'Mark: I gotta go.\\n',\n",
       "       'Denny: Alright. Let�s toss the ball around.\\n',\n",
       "       'Johnny: Lisa is teasing me about whether we are going to get married or not. And we didn�t make love in a while. And I don�t know what to do.\\n',\n",
       "       'Mark: Betty?\\n', 'We see Johnny is straining to hear this through the bathroom door.\\n',\n",
       "       'Johnny: Yeah, the barbecue chicken was delicious, rice, that was cool.\\n',\n",
       "       'Johnny sits down. Cut to Lisa reemerging from the stairs in the red dress.\\n',\n",
       "       'Mark: So, I mean, what�s the interesting part?\\n',\n",
       "       'Claudette: Don�t throw your life away just because you don�t love him! That�s ridiculous! You need to grow up. And you need to listen to me.\\n',\n",
       "       'Mark hands off the football to Johnny and exits.\\n', 'Susan: How about you?\\n',\n",
       "       'Lisa: What kind of drugs, Denny?\\n', 'Johnny: Oh hi, Susan.\\n',\n",
       "       'Denny: I bought some drugs off of him. Things got mixed up. I didn�t mean for this to happen.\\n',\n",
       "       'Peter: Hey guys.\\n', 'Denny: Catch it, come on, man.\\n',\n",
       "       'Cut to the party, where various characters and non-characters are engaged in fake conversations. Johnny and Claudette are discussing something. Lisa is flirting with Steven, a character we�ve never seen before who is actually a last-minute replacement for Peter. Mark is watching them. Lisa and Mark exchange flirty looks. Johnny seems concerned. Mike and Michelle are flirting with another couple. Michelle and Mike start feeding each other cake.\\n',\n",
       "       'Mark: Well I�m just sitting up here thinking, you know? I got a question for you.\\n',\n",
       "       'Michelle: Uh-huh.\\n', 'Mark: What are you doing this for?\\n', 'Mark exits.\\n',\n",
       "       'Johnny: Hi babe! I have something for you.\\n',\n",
       "       'Steven: Do you understand what you�re doing? You�re going to destroy Johnny. He�s very sensitive.\\n',\n",
       "       'Lisa: I know. I am right. Don�t worry about those fuckers. You�re a good man. Drink and let�s have some fun.\\n',\n",
       "       'He playfully hides the package, then presents it to Lisa. She opens it to find a red dress.\\n',\n",
       "       'Mark: I dunno. I dunno, I�m just, I�m just thinking.\\n', 'Mark sighs and takes a drag.\\n',\n",
       "       'They exit upstairs, speaking barely audibly\\n', 'Johnny: What�s bothering you, Mark?\\n',\n",
       "       'Johnny: Whatever. Do you guys want to eat something?\\n',\n",
       "       'Johnny: I treat you like a princess, and you stab me in the back. I love you, and I did anything for you to just please you, and now you betray me! How could you love him?!\\n',\n",
       "       'Johnny opens the door to leave and Claudette enters.\\n',\n",
       "       'Chris-R: Where�s my fucking money, Denny?\\n', 'Peter: Tell me about it.\\n',\n",
       "       'Johnny: Don�t talk like that. What do you mean?\\n', 'Denny enters, with a football.\\n',\n",
       "       'Lisa: Uh-huh.\\n', 'Denny: Do you want to play some football?\\n',\n",
       "       'Mark: You devil. You planned this all along.\\n', 'Lisa (recording): You got it.\\n',\n",
       "       'Claudette: Oh.\\n', 'Mark and Lisa embrace.\\n',\n",
       "       'Denny: I just needed some money to pay off some stuff.\\n',\n",
       "       'The doorbell rings. Denny answers it. Mark enters, clean-shaven and wearing a tux.\\n',\n",
       "       'Steven: How can you do this? You make me sick.\\n', 'Peter: No.\\n',\n",
       "       'Cut to another tracking shot of the Golden Gate Bridge.\\n', 'Johnny: Ha-ha-ha.\\n',\n",
       "       'Michelle: What about his zipper?\\n', 'Michelle: So how�s Johnny?\\n',\n",
       "       'Mark: Nah man, you don�t know her.\\n', 'Lisa: I like you very much, loverboy.\\n',\n",
       "       'Denny: Leave us! Both of you leave.\\n',\n",
       "       'Johnny: That�s too bad. My Lisa is great when I can get it.\\n',\n",
       "       'Claudette: Unh. Oh, all that shopping wore me out.\\n',\n",
       "       'Lisa: Quite a bit. He got drunk last night. And he hit me.\\n', 'Johnny: Oh hi, Denny.\\n',\n",
       "       'Johnny: You always think. A-ha-ha. Alright, I�m ready.\\n', 'Mark: Come on! Come on! Come on!\\n',\n",
       "       'Mark: Yeah, you can say that again.\\n',\n",
       "       'Johnny: I never hit you. You shouldn�t have any secrets from me. I�m your future husband.\\n',\n",
       "       'Johnny: Why Lisa, why Lisa, please talk to me, please! You�re part of my life, you are everything, I could not go on without you, Lisa.\\n',\n",
       "       'Peter: Hey, Mark. What�s up?\\n', 'Johnny: Don�t touch me, motherfucker! Get out.\\n',\n",
       "       'Michelle: Me too. There�s no simple solution to this.\\n', 'Denny: I�m fine. What�s new?\\n',\n",
       "       'Mark: Hi. How you doing?\\n', 'Denny: What�s wrong with Mark?\\n', 'Lisa: It�s from Johnny.\\n',\n",
       "       'Mark: No, forget it, I�ll talk to you later!\\n',\n",
       "       'Mark: (holding a football) Oh hey Johnny, what�s up?\\n', 'Johnny: A-ha-ha.\\n',\n",
       "       'Johnny: Denny, don�t worry about it. You are part of our family, and we love you very much. And we will help you anytime. And Lisa loves you too. As a friend. You are sort of like her son.\\n',\n",
       "       'Cut to Mark and Lisa dashing into the bedroom to find Johnny�s bloody corpse.\\n',\n",
       "       'Johnny descends the staircase and tediously installs a primitive tape recorder under the phone, then exits upstairs.\\n',\n",
       "       'Denny: When I graduate from college, get a good job, I want to marry her and have kids with her.\\n',\n",
       "       'Denny: Come on, Mark, let�s do it.\\n', 'Lisa: Next Friday at six. It�s a surprise.\\n',\n",
       "       'Claudette: I got the results of the test back. I definitely have breast cancer.\\n',\n",
       "       'They fight some more.\\n', 'Johnny: No I can�t. Anyway, how is your sex life?\\n',\n",
       "       'Lisa: I just finished talking to my mom. She gave me this big lecture about Johnny.\\n',\n",
       "       'Lisa: He�s not my husband.\\n',\n",
       "       'Johnny: Why? Why is this happening to me? Why?! It�s over. God, forgive me.\\n',\n",
       "       'Denny: It doesn�t matter, I don�t have them anymore.\\n',\n",
       "       'Michelle: Lisa, I have to talk to you. You have got to be honest with Johnny.\\n', 'Denny enters.\\n',\n",
       "       'Mark: No. Definitely not an expert, Johnny.\\n', 'Peter: Lisa? Are you sure?\\n',\n",
       "       'Cut to a shot of the San Francisco skyline.\\n',\n",
       "       'Lisa: Please don�t leave. Please don�t leave. I need you. I love you. I don�t want to get married anymore. I don�t love Johnny. I dream about you. I need you to make love to me.\\n',\n",
       "       'Michelle: Your point of view is so different from mine.\\n', 'Lisa exits downstairs.\\n',\n",
       "       'Michelle: I don�t understand you, Lisa.\\n', 'Peter: It�s a good place to think up here, isn�t it?\\n',\n",
       "       'Mark: I do care!\\n',\n",
       "       'Cut to exterior shot of the house. Johnny is approaching. He picks up the paper.\\n',\n",
       "       'Claudette: You know I worry about you. I have to go home.\\n', 'Johnny: Not always!\\n',\n",
       "       'Claudette: I understand, sweetheart. I�m going to go home now. Bye bye. You can call me if you need me.\\n',\n",
       "       'Mark: You�re sure you�re okay.\\n', 'Mark: Go! Go deep!\\n', 'Mark: In the kitchen. I gotta go.\\n',\n",
       "       'Johnny: Did you like last night?\\n', 'Michelle: Lisa!\\n',\n",
       "       'Lisa: Denny, what kind of money, just tell me!\\n', 'Lisa: Tell me everything!\\n', 'Johnny: Go on.\\n',\n",
       "       'Johnny: Ha-ha!\\n',\n",
       "       'Johnny: Mark, why don�t you take him home? And Mike, listen, if you need anything, call me anytime, alright? Are you alright?\\n',\n",
       "       'Mark: Hey, who are you calling a kid? Fuck you!\\n',\n",
       "       'Cut to the room, where Lisa is sitting as Johnny enters.\\n',\n",
       "       'Johnny: You must be crazy. I cannot drink this.\\n', 'Mike: Yeah, I�m fine!\\n',\n",
       "       'Mark: That�s not the point.\\n',\n",
       "       'Johnny: You�re very welcome, Denny, and keep in mind, if you have any problems, talk to me, and I will help you.\\n',\n",
       "       'Lisa: Don�t worry about Johnny, he�s just being a big baby. You know, I love you very much.\\n',\n",
       "       'Johnny: Here you go, keep the change. Hi doggy!\\n',\n",
       "       'Lisa: Hey everybody! Let�s go inside and eat some cake.\\n',\n",
       "       'Michelle: Johnny�s so excited about this wedding.\\n',\n",
       "       'Flashback to Lisa saying �I put up with you�\\n', 'Lisa: What is it?\\n',\n",
       "       'Lisa: Denny, are you okay? What did that man want from you?\\n',\n",
       "       'Johnny: Wow, you look so sexy, Lisa.\\n', 'Mike: Yeah, sorry you had to see that.\\n',\n",
       "       'Johnny: Why not?\\n',\n",
       "       'Michelle: Lisa, you�re going to have to face it. I for one am going to have a hard time forgiving you if you don�t.\\n',\n",
       "       'The doorbell rings.\\n',\n",
       "       'Lisa: I am happy. Look, Denny, I need to talk to Johnny. Okay? I�ll see you later.\\n',\n",
       "       'Mark inexplicably shoves Mike into a trashcan.\\n',\n",
       "       'Johnny: What are you doing? What�s going on here?\\n',\n",
       "       'Susan: Well, hi Johnny. How are you? Good to see you. What would you like?\\n',\n",
       "       'Johnny and Mark haul Chris-R away amid indecipherable commotion.\\n',\n",
       "       'Johnny: That son of a bitch told me that I would get it within three months. I save them bundles. They�re crazy. I don�t think I will ever get it. They betray me, they didn�t keep their promise, they tricked me, and I don�t care anymore.\\n',\n",
       "       'Mike: Nah.\\n', 'Johnny: What makes you say that?\\n',\n",
       "       'Mike: Um, actually, Johnny, I got, I got a little bit of a tragedy on my hands, yeah. Me and Michelle, we were, we were making out, uh, at your place�\\n',\n",
       "       'Peter: Yeah, I�m fine. Let�s just talk about your problem.\\n',\n",
       "       'Cut to exterior shot of the house. Johnny�s car pulls up.\\n',\n",
       "       'Lisa: Because I�m in love with Mark, not Johnny. And here I am, planning his party.\\n',\n",
       "       'Johnny: He doesn�t.\\n', 'Mark: Hey Johnny, how�s it going?\\n',\n",
       "       'Johnny: A-ha-ha-ha! What a story, Mark!\\n',\n",
       "       'Claudette: I�m sure I�ll be alright. Oh! I heard Edward is talking about me. He is a hateful man. Oh, I�m so glad I divorced him.\\n',\n",
       "       'Lisa: You got it. I�m on my way. Bye.\\n', 'Lisa: I don�t care. I�m in love with Mark.\\n',\n",
       "       'Lisa: Please don�t tell anybody.\\n', 'Johnny: You must be kidding. Underwear, I got the picture.\\n',\n",
       "       'Michelle: Arms up! (she takes off Mike�s shirt) Chocolate is a symbol of love.\\n',\n",
       "       'Johnny: But you�re a psychologist. Do you have some advice?\\n',\n",
       "       'Lisa: Actually I�m really busy. Do you want something to drink?\\n', 'Lisa: You�re not dying, mom.\\n',\n",
       "       'Cut to an exterior shot of the painted ladies.\\n',\n",
       "       'Denny materializes behind Lisa, then proceeds to stare out the window for some reason.\\n',\n",
       "       'Peter: This is Lisa we�re talking about?\\n',\n",
       "       'Cut to the room, where Mike and Michelle are startled by Lisa and Claudette entering.\\n',\n",
       "       'Mark kicks over a chair and a table.\\n', 'Johnny exits.\\n',\n",
       "       'Lisa: Johnny�s okay, I suppose. Actually, I have him wrapped around my little finger.\\n',\n",
       "       'Everyone laughs.\\n', 'Johnny and Claudette are chatting. Mark and Lisa are arguing.\\n',\n",
       "       'Johnny: Hello Michelle. I heard you. What secret?\\n',\n",
       "       'Johnny: It�s not over! Everybody betray me! I fed up with this world!\\n',\n",
       "       'Denny: Come on! Cheep-cheep-cheep-cheep-cheep! (Johnny and Mark join in)\\n',\n",
       "       'Johnny: Do you understand life? Do you?\\n', 'Lisa: Stop it!\\n',\n",
       "       'Johnny: Unh-unh. I have to go now.\\n',\n",
       "       'Lisa: Okay, mom, I�ll see you at the party. I just need to be alone right now.\\n',\n",
       "       'Cut to a car parking in Golden Gate Park. Johnny exits to find Mark.\\n', 'Mark and Mike exit\\n',\n",
       "       'Mark: Whatever, dude. Come on.\\n', 'Cut to an exterior panning shot of the Golden Gate Bridge.\\n',\n",
       "       'Lisa: He did last night. And I don�t love him anymore.\\n',\n",
       "       'Denny: I also need a cup of flour and half a stick of butter.\\n',\n",
       "       'Johnny: Oh, thank you. Yeah, thanks a lot.\\n',\n",
       "       'Johnny: I�m so happy I have you as my best friend, and I love Lisa so much.\\n',\n",
       "       'Mark: I mean the candles, the music, the sexy dress, I mean, what�s going on here?\\n',\n",
       "       'Johnny: Well, you should be happy, Mark.\\n',\n",
       "       'Johnny: (shoving Mark) Maybe I know more than you think I do, Mark!\\n',\n",
       "       'Lisa: Hi, Mark? I need to talk to you.\\n',\n",
       "       'Lisa: Johnny, it�s beautiful. Thank you. Can I try it on now?\\n', 'Lisa: Yes I did.\\n',\n",
       "       'Johnny dry-humps the dress amid flashbacks of fucking Lisa when she was wearing it.\\n',\n",
       "       'Mark: I gotta work early. See ya.\\n',\n",
       "       'Claudette: She wants to buy a new house, and so I asked Johnny if he could help her with the down payment. All he can tell me is it�s an awkward situation. I expected your husband to be a little more generous.\\n',\n",
       "       'Lisa: Look. I don�t want to talk about it. People are going to be getting here soon and we have to finish.\\n',\n",
       "       'Mark: I don�t think so. I�m leaving now.\\n', 'Denny: I�m just kidding! I love you and Johnny.\\n',\n",
       "       'Mark: What client?\\n', 'They proceed to toss the football around in close quarters, like you do.\\n',\n",
       "       'Johnny and Michelle enter.\\n', 'Mark and Johnny enter.\\n',\n",
       "       'Mark: Alright, it�s on me. By the way, do you want to go jogging? Golden Gate Park?\\n',\n",
       "       'Cut to a cable car on a busy street in the daytime.\\n',\n",
       "       'Cut to the room, where Johnny and Peter are talking.\\n', 'Johnny: Sure, we are.\\n',\n",
       "       'Lisa (recording): Hi, Mark? I need to talk to you.\\n', 'They exit together.\\n',\n",
       "       'Mark: What�s going on?\\n',\n",
       "       'Lisa: I don�t see what the big deal is. Doesn�t everybody look out for number one? Don�t I deserve the best?\\n',\n",
       "       'Johnny: Well, what happened? Remember Betty? That�s her name?\\n',\n",
       "       'Lisa: What kind of drugs do you take?!\\n',\n",
       "       'Claudette: You don�t want to talk about it. Then why did you bring it up in the first place?\\n',\n",
       "       'Mark: Leave him, alright! Let him be with him!\\n',\n",
       "       'Claudette: I cleaned up the kitchen, sweetheart, so you don�t have to worry about that.\\n',\n",
       "       'Claudette: I�m okay, how are you?\\n', 'Lisa: Are you coming to the party?\\n',\n",
       "       'Cut to exterior shot of a hilly San Francisco street. Johnny�s car pulls up to a flower shop.\\n',\n",
       "       'Cut to Claudette entering the bedroom to find Lisa.\\n', 'Denny: Hey Johnny! Hey Mike!\\n',\n",
       "       'Everyone exits.\\n', 'Denny: Your wedding picture�s gonna look great.\\n',\n",
       "       'Peter: Yeah, you�ve got to establish these guidelines before you get married. Speaking of, how�d you ever meet Lisa? You never told us.\\n',\n",
       "       'Johnny exits with the roses and gets in his car.\\n',\n",
       "       'Johnny: Oh, hi Denny. Nice tux, you look great.\\n', 'Michelle: You�ve got to tell Johnny.\\n',\n",
       "       'Johnny: Did you get a new dress?\\n', 'Mark: Nothing, man.\\n', 'Claudette: What homework?\\n',\n",
       "       'Lisa: Wait. I have something I want to show you.\\n', 'Johnny: Yeah.\\n',\n",
       "       'Johnny: What�s she talking about?\\n',\n",
       "       'Mark: You don�t understand anything, man. Leave your stupid comments in your pocket!\\n',\n",
       "       'Cut to a dark room. Johnny enters and turns on the lights to find the whole cast.\\n',\n",
       "       'Denny: What do you mean?\\n',\n",
       "       'Peter: It�s a complicated situation, Johnny. I mean you�re my friend. I don�t want to get between you and Lisa. Look. If you want to, you should confront her.\\n',\n",
       "       'Mike: �and, uh, Lisa and Claudette sort of, uh, walked in on us in the middle of it. That�s not the end of the story.\\n',\n",
       "       'Claudette: What�s this?\\n', 'Denny: Okay. Just give me five minutes. Just give me five!\\n',\n",
       "       'Lisa: There is no baby.\\n',\n",
       "       'Johnny: Hey everybody! I have an announcement to make. We�re expecting!\\n',\n",
       "       'Mike: Okay. We�re going at it, and um, I get out of there as fast as possible, you know, I get my pants, I get my shirt, and I get out of there. And then about halfway down the stairs, I realize that I have misplaced, I�ve forgotten something. Um, my underwear.\\n',\n",
       "       'Johnny: We�ll see about that.\\n', 'Denny: Come on, Peter.\\n',\n",
       "       'Lisa: We have plenty of time. All I have to do is put on my party dress.\\n',\n",
       "       'Cut to exterior shot of the San Francisco skyline.\\n', 'Lisa: How much?!\\n',\n",
       "       'Chris-R: Five minutes? You want five fucking minutes, Denny? You know what? I haven�t got five fucking minutes! (he pulls a gun on Denny) I�m going to ask you again, Denny. Where�s my money?\\n',\n",
       "       'Lisa: I just think I should be alone with him right now.\\n',\n",
       "       'Male Barista: Yeah, sounds good. Why don�t you guys have a seat, we�ll have that right out for you.\\n',\n",
       "       'They move the coffee table.\\n',\n",
       "       'Johnny: You can love someone deep inside your heart, and there is nothing wrong with it. If a lot of people loved each other, the world would be a better place to live.\\n',\n",
       "       'Flashback to Lisa trying on the dress.\\n', 'Johnny: You tramp!\\n', 'Lisa: It�s a surprise.\\n',\n",
       "       'Mark: Well when can we meet about that?\\n',\n",
       "       'Mike puts a chocolate in Michelle�s mouth and then makes out with her. He puts a chocolate on her chest and eats it off of her.\\n',\n",
       "       'Cut to the famous �painted ladies� of San Francisco.\\n',\n",
       "       'Johnny exits. Cut to an exterior daytime shot of the house, then to the living room. Lisa answers the door, and Claudette enters.\\n',\n",
       "       'Lisa: (laughing) Don�t worry about it.\\n',\n",
       "       'Johnny: Well that�s a very interesting story, when I moved to San Francisco with two suitcases and I didn�t know anyone and I have, uh, I head to YMCA with a $2000 check which I could not cash.\\n',\n",
       "       'Michelle attacks Lisa with a pillow. A strange pillow vs broom fight ensues.\\n',\n",
       "       'Johnny: Denny, don�t worry about that. Lisa loves you too. As a person, as a human being, as a friend. You know people don�t have to say it. They can feel it.\\n',\n",
       "       'Denny joins in and gets clobbered as everyone laughs.\\n', 'Johnny enters the bedroom.\\n',\n",
       "       'Michelle: Yeah, but we�re not talking about me, are we?\\n', 'They shake hands.\\n',\n",
       "       'Lisa (recording): I know, he�s not worth it. Why don�t I come up there and be with you?\\n',\n",
       "       'Claudette: Sure. I suppose so.\\n', 'Mark: Wait, what are you doing?\\n',\n",
       "       'Denny: It doesn�t matter!\\n', 'Everybody exits except for Lisa and Mark.\\n', 'Lisa: I know.\\n',\n",
       "       'Denny: Wake up, Johnny, please, please! It�s not right! It�s not right!\\n',\n",
       "       'Johnny: (attacking Mark) Since when do you give me orders?\\n',\n",
       "       'Lisa: Denny, he�s in a better place.\\n', 'Denny: Gee Peter, you�re clumsy.\\n',\n",
       "       'Johnny: Denny, do you have something else to do?\\n', 'Denny: Oh hey, guys.\\n',\n",
       "       'Michelle: Lisa, are you feeling okay? Because this is just getting worse and worse.\\n',\n",
       "       'Mark: Hey, I�m thinking of moving to a bigger place, man, I�m making some good money.\\n',\n",
       "       'Peter: I�m not doing it this year.\\n', 'Mark: Forget it! Forget it, dude!\\n',\n",
       "       'Lisa: (laughing) Stop it! Are you trying to ruin my party?\\n',\n",
       "       'Johnny: Bye, Lisa. (he pecks her on the cheek)\\n', 'Steven: When is the baby due?\\n',\n",
       "       'Claudette: You don�t want to talk to me.\\n',\n",
       "       'Cut to the room. Michelle and Mike enter, nervously.\\n', 'Mark: Okay. Alright, how about noon?\\n',\n",
       "       'Johnny: Shoot, Denny.\\n', 'Johnny: Are you okay?\\n', 'Denny: Awesome. Thanks, Johnny.\\n',\n",
       "       'Mark: Maybe late afternoon?\\n',\n",
       "       'Johnny: You�re lying, I never hit you. You are tearing me apart, Lisa!\\n', 'Denny: I�m okay!\\n',\n",
       "       'Johnny: Well, whatever.\\n', 'Lisa: Hey everybody, let�s go outside for some fresh air.\\n',\n",
       "       'Johnny: Let�s go home, Denny.\\n',\n",
       "       'Michelle: You guys are too much. So, uh, what can I do to help?\\n',\n",
       "       'Lisa: Oh, Denny, Denny, Denny boy!\\n', 'Peter: In tuxes? No, you gotta be kidding.\\n',\n",
       "       'Johnny: He�s cranky today. A-ha-ha-ha. Girl trouble, I guess. What�s new with you?\\n',\n",
       "       'Peter: No, I don�t smoke that stuff.\\n', 'Claudette: Doesn�t your home have a kitchen?\\n',\n",
       "       'Mark: Tomorrow?\\n', 'Johnny: Yeah.\\n', 'Lisa: Hello mom, how are you?\\n', 'Mark: Thank you.\\n',\n",
       "       'Denny: Nothing.\\n', 'Mark (recording): Sure baby, come on up. I want your body.\\n',\n",
       "       'Denny: You okay? Are you okay?\\n', 'Cut to the bedroom. Lisa and Mark enter.\\n',\n",
       "       'Claudette: If I were a burglar, you would be my best friend.\\n',\n",
       "       'Lisa: Mom, stop, it was Denny�s mistake, just stop!\\n',\n",
       "       'Susan: You�re welcome. How about something like cheesecake?\\n',\n",
       "       'Steven: What are you talking about?\\n',\n",
       "       'They proceed to kiss, then have fully clothed three-minute sex on the spiral stairs to the tune of terrible R&B (�you are my rose�).\\n',\n",
       "       'Mark: Johnny�s dead!\\n', 'Mark: Leave her alone, man, she doesn�t want to talk to you.\\n',\n",
       "       'Claudette: Johnny is your financial security. You can�t afford to ignore this.\\n',\n",
       "       'Steven: It�s over! It�s over!\\n',\n",
       "       'Cut to Johnny and Mark running in the woods and muttering at each other.\\n',\n",
       "       'Claudette: Please, don�t hurt Johnny. Now if you really don�t love him, so be it, but you should tell him.\\n',\n",
       "       'Lisa: No. Mark�s his best friend.\\n',\n",
       "       'Lisa: You know, it�s getting really hot in here. Why don�t we go back outside?\\n',\n",
       "       'Peter: Okay� um� what do you mean?\\n',\n",
       "       'Claudette: You�ve known him for over five years. You�re engaged. You said you loved him. He supports you, he provides for you, and darling, you can�t support yourself. He�s a wonderful man, and he loves you very much. And his position is very secure. And he told me he plans to buy you a house.\\n',\n",
       "       'Johnny: Oh hey, Peter.\\n', 'Johnny and Mark enter.\\n', 'Peter: Yeah!\\n',\n",
       "       'Mark: You�re so beautiful.\\n', 'Mark: Let�s go.\\n',\n",
       "       'Lisa laughs hysterically. Johnny drops and shatters a glass.\\n', 'Lisa: You�re scaring me.\\n',\n",
       "       'Denny sobs. Mark and Lisa, who were in the process of leaving, rejoin Denny and comfort him. We hear police sirens. The three of them appear to take turns fellating Johnny�s corpse as we hear generic police chatter.\\n',\n",
       "       'Flashback of Lisa and Johnny having sex.\\n',\n",
       "       'Lisa: What�s the matter? Don�t you like me? I�m your girl?\\n',\n",
       "       'Mark: Yeah. Yeah, maybe you�re right. Maybe I have one already. I don�t know yet.\\n',\n",
       "       'Mark enters.\\n', 'Johnny: I cannot tell you, it�s confidential.\\n',\n",
       "       'Lisa: Denny, don�t ask a question like that!\\n', 'Lisa: I�ll be waiting for you. Bye.\\n',\n",
       "       'Mike: I forgot my, uh, book.\\n',\n",
       "       'Cut to Johnny�s car pulling onto a residential street and parking in front of his house. Johnny and Mark exit the car.\\n',\n",
       "       'Denny: Hi Lisa.\\n', 'Johnny: Are you okay, Denny?\\n', 'Johnny: Oh, thanks.\\n',\n",
       "       'Johnny retrieves the tape from the recorder (or something; the technical process here makes very little sense).\\n',\n",
       "       'Claudette exits.\\n',\n",
       "       'Claudette: How many people come in and out of this apartment every day? This is worse than Grand Central Station!\\n',\n",
       "       'Mark: Goddammit man, fuck. Why do you want to know my secret, man? Well you�re right! It�s Lisa. I don�t know what to do, man. I�m so depressed. It�s all her fault, she�s such a manipulative bitch!\\n',\n",
       "       'They kiss.\\n', 'Mark: So, uh, what do you want to show me?\\n',\n",
       "       'Johnny: Yeah I�m sure, I overheard a conversation between Lisa and her mother. What should I do, Peter?\\n',\n",
       "       'Michelle: Is he disappointed?\\n', 'Denny: You�re not my fucking mother!\\n',\n",
       "       'Claudette: Hello? What are these characters doing here?\\n', 'Chris-R: Hey, Denny.\\n',\n",
       "       'Susan: Go sit down, we�ll be right there.\\n',\n",
       "       'Cut to the room, where Michelle and Lisa are talking. Lisa�s neck is bulging throughout this scene, which means very few people have ever heard the dialogue.\\n',\n",
       "       'Johnny: Yeah, sure, what time?\\n', 'Mike and Michelle exit.\\n',\n",
       "       'Johnny: Why did you do this? You know better, right? Why?!\\n', 'Mark: Don�t call me that.\\n',\n",
       "       'Denny: But I don�t have them anymore.\\n',\n",
       "       'Lisa (recording): Don�t worry about Johnny, he�s just being a big baby. You know, I love you very much. You�re the sparkle of my life (this is a deviation from the original conversation, you�ll note). I can�t live without you. I love you.\\n',\n",
       "       'Cut to Lisa in the room, talking on the phone.\\n', 'Lisa: But I don�t love him!\\n',\n",
       "       'Claudette: I didn�t get much sleep last night.\\n', 'Johnny: Mhm. A-ha-ha.\\n',\n",
       "       'Johnny: Get out of my house! I kill you, I [incomprehensible]!\\n', 'Lisa: (sighing) Oh my god.\\n',\n",
       "       'Johnny: Ha-ha yeah, �can you marry me?�, ha-ha, I thought I would take her up on it, ha-ha.\\n',\n",
       "       'Lisa: You know, you�re not such an angel yourself.\\n',\n",
       "       'Johnny: A-ha-ha. I�m tired, I�m wasted, I love you darling!\\n',\n",
       "       'Johnny exits to the kitchen. Lisa enters.\\n', 'Lisa: You didn�t get it, did you?\\n',\n",
       "       'Johnny: That�s me! How much is it?\\n', 'Johnny: That�s life.\\n',\n",
       "       'Johnny: You little tramp. How could you do this to me?! I gave you seven years of my life! And you betray me. Let�s see what else we have on this tape.\\n',\n",
       "       'He plays the tape.\\n', 'Denny: Yeah. It�s coming. It�ll be here in a few minutes.\\n',\n",
       "       'Denny: Put the gun down.\\n', 'Peter: How the hell did you let this happen?\\n',\n",
       "       'Mark: I mean for the party.\\n', 'Mark: Hey, Denny, what�s up?\\n',\n",
       "       'Johnny: It seems to me like you�re the expert, Mark!\\n',\n",
       "       'Cut to the Disney store, where Johnny is walking.\\n', 'Lisa: Can I get you anything?\\n',\n",
       "       'Steven: I don�t believe it.\\n', 'Michelle: How much time do we have?\\n',\n",
       "       'Lisa: How much do you have to give him?\\n',\n",
       "       'Mark: I got this sick feeling in my stomach, man. I did something awful. I don�t think I can forgive myself.\\n',\n",
       "       'Mark: Wait! Hang on.\\n', 'Michelle: Hi Mark. XYZ.\\n',\n",
       "       'Claudette: Well it�s true. All men are assholes. Men and women use and abuse each other all the time, there�s nothing wrong with it. Marriage has nothing to do with love.\\n',\n",
       "       'Cut to the alley, where Johnny, Mark, Peter, and Denny are throwing around the football in tuxedos.\\n',\n",
       "       'Johnny: Hi.\\n', 'Peter: People are people. Sometimes they just can�t see their own faults.\\n',\n",
       "       'Denny: Stop ganging up on me!\\n', 'Johnny: A-ha-ha.\\n',\n",
       "       'Peter: You guys proved my point. You�re both weird. You guys want to play cards?\\n',\n",
       "       'Cut to the fountain by the Exploratorium, where Johnny is out walking.\\n',\n",
       "       'Mark: What�s going on here?\\n', 'Johnny: Oh hey, Denny.\\n', 'They hang up.\\n',\n",
       "       'Michelle: Did you tell Johnny yet?\\n',\n",
       "       'Johnny: (removing sunglasses) Yeah, can I have a dozen red roses, please?\\n',\n",
       "       'Denny: Chris-R. I�ve been looking for you.\\n',\n",
       "       'Everyone: Surprise! (they all sing Happy Birthday while Johnny says things like �wow�, �okay�, and �thank you�)\\n',\n",
       "       'Peter shoves Mark away.\\n', 'Johnny: Let�s take him to the police.\\n',\n",
       "       'Claudette exits downstairs. Lisa tries to open the bathroom door, but it�s locked.\\n',\n",
       "       'Denny: Gotta tell you about something.\\n', 'Lisa: I�m not feeling good today.\\n',\n",
       "       'Lisa: Did you tell them how much you save them?\\n', 'Mark: What? No tips from your job?\\n',\n",
       "       'Everyone laughs some more.\\n',\n",
       "       'Cut to the roof, where Denny is dribbling a basketball. This scene is in HD for some reason. Chris-R enters.\\n',\n",
       "       'Lisa: You can come out now, Johnny. She�s gone.\\n', 'Johnny: Unhhh�\\n',\n",
       "       'Cut to panning shot of the nighttime San Francisco skyline.\\n', 'She slaps him.\\n',\n",
       "       'Johnny: You drive me crazy.\\n', 'Lisa: Who is it?\\n', 'Denny exits.\\n',\n",
       "       'Patron 1: I wanna get a slice of cheesecake and a bottle of water.\\n',\n",
       "       'Johnny: What are you doing?\\n',\n",
       "       'Cut to gratuitous footage of a cable car in downtown San Francisco.\\n',\n",
       "       'Claudette: This is not the way you make money!\\n',\n",
       "       'Lisa: Yeah, delivery. 555-4828. Half Canadian bacon with pineapple, half artichoke with pesto and light on the cheese. Thanks.\\n',\n",
       "       'Mark: Yeah.\\n',\n",
       "       'Johnny knocks over some more stuff and shatters a mirror. He sits on the floor and picks up Lisa�s red dress.\\n',\n",
       "       'Claudette: You listen to me, boy!\\n',\n",
       "       'They get on the couch, and Lisa drapes her legs across Mark�s lap.\\n', 'Johnny and Mark sit down.\\n',\n",
       "       'Mark: Shit, alright?\\n', 'Lisa: I still love you.\\n', 'Mike: No, don�t�\\n',\n",
       "       'Chris-R: My fucking money! Where�s my fucking money, Denny?\\n',\n",
       "       'Lisa: Uh, he just brought by some takeout.\\n', 'Denny: I just like to watch you guys.\\n',\n",
       "       'Johnny: I kill you, you bastard.\\n', 'She takes Mark�s shirt off.\\n', 'They both chuckle.\\n',\n",
       "       'Lisa: What the hell is wrong with you?!\\n', 'Johnny: Ha-ha-ha. A-ha-ha-ha. Mmm.\\n',\n",
       "       'Cut to Johnny re-entering the bedroom, howling incomprehensibly. He knocks stuff off the dresser, pulls out all the drawers, and shoves it over. He pulls all the sheets off the bed. He flings himself on the bed.\\n',\n",
       "       'Denny: Calm down, he�s going to jail!\\n', 'Cut to the skyline at night.\\n',\n",
       "       'Claudette: What�s wrong? Tell me.\\n',\n",
       "       'Mark: I just feel like, like running. I�m killing myself. Something crazy like that.\\n',\n",
       "       'Mark: It�s none of your business, man. You think you know everything. You don�t know shit.\\n',\n",
       "       'Cut to the roof. Peter enters. Mark is sitting on the roof, clad entirely in denim, smoking what might be a joint.\\n',\n",
       "       'Mark enters.\\n', 'Lisa: No. I don�t know what to do.\\n',\n",
       "       'Peter: Who are you calling a chicken? I just don�t like all the weirdos, there�s too many weirdos there.\\n',\n",
       "       'Lisa: You�re wrong! Mom, he�s not what you think he is. He didn�t get his promotion. And he got drunk last night. And he hit me.\\n',\n",
       "       'Johnny: They never say what they mean, and they always play games.\\n', 'Lisa: (sobbing) Denny�\\n',\n",
       "       'Lisa: Okay, mom.\\n', 'Denny: Bye.\\n',\n",
       "       'Claudette: Sweetheart, he�s upset. Now Johnny is a sensible man. He will come out, you will discuss this, everything is going to be okay.\\n',\n",
       "       'Fade to black and roll credits.\\n', 'Johnny: You look great. You look a babyface.\\n',\n",
       "       'Lisa: I am not responsible for Johnny. I�m through with that. I�m changing. I have the right, don�t I? People are changing all the time. I have to think about my future. What�s it to you?\\n',\n",
       "       'Johnny: I have my own problems.\\n', 'Mark: Sorry. Sorry man, you okay?\\n',\n",
       "       'Lisa: I don�t love him anymore.\\n', 'Lisa: Hi guys. What�s going on?\\n', 'Denny: It�s about Lisa.\\n',\n",
       "       'Lisa: You�re going to ruin the party.\\n', 'Johnny: Yeah, I�m sorry.\\n',\n",
       "       'Denny: He�s just telling us about an underwear issue he had.\\n',\n",
       "       'Lisa: Hey Denny. Denny, this is my mom. Mom, this is Denny.\\n',\n",
       "       'Patron 4: Can I get a bagel with a [inaudible]?\\n',\n",
       "       'Mark: (laughs) You guys are too much. Hey are you running, uh, Bay to Breakers this year?\\n',\n",
       "       'Lisa: I don�t want to talk about it.\\n', 'Mark: Yeah, I know. Life is too short.\\n',\n",
       "       'Cut to the room.\\n', 'Johnny: You know better, Denny, you almost got killed.\\n',\n",
       "       'Johnny: Oh hi, Denny.\\n', 'Johnny: No we can�t. I expect Lisa any minute.\\n',\n",
       "       'Mike takes the underwear and exits as everyone continues to laugh.\\n',\n",
       "       'Johnny: Ha-ha-ha, chicken, Peter, you�re just a little chicken! Cheep, cheep cheep cheep cheep chee-ee-ee-eep eeeeeeeeeeee!\\n',\n",
       "       'Johnny: (shoving Lisa down onto the couch) How dare you talk to me like that! You should tell me everything!\\n',\n",
       "       'Michelle: I can�t believe you�re telling me this. It�s Mark, isn�t it? Lisa, you know, you�re just thinking about yourself. Somebody�s going to get hurt. You�ve got to be honest with Johnny.\\n',\n",
       "       'Denny enters, wearing a tux and carrying a football.\\n',\n",
       "       'Lisa: I can�t do that. He would be devastated.\\n',\n",
       "       'They sit on the couch and Mike opens a box of chocolates.\\n', 'Susan: Are you sure?\\n',\n",
       "       'Lisa: You don�t understand.\\n', 'Mike: It�s embarrassing, man, I don�t want to get into it.\\n',\n",
       "       'Denny: What�s happening?!\\n', 'They start making out.\\n',\n",
       "       'Lisa: I love you, Johnny. (she rips open his shirt)\\n',\n",
       "       'Johnny toasts with everyone amid various celebratory mumblings. He offers Denny a drink, which Denny says he�ll accept later.\\n',\n",
       "       'Mark: I mean, why do you ask me? You know, you�ve been very happy with Johnny. What do you want me to say? I mean, you should enjoy your life. What�s the problem?\\n',\n",
       "       'Mark: Johnny�s my best friend. You�re going to be married next month. Come on.\\n',\n",
       "       'Lisa: It�ll be fine. What are you so worried about? Everything�s okay.\\n',\n",
       "       'Lisa: This is so pretty, I can�t wait for you to get it off of me.\\n',\n",
       "       'Johnny: We�ll see about that.\\n', 'Mark: Whose baby is it? Is it mine?\\n',\n",
       "       'Denny enters, passing Mark.\\n', 'Lisa: I will. Thanks, mom.\\n', 'Johnny: Oh god, I have to run.\\n',\n",
       "       'Mark: I can�t talk about it.\\n', 'Random dude: Lisa looks hot tonight.\\n',\n",
       "       'Claudette: It�s not right, Lisa. I still think you should marry Johnny. Now you can�t live on love. You need financial security.\\n',\n",
       "       'Michelle: Well, let�s have some fun.\\n',\n",
       "       'Johnny: Let�s go eat, hunh? Come on, let�s go. Let�s go. I�m starving.\\n',\n",
       "       'Lisa: What kind of money?\\n', 'Mark: Okay. Alright, what do you want to talk about?\\n',\n",
       "       'They make out on the couch, and then we cut to the bedroom for a lovemaking sequence that seems to be recut from their previous lovemaking sequence, but with a different terrible R&B song. Mercifully, it only lasts for about a minute.\\n',\n",
       "       'Denny: Well� I love her.\\n',\n",
       "       'Lisa: Denny, you know that Johnny�s like your father. And we�re your friends. We�re going to help you.\\n',\n",
       "       'Denny: Wow! Look at you!\\n', 'Mark: Hey come on, man, who�s the king of the house?\\n',\n",
       "       'Male Barista: What size?\\n', 'Peter: Why didn�t you mention this before? Is it anyone I know?\\n',\n",
       "       'Lisa puts her shirt on but Mark is still struggling with this task.\\n', 'Mark: Alright, see you.\\n',\n",
       "       'Peter: You�ve got a lot of faith in Lisa. Sometimes, life gets complicated. The unexpected can happen. When it does, you just gotta deal with it.\\n',\n",
       "       'Mark: Why not?\\n',\n",
       "       'Claudette: Well, of course I�m right. I know men! I wasn�t born yesterday. I�m glad you�re listening to your mother. Nobody else listens to me.\\n',\n",
       "       'They proceed to play short-distance catch with the football while talking.\\n', 'Lisa: Stop it!\\n',\n",
       "       'Johnny: I would do anything for my girl.\\n',\n",
       "       'Peter: Listen, who do you think you are? You�re acting like a kid. Just grow up.\\n',\n",
       "       'Lisa: Leave him alone, he�s a good guy.\\n',\n",
       "       'Lisa: I just got done talking with a client, and I have to get ready to meet him. Can I just talk to you later?\\n',\n",
       "       'Lisa drops the broom and takes her shirt off.\\n', 'Lisa: Yeah.\\n',\n",
       "       'Lisa: Denny, look at me in the eyes and tell me the truth. We�re your friends.\\n',\n",
       "       'Lisa: I told him that to make it interesting. We�re probably going to have a baby eventually anyway. You�re not going to tell Johnny, are you?\\n',\n",
       "       'Lisa: They like to come here to do their� homework.\\n', 'Mark: Son of a bitch.\\n',\n",
       "       'Mike: So I come back to get it, I pretend that I need a book, you know, I�m like looking for my book, and then I reach and put the underwear in my pocket, sort of slide out real quick. Well Claudette, she saw it sticking out of my pocket, so she pulls it out, and she�s, uh, showing everybody me underwears.\\n',\n",
       "       'Lisa: Just one more time.\\n', 'Johnny: Is there some secret, tell me.\\n',\n",
       "       'Michelle: Well who is he?\\n', 'Mark: Golden Gate Park, 6:30.\\n',\n",
       "       'Lisa: Hurry up, I have to open the door.\\n', 'We see that Johnny is listening from the staircase.\\n',\n",
       "       'Everyone exits.\\n', 'Peter: Am I wrong?\\n',\n",
       "       'Flashback of Lisa laughing with Johnny�s tie around her head.\\n',\n",
       "       'Lisa: Look, I don�t want to talk about it. I�m going to go upstairs, and wash up, and go to bed.\\n',\n",
       "       'Cut to the Embarcadero, where Johnny is walking.\\n',\n",
       "       'Lisa: I�ve lost him, but I still have you, right? Right?\\n', 'Claudette: Well, why not?\\n',\n",
       "       'Johnny: You�re right, Peter. Ha-ha. Is she getting a divorce, Mark?\\n', 'Johnny: Shut up!\\n',\n",
       "       'Johnny: I don�t drink, you know that!\\n', 'Cut to the room.\\n',\n",
       "       'Lisa: I�m doing what I want to do.\\n', 'Johnny: You�re right, it tastes good. A-ha.\\n',\n",
       "       'Michelle places a chocolate in Mike�s mouth and then makes out with him. She starts to go down on him, although he begins reacting with comically exaggerated orgasm faces before she�s in position to do anything.\\n',\n",
       "       'They start making out. Someone knocks on the door. They bolt upright and start putting their shirts on.\\n',\n",
       "       'Claudette: A man like that, with a gun! My god!\\n', 'Michelle: Are you okay?\\n',\n",
       "       'Susan: Take your time.\\n',\n",
       "       'Michelle: Lisa, you�re sounding just like your mother. You�re being so manipulative.\\n',\n",
       "       'Johnny: Peter, you always play psychologist with us!\\n',\n",
       "       'Claudette: Well, I�m glad you�re listening to your mother. Listen, I�ve gotta go. But you remember what I told you, okay? M-hm. Bye bye now.\\n',\n",
       "       'Claudette: What�s clear? I am going to call the police.\\n',\n",
       "       'Lisa: Denny, I think I�m gonna join him.\\n',\n",
       "       'Lisa: You know, I really loved Johnny at first. Everything�s changed. I need more from life than what Johnny can give me. Suddenly my eyes are wide open and I can see everything so clearly. I want it all.\\n',\n",
       "       'Cut to an exterior street shot in San Francisco.\\n', 'Lisa: He didn�t get his promotion.\\n',\n",
       "       'Johnny: Anything for my princess! Ha-ha-ha-ha.\\n',\n",
       "       'Lisa: Thanks honey, they�re beautiful. Did you get your promotion?\\n',\n",
       "       'Mark: Come on, stop, it was a mistake.\\n',\n",
       "       'Cut to Lisa emerging from the kitchen with, it seems, scotch and vodka.\\n',\n",
       "       'Lisa: Maybe, you�re right. Can I see you tomorrow?\\n',\n",
       "       'Johnny: You think about everything, ha-ha.\\n',\n",
       "       'Johnny: Get out, get out, get out of my life! Agh!\\n',\n",
       "       'Johnny: I have a serious problem with Lisa. Um, I don�t think she�s faithful to me. In fact I know she isn�t.\\n',\n",
       "       'Mark: Since Lisa changed her mind about you. Wake up, man, what planet are you on?\\n',\n",
       "       'Cut to the roof. Johnny enters, mid-sentence.\\n',\n",
       "       'Johnny: I have a problem with Lisa. She says that I hit her.\\n',\n",
       "       'Lisa: Wait right here. (she grabs Johnny�s tie and kisses him) I�ll try it on right now.\\n',\n",
       "       'Johnny: Hey.\\n', 'Claudette: Bye bye.\\n', 'Lisa: You never told me that!\\n',\n",
       "       'She hangs up, and the doorbell rings.\\n', 'Mark: (laughs) No.\\n',\n",
       "       'Peter tries to go deep, but instead trips and falls.\\n',\n",
       "       'Lisa: Don�t worry about it. It�s good for you.\\n', 'Lisa: Come on in.\\n',\n",
       "       'Lisa: What�s the matter? Are you alright? It�s just a lousy promotion. You know what you need? You need a drink.\\n',\n",
       "       'Johnny: Well we�ll see� Denny, don�t plan too much. It may not come out right.\\n',\n",
       "       'Lisa: I�m just wanting to hear your sexy voice. I keep thinking about your strong hands around my body. It excites me so much. I love you.\\n',\n",
       "       'Mark: You couldn�t kill me if you tried.\\n', 'Peter: (laughs) What man does? What�s the problem?\\n',\n",
       "       'Denny: Can I go upstairs too?\\n', 'Mark: I never ate so much.\\n', 'Johnny: Oh hi, Claudette. Bye!\\n',\n",
       "       'Johnny: Go on, I�m listening.\\n', 'Lisa: (laughing) You have nice pecs.\\n', 'Mark: Oh, hey Lisa.\\n',\n",
       "       'Lisa: No they�re not. They�re all outside.\\n', 'Johnny: I love you, Lisa.\\n',\n",
       "       'Patron 2: Um, I�ll have a large peanut butter cup with extra whipped cream, please?\\n',\n",
       "       'They make out some more. Steven enters.\\n',\n",
       "       'Claudette: I�m fine, how are you? Hmmm? Okay, let�s go to the couch, and we will sit down. Now, what�s happening with you? Hmmm?\\n',\n",
       "       'He tears the dress up.\\n', 'Lisa: You�re probably right about that, mom.\\n', 'Lisa: Okay, bye.\\n',\n",
       "       'Lisa: It�s hot in here. (she unbuttons the top of her blouse) Do you mind?\\n', 'Wiseau Films logo\\n',\n",
       "       'Mike: Did you, uh, know, that chocolate is the symbol of love?\\n', 'Johnny: That�s the idea!\\n',\n",
       "       'Claudette: Homework!\\n', 'Denny: Are you sure?\\n', 'Cut to a shot of the Disney store at night.\\n',\n",
       "       'Michelle: Don�t worry. You can trust me. Your secret is safe with me.\\n', 'Johnny: Go on.\\n',\n",
       "       'Lisa: At least you have friends. I didn�t get any calls today. You�re right. The computer business is too competitive. Do you want me to order a pizza?\\n',\n",
       "       'Mark: Bye.\\n', 'Johnny: I am, sure.\\n',\n",
       "       'Claudette: Well, he�s a wonderful person. And he�s getting a promotion very soon. Now he bought you a car, he bought you a ring, clothes, whatever you wanted, and now you want to dump him. That�s not right. I�ve always thought of him as my son-in-law. You should marry Johnny, he would be good for you.\\n',\n",
       "       'Claudette: It matters a great deal! A man holds a gun on you, you almost got killed, you expect me to forget that happened?\\n',\n",
       "       'Mark: Hello?\\n', 'Mark has materialized behind Claudette and Lisa.\\n', 'Lisa: Goodnight, Johnny.\\n',\n",
       "       'Johnny: You bitch! You bitch!\\n',\n",
       "       'Mark: Relationships never work, man, I don�t know why I waste my time.\\n',\n",
       "       'The doorbell rings. Denny answers it. Peter enters, wearing a tux.\\n', 'Lisa: What�s going on?!\\n',\n",
       "       'Mark: I�ll have the mint tea.\\n', 'Claudette: You can�t be serious.\\n',\n",
       "       'Lisa: I know. He�s not worth it. Why don�t I come up there and be with you?\\n',\n",
       "       'Lisa: Is he dead? (sobbing) My god, Mark, is he dead?\\n', 'Lisa: Stop asking me stupid questions!\\n',\n",
       "       'Denny: You look good too.\\n',\n",
       "       'He grabs a book but somehow this leads to Claudette holding his underwear.\\n',\n",
       "       'Johnny: Thank you, honey. This is a beautiful party. You invited all my friends. Good thinking!\\n',\n",
       "       'Mark attacks Johnny. Steven, Lisa, et al pull them apart.\\n',\n",
       "       'Lisa: Yeah, okay mom. Can I just talk to you later?\\n',\n",
       "       'Michelle: Well, if you care so much for him, why cheat on him?\\n',\n",
       "       'Johnny: Don�t worry about it. I still love you. Goodnight, Lisa.\\n', 'Mark: Yeah, me too.\\n',\n",
       "       'Johnny: I think you should leave right now, Mark.\\n',\n",
       "       'Lisa: Look, don�t worry about it. Everything will be fine. They�re curing lots of people every day.\\n',\n",
       "       'Mark: Wake up, Johnny, come on!\\n', 'Male Barista: Sure.\\n', 'Lisa: Didn�t you enjoy it?\\n',\n",
       "       'Lisa: I love him.\\n', 'Lisa: His best friend. And he lives in this building.\\n',\n",
       "       'Johnny: You�re my future wife. What are you doing, Lisa?\\n', 'Susan brings the drinks.\\n',\n",
       "       'Peter: Nah, I don�t think so.\\n', 'Lisa: I guess you�re right about that.\\n',\n",
       "       'Johnny: Right on, yeah.\\n',\n",
       "       'They drink. Cut to later, when they have had quite a bit to drink and Lisa is now wearing Johnny�s tie as a headband.\\n',\n",
       "       'Johnny: Ha-ha-ha-ha.\\n', 'Lisa: No guilt-trips.\\n',\n",
       "       'Denny: Are you sure you have plenty of time? It�s only a month away.\\n',\n",
       "       'Lisa: Why are you so hysterical?!\\n', 'Lisa: Forget about Johnny. This is between you and me.\\n',\n",
       "       'Michelle: Hi! I brought the stuff.\\n', 'Cut to Mark on the phone with Lisa.\\n',\n",
       "       'Mark: You don�t have me. You�ll never have me. You killed him.\\n',\n",
       "       'Michelle: Okay. What was he doing here?\\n',\n",
       "       'Lisa: So what? You can learn something from me. You have to take as much as you can. You have to live, live, live. Don�t worry about me. I have everything covered.\\n',\n",
       "       'Lisa: Mom, I don�t love Johnny anymore. I don�t even like him. I had sex with someone else.\\n',\n",
       "       'Fade to black.\\n', 'Denny: I�ll come back later.\\n',\n",
       "       'Michelle: Something awful is going to happen.\\n',\n",
       "       'Johnny: Well the interesting part is that on our first date, she paid for dinner.\\n',\n",
       "       'Patron 3: And I�ll take a cheesecake and a coffee.\\n',\n",
       "       'Johnny: Yeah. (answers the door) Oh hi, Mark. Come in.\\n',\n",
       "       'Johnny: Haughhhh-augh! Why, Lisa, why, why?!\\n', 'Lisa: He�s in the shower.\\n',\n",
       "       'Johnny: Sure, it�s yours.\\n', 'Lisa: No. I�ve got plenty of time.\\n', 'Denny enters.\\n',\n",
       "       'Claudette exits.\\n',\n",
       "       'Lisa: Look, I�m gonna tell him, okay? I just, I don�t want to ruin his birthday.\\n',\n",
       "       'Flashback to Lisa saying �goodbye, Johnny�\\n', 'Lisa: Help yourself, Denny.\\n',\n",
       "       'Peter: What are you, nuts? Gahhh!\\n', 'Denny: I owe him some money.\\n',\n",
       "       'Mark: Yeah, man. Yeah, you are very lucky.\\n',\n",
       "       'Claudette: It doesn�t matter? How in the hell did you get involved with drugs? What are you, giving them to him, selling them to him? Where the hell did you meet that man?\\n',\n",
       "       'Johnny: Hi babe. These are for you. (he presents a bouquet of roses)\\n',\n",
       "       'Lisa: (sarcastically) Thanks, mom.\\n',\n",
       "       'Claudette: You have no idea what kind of trouble you�re in here, do you?\\n',\n",
       "       'Lisa: He didn�t know what he was doing.\\n', 'Michelle: Examine your zipper!\\n', 'Johnny: A-ha.\\n',\n",
       "       'Lisa: Oh my god.\\n',\n",
       "       'Chris-R: Where�s my money, Denny? Where�s my fucking money, Denny? What�d you do with my fucking money?\\n',\n",
       "       'Johnny: Bye, Denny.\\n', 'Mike: I gotta go see Michelle in a little bit to make out with her.\\n',\n",
       "       'Denny: See you guys.\\n', 'Johnny exits upstairs.\\n', 'Mark: Fuck!\\n',\n",
       "       'Johnny: What happened now, Mark?\\n', 'Mike: It�s delicious!\\n', 'Johnny: Hot chocolate, please.\\n',\n",
       "       'Johnny: You mean she�s too old, or you think I will take her away from you? Hunh?\\n',\n",
       "       'Lisa: Hey Denny, how are you doing?\\n', 'Peter: I don�t know what to say.\\n',\n",
       "       'Mark: You really don�t know, do you?\\n', 'Lisa: Come on, make love to me.\\n', 'Lisa: Hey Mark.\\n',\n",
       "       'Mark: How was work today?\\n',\n",
       "       'Peter: You know this is going to ruin your friendship with Johnny? What were you thinking? Alright, you want my advice? Sometimes, life can get complicated, and you�ve got to be responsible. So you don�t see Lisa again, and you definitely don�t sleep with her again! Just find yourself another girl. She�s a sociopath! She only cares about herself. She can�t love anyone.\\n',\n",
       "       'Lisa: What kind of money?\\n', 'Lisa: No, of course not.\\n', 'Lisa: That�s why he�s so boring!\\n',\n",
       "       'Lisa: None of your business.\\n',\n",
       "       'Johnny: I did not hit her! It�s not true! It�s bullshit! I did not hit her! I did not! (he throws a water bottle to the floor) Oh, hi Mark.\\n',\n",
       "       'Cut to the room, where Johnny is wearing a tuxedo and talking on the phone.\\n',\n",
       "       'Denny: Johnny doesn�t seem very excited. Is there a problem?\\n',\n",
       "       'Lisa: What do you think? Women change their minds all the time.\\n',\n",
       "       'Mark: Underwear? What�s that?\\n', 'Johnny: Let�s go home.\\n',\n",
       "       'Flashback to Lisa saying �everything will be alright�\\n',\n",
       "       'Claudette: You remember my friend Shirley Hamilton?\\n',\n",
       "       'Claudette: A mistake, that he takes drugs.\\n',\n",
       "       'Cut to the room, where Lisa is sweeping. The doorbell rings.\\n', 'Michelle: (laughing) Feed me.\\n',\n",
       "       'Claudette: He�s always bugging me about my house. Fifteen years ago, we agreed, that house belongs to me. Now the value of the house is going up and he�s seeing dollar signs. Everything goes wrong at once. Nobody wants to help me, and I�m dying.\\n',\n",
       "       'Mark: Oh, hey, Johnny. Hey Peter!\\n', 'Mark slowly kisses Johnny�s forehead.\\n', 'Lisa: Nothing.\\n',\n",
       "       'Lisa: She�s a stupid bitch. She wants to control my life. I�m not going to put up with that. I�m going to do what I want to do, and that�s it. What do you think I should do?\\n',\n",
       "       'Lisa: Look, I really don�t know what to do. I love Mark. I don�t have any more feelings for Johnny.\\n',\n",
       "       'Peter: Why are you smoking that crap? It�s no wonder you can�t think straight. It�s gonna screw with your head.\\n',\n",
       "       'Claudette exits\\n', 'Claudette: What�s okay? He�s taking drugs.\\n', 'Denny: Denny!\\n',\n",
       "       'Mark: I just saw you! What are you talking about?\\n', 'Claudette: What do you need money for?\\n',\n",
       "       'Johnny: I don�t have to worry about that because Lisa is loyal to me.\\n', 'Denny: Catch, Mark!\\n',\n",
       "       'Michelle: I couldn�t do that. You�re too much for me, Lisa.\\n', 'Johnny: Let�s go home.\\n',\n",
       "       'Lisa: I�m fine, come in. Have a seat. (they are silent while she pours wine and offers it)\\n',\n",
       "       'Cut to an illuminated building on Columbus at night.\\n',\n",
       "       'Denny: No thanks. I just want to talk to Johnny. You look beautiful today. Can I kiss you?\\n',\n",
       "       'Mark: Yeah, we don�t see each other anymore. You know, she wasn�t any good in bed. She was beautiful, but we had too many arguments.\\n',\n",
       "       'Johnny: I don�t understand women. Do you, Peter?\\n',\n",
       "       'Mark: Yeah I�m looking for some offers in Sausalito. How are the [inaudible] like these days?\\n',\n",
       "       'Denny: I�m okay.\\n', 'Claudette: Bye bye, my precious.\\n',\n",
       "       'Lisa approaches Mark in her strapless black dress.\\n',\n",
       "       'Mark gets angry and ineffectively tries to push Peter off the roof.\\n',\n",
       "       'Patron 5: I�m gonna get a slice of cheesecake and a bottle of water.\\n', 'Johnny: Oh, yeahhh.\\n',\n",
       "       'Lisa: Nothing much. Do you want some coffee?\\n',\n",
       "       'Lisa: I didn�t mean to chase you off. You should stick around for a while.\\n',\n",
       "       'They bolt upright.\\n', 'Lisa: I don�t know. I don�t mind living with him.\\n',\n",
       "       'Mark: I do care. But we agreed, it�s over between us.\\n', 'Mark and Claudette exit.\\n',\n",
       "       'They exit.\\n', 'Lisa: He�s your brother!\\n', 'Steven: Why are you doing this?\\n',\n",
       "       'Mike: Not much.\\n', 'Lisa: Just shut up!\\n',\n",
       "       'They run side by side tossing the football in the park. There�s barely audible and completely uninteresting dialogue. They say �what�s new with you� a lot. Johnny wrestles Mark to the ground.\\n',\n",
       "       'Florist: Can I help you?\\n', 'Claudette exits. Cut to an exterior shot of the house.\\n',\n",
       "       'Lisa: I understand, it�s our secret. But I still have feelings for you. You just don�t care.\\n',\n",
       "       'Denny: You mean you�re not upset with me?\\n',\n",
       "       'Cut to the room, which Claudette and Lisa are entering.\\n',\n",
       "       'Johnny: You�re the only one who does.\\n', 'Florist: It�ll be eighteen dollars.\\n',\n",
       "       'Johnny: Nice to see you, Denny. I�m going to take a nap.\\n', 'Michelle: Hi Johnny.\\n',\n",
       "       'Denny: No, stop!\\n', 'Peter: Did you hear the door?\\n',\n",
       "       'Chris-R: What do you mean it�s coming, Denny? Where�s my money?\\n',\n",
       "       'Lisa: Come on, you owe me one.\\n',\n",
       "       'She takes off his shirt and the fourth terrible R&B-scored love scene commences. It goes on for about two minutes, full of half-hearted moaning, before cutting to black.\\n',\n",
       "       'She raises his glass to his mouth and he drinks.\\n',\n",
       "       'Barista 2: Okay, why don�t you guys have a seat? We�ll have that right out for you.\\n',\n",
       "       'Johnny: Whatever, I don�t care.\\n', 'Johnny picks up a box and opens it to reveal a handgun.\\n',\n",
       "       'Johnny: A-ha-ha! (incomprehensible gibberish) Ha-ha-ha! Ouch!\\n', 'Lisa: I�m leaving you, Johnny.\\n',\n",
       "       'Johnny: No, it�s not true! Don�t even ask! What�s new with you?\\n', 'Johnny: Ask Peter.\\n',\n",
       "       'The alarm clock goes off at :28. Johnny gets up, smells a rose, and bares his ass to the camera. He emerges from the bathroom dressed for work and greets Lisa.\\n',\n",
       "       'Steven: This is going to pull us all down. It�s going to shake up our group of friends. It�s going to destroy our friendship, Lisa. I don�t think Mark really loves you.\\n',\n",
       "       'Peter: (laughs)\\n',\n",
       "       'Lisa: But I�m not happy! He still thinks I�m gonna marry him next month. He�s a fool.\\n',\n",
       "       'Susan: Real good. Alright.\\n',\n",
       "       'Johnny: Oh, pretty good. We got a new client at the bank, we make a lot of money.\\n',\n",
       "       'Lisa: I�m fixing the apartment for Johnny�s birthday, but I�m really not into it.\\n',\n",
       "       'Lisa: He�s so boring.\\n', 'Lisa: Johnny�s okay. But I found somebody else.\\n',\n",
       "       'Mark: I don�t think so. Everything�s going to be fine, I promise.\\n',\n",
       "       'Denny: Just leave! Both of you!\\n', 'Johnny: Come on, it�s good for you, come on.\\n',\n",
       "       'Claudette: Okay. I will see you later. Bye bye.\\n', 'Denny: You guys want to play some football?\\n',\n",
       "       'Lisa: No. Stop. You little prick. I put up with you for seven years. You think you�re an angel. You�re just like everybody.\\n',\n",
       "       'Johnny: A-ha-ha.\\n',\n",
       "       'Johnny: I can�t confront her! I want to give her a second chance, after all, she�s my future wife. You know what they say: �love is blind.�\\n',\n",
       "       'Denny: Catch, Johnny! Alright, Peter! Here we go, Mark!\\n', 'Johnny: Let�s go for it.\\n',\n",
       "       'Claudette: Mm.\\n', 'Mark: Is Johnny there?\\n',\n",
       "       'Peter: Just chill out, Mark. I�m just trying to help. You�re having an affair with Lisa, aren�t you?\\n',\n",
       "       'Johnny: You have nice legs, Lisa. Ha-ha.\\n', 'Denny: Everything is okay, he�s gone!\\n',\n",
       "       'Mark: Come on, it�s clear.\\n', 'Mike: It�s a pleasure to meet you.\\n', 'Denny: Please?\\n',\n",
       "       'Peter: Yeah.\\n',\n",
       "       'The same room, later in the day. Lisa picks up the phone and Mark answers on the other end.\\n'],\n",
       "      dtype=object)"
      ]
     },
     "execution_count": 20,
     "metadata": {},
     "output_type": "execute_result"
    }
   ],
   "source": [
    "trn_texts"
   ]
  },
  {
   "cell_type": "markdown",
   "metadata": {},
   "source": [
    "## Language model tokens"
   ]
  },
  {
   "cell_type": "code",
   "execution_count": 21,
   "metadata": {},
   "outputs": [
    {
     "data": {
      "text/html": [
       "<div>\n",
       "<style scoped>\n",
       "    .dataframe tbody tr th:only-of-type {\n",
       "        vertical-align: middle;\n",
       "    }\n",
       "\n",
       "    .dataframe tbody tr th {\n",
       "        vertical-align: top;\n",
       "    }\n",
       "\n",
       "    .dataframe thead th {\n",
       "        text-align: right;\n",
       "    }\n",
       "</style>\n",
       "<table border=\"1\" class=\"dataframe\">\n",
       "  <thead>\n",
       "    <tr style=\"text-align: right;\">\n",
       "      <th></th>\n",
       "      <th>labels</th>\n",
       "      <th>text</th>\n",
       "    </tr>\n",
       "  </thead>\n",
       "  <tbody>\n",
       "    <tr>\n",
       "      <th>0</th>\n",
       "      <td>0</td>\n",
       "      <td>Mark: You serious?\\n</td>\n",
       "    </tr>\n",
       "    <tr>\n",
       "      <th>1</th>\n",
       "      <td>0</td>\n",
       "      <td>Lisa: Where�s Johnny?\\n</td>\n",
       "    </tr>\n",
       "    <tr>\n",
       "      <th>2</th>\n",
       "      <td>0</td>\n",
       "      <td>Denny: Lisa�s your future wife!\\n</td>\n",
       "    </tr>\n",
       "    <tr>\n",
       "      <th>3</th>\n",
       "      <td>0</td>\n",
       "      <td>Mark: If you�d keep your girl satisfied, she w...</td>\n",
       "    </tr>\n",
       "    <tr>\n",
       "      <th>4</th>\n",
       "      <td>0</td>\n",
       "      <td>Mark: Aw, come on, why not?\\n</td>\n",
       "    </tr>\n",
       "    <tr>\n",
       "      <th>5</th>\n",
       "      <td>0</td>\n",
       "      <td>Michelle: What?!\\n</td>\n",
       "    </tr>\n",
       "    <tr>\n",
       "      <th>6</th>\n",
       "      <td>0</td>\n",
       "      <td>Lisa: Mom, this is Michelle�s boyfriend Mike. ...</td>\n",
       "    </tr>\n",
       "    <tr>\n",
       "      <th>7</th>\n",
       "      <td>0</td>\n",
       "      <td>Steven: I feel like I�m sitting on an atomic b...</td>\n",
       "    </tr>\n",
       "    <tr>\n",
       "      <th>8</th>\n",
       "      <td>0</td>\n",
       "      <td>Mike: Yeah, uh-huh.\\n</td>\n",
       "    </tr>\n",
       "    <tr>\n",
       "      <th>9</th>\n",
       "      <td>0</td>\n",
       "      <td>Claudette: Well, you should be happy then.\\n</td>\n",
       "    </tr>\n",
       "    <tr>\n",
       "      <th>10</th>\n",
       "      <td>0</td>\n",
       "      <td>Mark: Hello?\\n</td>\n",
       "    </tr>\n",
       "    <tr>\n",
       "      <th>11</th>\n",
       "      <td>0</td>\n",
       "      <td>Claudette: Oh, why not?\\n</td>\n",
       "    </tr>\n",
       "    <tr>\n",
       "      <th>12</th>\n",
       "      <td>0</td>\n",
       "      <td>Peter: Alright, that�s it, I�m done. Great ide...</td>\n",
       "    </tr>\n",
       "    <tr>\n",
       "      <th>13</th>\n",
       "      <td>0</td>\n",
       "      <td>Claudette: Well, what are you going to do?\\n</td>\n",
       "    </tr>\n",
       "    <tr>\n",
       "      <th>14</th>\n",
       "      <td>0</td>\n",
       "      <td>Denny: I�m sorry. It won�t happen again, I pro...</td>\n",
       "    </tr>\n",
       "    <tr>\n",
       "      <th>15</th>\n",
       "      <td>0</td>\n",
       "      <td>Claudette: Who? Who is it?\\n</td>\n",
       "    </tr>\n",
       "    <tr>\n",
       "      <th>16</th>\n",
       "      <td>0</td>\n",
       "      <td>Johnny enters the living room\\n</td>\n",
       "    </tr>\n",
       "    <tr>\n",
       "      <th>17</th>\n",
       "      <td>0</td>\n",
       "      <td>Peter: Look, I�m just your friend, and I�m jus...</td>\n",
       "    </tr>\n",
       "    <tr>\n",
       "      <th>18</th>\n",
       "      <td>0</td>\n",
       "      <td>Lisa: (sobbing) Oh my god�\\n</td>\n",
       "    </tr>\n",
       "    <tr>\n",
       "      <th>19</th>\n",
       "      <td>0</td>\n",
       "      <td>Lisa: How do you mean that? I�m always ready. ...</td>\n",
       "    </tr>\n",
       "    <tr>\n",
       "      <th>20</th>\n",
       "      <td>0</td>\n",
       "      <td>Johnny: Medium.\\n</td>\n",
       "    </tr>\n",
       "    <tr>\n",
       "      <th>21</th>\n",
       "      <td>0</td>\n",
       "      <td>Mark: Oh, really?\\n</td>\n",
       "    </tr>\n",
       "    <tr>\n",
       "      <th>22</th>\n",
       "      <td>0</td>\n",
       "      <td>Johnny: Denny, two�s great, but three�s a crow...</td>\n",
       "    </tr>\n",
       "    <tr>\n",
       "      <th>23</th>\n",
       "      <td>0</td>\n",
       "      <td>Mike: Oh, God!\\n</td>\n",
       "    </tr>\n",
       "    <tr>\n",
       "      <th>24</th>\n",
       "      <td>0</td>\n",
       "      <td>Mark: Yes, he�s dead. Yes he�s dead!\\n</td>\n",
       "    </tr>\n",
       "    <tr>\n",
       "      <th>25</th>\n",
       "      <td>0</td>\n",
       "      <td>Lisa: You can bring someone if you want.\\n</td>\n",
       "    </tr>\n",
       "    <tr>\n",
       "      <th>26</th>\n",
       "      <td>0</td>\n",
       "      <td>Mark: Don�t worry about it, man.\\n</td>\n",
       "    </tr>\n",
       "    <tr>\n",
       "      <th>27</th>\n",
       "      <td>0</td>\n",
       "      <td>Johnny enters the room.\\n</td>\n",
       "    </tr>\n",
       "    <tr>\n",
       "      <th>28</th>\n",
       "      <td>0</td>\n",
       "      <td>Denny: I owe him some money.\\n</td>\n",
       "    </tr>\n",
       "    <tr>\n",
       "      <th>29</th>\n",
       "      <td>0</td>\n",
       "      <td>Mike: Alright, whatever, whatever.\\n</td>\n",
       "    </tr>\n",
       "    <tr>\n",
       "      <th>...</th>\n",
       "      <td>...</td>\n",
       "      <td>...</td>\n",
       "    </tr>\n",
       "    <tr>\n",
       "      <th>960</th>\n",
       "      <td>0</td>\n",
       "      <td>Johnny: Ask Peter.\\n</td>\n",
       "    </tr>\n",
       "    <tr>\n",
       "      <th>961</th>\n",
       "      <td>0</td>\n",
       "      <td>The alarm clock goes off at :28. Johnny gets u...</td>\n",
       "    </tr>\n",
       "    <tr>\n",
       "      <th>962</th>\n",
       "      <td>0</td>\n",
       "      <td>Steven: This is going to pull us all down. It�...</td>\n",
       "    </tr>\n",
       "    <tr>\n",
       "      <th>963</th>\n",
       "      <td>0</td>\n",
       "      <td>Peter: (laughs)\\n</td>\n",
       "    </tr>\n",
       "    <tr>\n",
       "      <th>964</th>\n",
       "      <td>0</td>\n",
       "      <td>Lisa: But I�m not happy! He still thinks I�m g...</td>\n",
       "    </tr>\n",
       "    <tr>\n",
       "      <th>965</th>\n",
       "      <td>0</td>\n",
       "      <td>Susan: Real good. Alright.\\n</td>\n",
       "    </tr>\n",
       "    <tr>\n",
       "      <th>966</th>\n",
       "      <td>0</td>\n",
       "      <td>Johnny: Oh, pretty good. We got a new client a...</td>\n",
       "    </tr>\n",
       "    <tr>\n",
       "      <th>967</th>\n",
       "      <td>0</td>\n",
       "      <td>Lisa: I�m fixing the apartment for Johnny�s bi...</td>\n",
       "    </tr>\n",
       "    <tr>\n",
       "      <th>968</th>\n",
       "      <td>0</td>\n",
       "      <td>Lisa: He�s so boring.\\n</td>\n",
       "    </tr>\n",
       "    <tr>\n",
       "      <th>969</th>\n",
       "      <td>0</td>\n",
       "      <td>Lisa: Johnny�s okay. But I found somebody else.\\n</td>\n",
       "    </tr>\n",
       "    <tr>\n",
       "      <th>970</th>\n",
       "      <td>0</td>\n",
       "      <td>Mark: I don�t think so. Everything�s going to ...</td>\n",
       "    </tr>\n",
       "    <tr>\n",
       "      <th>971</th>\n",
       "      <td>0</td>\n",
       "      <td>Denny: Just leave! Both of you!\\n</td>\n",
       "    </tr>\n",
       "    <tr>\n",
       "      <th>972</th>\n",
       "      <td>0</td>\n",
       "      <td>Johnny: Come on, it�s good for you, come on.\\n</td>\n",
       "    </tr>\n",
       "    <tr>\n",
       "      <th>973</th>\n",
       "      <td>0</td>\n",
       "      <td>Claudette: Okay. I will see you later. Bye bye.\\n</td>\n",
       "    </tr>\n",
       "    <tr>\n",
       "      <th>974</th>\n",
       "      <td>0</td>\n",
       "      <td>Denny: You guys want to play some football?\\n</td>\n",
       "    </tr>\n",
       "    <tr>\n",
       "      <th>975</th>\n",
       "      <td>0</td>\n",
       "      <td>Lisa: No. Stop. You little prick. I put up wit...</td>\n",
       "    </tr>\n",
       "    <tr>\n",
       "      <th>976</th>\n",
       "      <td>0</td>\n",
       "      <td>Johnny: A-ha-ha.\\n</td>\n",
       "    </tr>\n",
       "    <tr>\n",
       "      <th>977</th>\n",
       "      <td>0</td>\n",
       "      <td>Johnny: I can�t confront her! I want to give h...</td>\n",
       "    </tr>\n",
       "    <tr>\n",
       "      <th>978</th>\n",
       "      <td>0</td>\n",
       "      <td>Denny: Catch, Johnny! Alright, Peter! Here we ...</td>\n",
       "    </tr>\n",
       "    <tr>\n",
       "      <th>979</th>\n",
       "      <td>0</td>\n",
       "      <td>Johnny: Let�s go for it.\\n</td>\n",
       "    </tr>\n",
       "    <tr>\n",
       "      <th>980</th>\n",
       "      <td>0</td>\n",
       "      <td>Claudette: Mm.\\n</td>\n",
       "    </tr>\n",
       "    <tr>\n",
       "      <th>981</th>\n",
       "      <td>0</td>\n",
       "      <td>Mark: Is Johnny there?\\n</td>\n",
       "    </tr>\n",
       "    <tr>\n",
       "      <th>982</th>\n",
       "      <td>0</td>\n",
       "      <td>Peter: Just chill out, Mark. I�m just trying t...</td>\n",
       "    </tr>\n",
       "    <tr>\n",
       "      <th>983</th>\n",
       "      <td>0</td>\n",
       "      <td>Johnny: You have nice legs, Lisa. Ha-ha.\\n</td>\n",
       "    </tr>\n",
       "    <tr>\n",
       "      <th>984</th>\n",
       "      <td>0</td>\n",
       "      <td>Denny: Everything is okay, he�s gone!\\n</td>\n",
       "    </tr>\n",
       "    <tr>\n",
       "      <th>985</th>\n",
       "      <td>0</td>\n",
       "      <td>Mark: Come on, it�s clear.\\n</td>\n",
       "    </tr>\n",
       "    <tr>\n",
       "      <th>986</th>\n",
       "      <td>0</td>\n",
       "      <td>Mike: It�s a pleasure to meet you.\\n</td>\n",
       "    </tr>\n",
       "    <tr>\n",
       "      <th>987</th>\n",
       "      <td>0</td>\n",
       "      <td>Denny: Please?\\n</td>\n",
       "    </tr>\n",
       "    <tr>\n",
       "      <th>988</th>\n",
       "      <td>0</td>\n",
       "      <td>Peter: Yeah.\\n</td>\n",
       "    </tr>\n",
       "    <tr>\n",
       "      <th>989</th>\n",
       "      <td>0</td>\n",
       "      <td>The same room, later in the day. Lisa picks up...</td>\n",
       "    </tr>\n",
       "  </tbody>\n",
       "</table>\n",
       "<p>990 rows × 2 columns</p>\n",
       "</div>"
      ],
      "text/plain": [
       "     labels                                               text\n",
       "0         0                               Mark: You serious?\\n\n",
       "1         0                            Lisa: Where�s Johnny?\\n\n",
       "2         0                  Denny: Lisa�s your future wife!\\n\n",
       "3         0  Mark: If you�d keep your girl satisfied, she w...\n",
       "4         0                      Mark: Aw, come on, why not?\\n\n",
       "5         0                                 Michelle: What?!\\n\n",
       "6         0  Lisa: Mom, this is Michelle�s boyfriend Mike. ...\n",
       "7         0  Steven: I feel like I�m sitting on an atomic b...\n",
       "8         0                              Mike: Yeah, uh-huh.\\n\n",
       "9         0       Claudette: Well, you should be happy then.\\n\n",
       "10        0                                     Mark: Hello?\\n\n",
       "11        0                          Claudette: Oh, why not?\\n\n",
       "12        0  Peter: Alright, that�s it, I�m done. Great ide...\n",
       "13        0       Claudette: Well, what are you going to do?\\n\n",
       "14        0  Denny: I�m sorry. It won�t happen again, I pro...\n",
       "15        0                       Claudette: Who? Who is it?\\n\n",
       "16        0                    Johnny enters the living room\\n\n",
       "17        0  Peter: Look, I�m just your friend, and I�m jus...\n",
       "18        0                       Lisa: (sobbing) Oh my god�\\n\n",
       "19        0  Lisa: How do you mean that? I�m always ready. ...\n",
       "20        0                                  Johnny: Medium.\\n\n",
       "21        0                                Mark: Oh, really?\\n\n",
       "22        0  Johnny: Denny, two�s great, but three�s a crow...\n",
       "23        0                                   Mike: Oh, God!\\n\n",
       "24        0             Mark: Yes, he�s dead. Yes he�s dead!\\n\n",
       "25        0         Lisa: You can bring someone if you want.\\n\n",
       "26        0                 Mark: Don�t worry about it, man.\\n\n",
       "27        0                          Johnny enters the room.\\n\n",
       "28        0                     Denny: I owe him some money.\\n\n",
       "29        0               Mike: Alright, whatever, whatever.\\n\n",
       "..      ...                                                ...\n",
       "960       0                               Johnny: Ask Peter.\\n\n",
       "961       0  The alarm clock goes off at :28. Johnny gets u...\n",
       "962       0  Steven: This is going to pull us all down. It�...\n",
       "963       0                                  Peter: (laughs)\\n\n",
       "964       0  Lisa: But I�m not happy! He still thinks I�m g...\n",
       "965       0                       Susan: Real good. Alright.\\n\n",
       "966       0  Johnny: Oh, pretty good. We got a new client a...\n",
       "967       0  Lisa: I�m fixing the apartment for Johnny�s bi...\n",
       "968       0                            Lisa: He�s so boring.\\n\n",
       "969       0  Lisa: Johnny�s okay. But I found somebody else.\\n\n",
       "970       0  Mark: I don�t think so. Everything�s going to ...\n",
       "971       0                  Denny: Just leave! Both of you!\\n\n",
       "972       0     Johnny: Come on, it�s good for you, come on.\\n\n",
       "973       0  Claudette: Okay. I will see you later. Bye bye.\\n\n",
       "974       0      Denny: You guys want to play some football?\\n\n",
       "975       0  Lisa: No. Stop. You little prick. I put up wit...\n",
       "976       0                                 Johnny: A-ha-ha.\\n\n",
       "977       0  Johnny: I can�t confront her! I want to give h...\n",
       "978       0  Denny: Catch, Johnny! Alright, Peter! Here we ...\n",
       "979       0                         Johnny: Let�s go for it.\\n\n",
       "980       0                                   Claudette: Mm.\\n\n",
       "981       0                           Mark: Is Johnny there?\\n\n",
       "982       0  Peter: Just chill out, Mark. I�m just trying t...\n",
       "983       0         Johnny: You have nice legs, Lisa. Ha-ha.\\n\n",
       "984       0            Denny: Everything is okay, he�s gone!\\n\n",
       "985       0                       Mark: Come on, it�s clear.\\n\n",
       "986       0               Mike: It�s a pleasure to meet you.\\n\n",
       "987       0                                   Denny: Please?\\n\n",
       "988       0                                     Peter: Yeah.\\n\n",
       "989       0  The same room, later in the day. Lisa picks up...\n",
       "\n",
       "[990 rows x 2 columns]"
      ]
     },
     "execution_count": 21,
     "metadata": {},
     "output_type": "execute_result"
    }
   ],
   "source": [
    "df_trn"
   ]
  },
  {
   "cell_type": "markdown",
   "metadata": {},
   "source": [
    "In this section, we start cleaning up the messy text. There are 2 main activities we need to perform:\n",
    "\n",
    "1. Clean up extra spaces, tab chars, new ln chars and other characters and replace them with standard ones\n",
    "2. Use the awesome [spacy](http://spacy.io) library to tokenize the data. Since spacy does not provide a parallel/multicore version of the tokenizer, the fastai library adds this functionality. This parallel version uses all the cores of your CPUs and runs much faster than the serial version of the spacy tokenizer.\n",
    "\n",
    "Tokenization is the process of splitting the text into separate tokens so that each token can be assigned a unique index. This means we can convert the text into integer indexes our models can use.\n",
    "\n",
    "We use an appropriate chunksize as the tokenization process is memory intensive"
   ]
  },
  {
   "cell_type": "code",
   "execution_count": 22,
   "metadata": {},
   "outputs": [],
   "source": [
    "chunksize=1000"
   ]
  },
  {
   "cell_type": "code",
   "execution_count": 23,
   "metadata": {},
   "outputs": [],
   "source": [
    "re1 = re.compile(r'  +')\n",
    "\n",
    "def fixup(x):\n",
    "    x = x.replace('#39;', \"'\").replace('amp;', '&').replace('#146;', \"'\").replace(\n",
    "        'nbsp;', ' ').replace('#36;', '$').replace('\\\\n', \"\\n\").replace('quot;', \"'\").replace(\n",
    "        '<br />', \"\\n\").replace('\\\\\"', '\"').replace('<unk>','u_n').replace(' @.@ ','.').replace(\n",
    "        ' @-@ ','-').replace('\\\\', ' \\\\ ').replace('�','')\n",
    "    return re1.sub(' ', html.unescape(x))"
   ]
  },
  {
   "cell_type": "code",
   "execution_count": 24,
   "metadata": {},
   "outputs": [],
   "source": [
    "def get_texts(df, n_lbls=1):\n",
    "    labels = df.iloc[:,range(n_lbls)].values.astype(np.int64)\n",
    "    #texts = f'\\n{BOS} {FLD} 1 ' + df[n_lbls].astype(str)\n",
    "    texts = df[1+n_lbls].astype(str)\n",
    "    #for i in range(n_lbls+1, len(df.columns)): texts += f' {FLD} {i-n_lbls} ' + df[i].astype(str)\n",
    "    texts = texts.apply(fixup).values.astype(str)\n",
    "\n",
    "    tok = Tokenizer().proc_all_mp(partition_by_cores(texts))\n",
    "    return tok, list(labels)"
   ]
  },
  {
   "cell_type": "code",
   "execution_count": 25,
   "metadata": {},
   "outputs": [],
   "source": [
    "def get_all(df, n_lbls):\n",
    "    tok, labels = [], []\n",
    "    for i, r in enumerate(df):\n",
    "        print(i)\n",
    "        tok_, labels_ = get_texts(r, n_lbls)\n",
    "        tok += tok_;\n",
    "        labels += labels_\n",
    "    return tok, labels"
   ]
  },
  {
   "cell_type": "code",
   "execution_count": 26,
   "metadata": {},
   "outputs": [],
   "source": [
    "df_trn = pd.read_csv(LM_PATH/'train.csv', header=None, chunksize=chunksize)\n",
    "df_val = pd.read_csv(LM_PATH/'test.csv', header=None, chunksize=chunksize)"
   ]
  },
  {
   "cell_type": "code",
   "execution_count": 27,
   "metadata": {
    "scrolled": false
   },
   "outputs": [
    {
     "name": "stdout",
     "output_type": "stream",
     "text": [
      "0\n",
      "0\n"
     ]
    }
   ],
   "source": [
    "tok_trn, trn_labels = get_all(df_trn, 0)\n",
    "tok_val, val_labels = get_all(df_val, 0)"
   ]
  },
  {
   "cell_type": "code",
   "execution_count": 28,
   "metadata": {},
   "outputs": [],
   "source": [
    "(LM_PATH/'tmp').mkdir(exist_ok=True)"
   ]
  },
  {
   "cell_type": "code",
   "execution_count": 29,
   "metadata": {},
   "outputs": [],
   "source": [
    "np.save(LM_PATH/'tmp'/'tok_trn.npy', tok_trn)\n",
    "np.save(LM_PATH/'tmp'/'tok_val.npy', tok_val)"
   ]
  },
  {
   "cell_type": "code",
   "execution_count": 30,
   "metadata": {},
   "outputs": [],
   "source": [
    "tok_trn = np.load(LM_PATH/'tmp'/'tok_trn.npy')\n",
    "tok_val = np.load(LM_PATH/'tmp'/'tok_val.npy')"
   ]
  },
  {
   "cell_type": "code",
   "execution_count": 31,
   "metadata": {
    "scrolled": true
   },
   "outputs": [
    {
     "data": {
      "text/plain": [
       "[('.', 1139),\n",
       " ('\\n', 990),\n",
       " (':', 805),\n",
       " (',', 653),\n",
       " ('you', 510),\n",
       " ('i', 394),\n",
       " ('?', 321),\n",
       " ('johnny', 306),\n",
       " ('lisa', 305),\n",
       " ('to', 282),\n",
       " ('the', 212),\n",
       " ('mark', 205),\n",
       " ('a', 192),\n",
       " ('do', 186),\n",
       " ('!', 175),\n",
       " ('nt', 172),\n",
       " ('and', 169),\n",
       " ('denny', 152),\n",
       " ('what', 115),\n",
       " ('me', 110),\n",
       " ('it', 109),\n",
       " ('s', 101),\n",
       " ('of', 98),\n",
       " ('is', 93),\n",
       " ('-', 91)]"
      ]
     },
     "execution_count": 31,
     "metadata": {},
     "output_type": "execute_result"
    }
   ],
   "source": [
    "freq = Counter(p for o in tok_trn for p in o)\n",
    "freq.most_common(25)"
   ]
  },
  {
   "cell_type": "code",
   "execution_count": 32,
   "metadata": {},
   "outputs": [
    {
     "data": {
      "text/plain": [
       "1351"
      ]
     },
     "execution_count": 32,
     "metadata": {},
     "output_type": "execute_result"
    }
   ],
   "source": [
    "len(freq)"
   ]
  },
  {
   "cell_type": "markdown",
   "metadata": {},
   "source": [
    "The *vocab* is the **unique set of all tokens** in our dataset. The vocab provides us a way for us to simply replace each word in our datasets with a unique integer called an index.\n",
    "\n",
    "In a large corpus of data one might find some rare words which are only used a few times in the whole dataset. We discard such rare words and avoid trying to learn meaningful patterns out of them.\n",
    "\n",
    "Here we have set a minimum frequency of occurence to 2 times. It has been observed by NLP practicioners that a maximum vocab of 60k usually yields good results for classification tasks. So we set maz_vocab to 60000."
   ]
  },
  {
   "cell_type": "code",
   "execution_count": 33,
   "metadata": {},
   "outputs": [],
   "source": [
    "max_vocab = 60000\n",
    "min_freq = 1"
   ]
  },
  {
   "cell_type": "code",
   "execution_count": 34,
   "metadata": {},
   "outputs": [],
   "source": [
    "itos = [o for o,c in freq.most_common(max_vocab) if c>min_freq]\n",
    "itos.insert(0, '_pad_')\n",
    "itos.insert(0, '_unk_')"
   ]
  },
  {
   "cell_type": "markdown",
   "metadata": {},
   "source": [
    "We create a reverse mapping called stoi which is useful to lookup the index of a given token. stoi also has the same number of elements as itos. We use a high performance container called [collections.defaultdict](https://docs.python.org/2/library/collections.html#collections.defaultdict) to store our stoi mapping."
   ]
  },
  {
   "cell_type": "code",
   "execution_count": 35,
   "metadata": {},
   "outputs": [
    {
     "data": {
      "text/plain": [
       "703"
      ]
     },
     "execution_count": 35,
     "metadata": {},
     "output_type": "execute_result"
    }
   ],
   "source": [
    "stoi = collections.defaultdict(lambda:0, {v:k for k,v in enumerate(itos)})\n",
    "len(itos)"
   ]
  },
  {
   "cell_type": "code",
   "execution_count": 36,
   "metadata": {},
   "outputs": [],
   "source": [
    "trn_lm = np.array([[stoi[o] for o in p] for p in tok_trn])\n",
    "val_lm = np.array([[stoi[o] for o in p] for p in tok_val])"
   ]
  },
  {
   "cell_type": "code",
   "execution_count": 37,
   "metadata": {},
   "outputs": [],
   "source": [
    "np.save(LM_PATH/'tmp'/'trn_ids.npy', trn_lm)\n",
    "np.save(LM_PATH/'tmp'/'val_ids.npy', val_lm)\n",
    "pickle.dump(itos, open(LM_PATH/'tmp'/'itos.pkl', 'wb'))"
   ]
  },
  {
   "cell_type": "code",
   "execution_count": 38,
   "metadata": {},
   "outputs": [],
   "source": [
    "trn_lm = np.load(LM_PATH/'tmp'/'trn_ids.npy')\n",
    "val_lm = np.load(LM_PATH/'tmp'/'val_ids.npy')\n",
    "itos = pickle.load(open(LM_PATH/'tmp'/'itos.pkl', 'rb'))"
   ]
  },
  {
   "cell_type": "code",
   "execution_count": 39,
   "metadata": {},
   "outputs": [
    {
     "data": {
      "text/plain": [
       "(703, 990)"
      ]
     },
     "execution_count": 39,
     "metadata": {},
     "output_type": "execute_result"
    }
   ],
   "source": [
    "vs=len(itos)\n",
    "vs,len(trn_lm)"
   ]
  },
  {
   "cell_type": "markdown",
   "metadata": {},
   "source": [
    "## wikitext103 conversion"
   ]
  },
  {
   "cell_type": "markdown",
   "metadata": {},
   "source": [
    "We are now going to build an english language model for the IMDB corpus. We could start from scratch and try to learn the structure of the english language. But we use a technique called transfer learning to make this process easier. In transfer learning (a fairly recent idea for NLP) a pre-trained LM that has been trained on a large generic corpus(_like wikipedia articles_) can be used to transfer it's knowledge to a target LM and the weights can be fine-tuned.\n",
    "\n",
    "Our source LM is the wikitext103 LM created by Stephen Merity @ Salesforce research. [Link to dataset](https://www.salesforce.com/products/einstein/ai-research/the-wikitext-dependency-language-modeling-dataset/)\n",
    "The language model for wikitext103 (AWD LSTM) has been pre-trained and the weights can be downloaded here: [Link](http://files.fast.ai/models/wt103/). Our target LM is the IMDB LM. "
   ]
  },
  {
   "cell_type": "code",
   "execution_count": 40,
   "metadata": {},
   "outputs": [],
   "source": [
    "# ! wget -nH -r -np -P {PATH} http://files.fast.ai/models/wt103/"
   ]
  },
  {
   "cell_type": "markdown",
   "metadata": {},
   "source": [
    "The pre-trained LM weights have an embedding size of 400, 1150 hidden units and just 3 layers. We need to match these values  with the target IMDB LM so that the weights can be loaded up."
   ]
  },
  {
   "cell_type": "code",
   "execution_count": 41,
   "metadata": {},
   "outputs": [],
   "source": [
    "em_sz,nh,nl = 400,1150,3"
   ]
  },
  {
   "cell_type": "code",
   "execution_count": 42,
   "metadata": {},
   "outputs": [],
   "source": [
    "PRE_PATH = PATH/'models'\n",
    "PRE_LM_PATH = PRE_PATH/'fwd_wt103.h5'"
   ]
  },
  {
   "cell_type": "code",
   "execution_count": 43,
   "metadata": {},
   "outputs": [],
   "source": [
    "TEMP_PATH=Path('data/imdb/aclImdb/models/wt103/fwd_wt103.h5')"
   ]
  },
  {
   "cell_type": "code",
   "execution_count": 44,
   "metadata": {},
   "outputs": [],
   "source": [
    "wgts = torch.load(TEMP_PATH, map_location=lambda storage, loc: storage)"
   ]
  },
  {
   "cell_type": "code",
   "execution_count": 45,
   "metadata": {},
   "outputs": [],
   "source": [
    "wgts = torch.load(PRE_LM_PATH, map_location=lambda storage, loc: storage)"
   ]
  },
  {
   "cell_type": "markdown",
   "metadata": {},
   "source": [
    "We calculate the mean of the layer0 encoder weights. This can be used to assign weights to unknown tokens when we transfer to target IMDB LM."
   ]
  },
  {
   "cell_type": "code",
   "execution_count": 46,
   "metadata": {},
   "outputs": [],
   "source": [
    "enc_wgts = to_np(wgts['0.encoder.weight'])\n",
    "row_m = enc_wgts.mean(0)"
   ]
  },
  {
   "cell_type": "code",
   "execution_count": 47,
   "metadata": {},
   "outputs": [],
   "source": [
    "#itos2 = pickle.load(open(LM_PATH/'tmp'/'itos.pkl', 'rb'))"
   ]
  },
  {
   "cell_type": "code",
   "execution_count": 48,
   "metadata": {},
   "outputs": [],
   "source": [
    "#pickle.dump(itos2, open(PRE_PATH/'itos_wt103.pkl', 'wb'))"
   ]
  },
  {
   "cell_type": "code",
   "execution_count": 49,
   "metadata": {},
   "outputs": [],
   "source": [
    "#itos = pickle.load(open(LM_PATH/'tmp'/'itos.pkl', 'rb'))\n",
    "itos2 = pickle.load((PRE_PATH/'itos_wt103.pkl').open('rb'))\n",
    "stoi2 = collections.defaultdict(lambda:-1, {v:k for k,v in enumerate(itos2)})\n",
    "#stoi = collections.defaultdict(lambda:-1, {v:k for k,v in enumerate(itos)})"
   ]
  },
  {
   "cell_type": "markdown",
   "metadata": {},
   "source": [
    "Before we try to transfer the knowledge from wikitext to the IMDB LM, we match up the vocab words and their indexes. \n",
    "We use the defaultdict container once again, to assign mean weights to unknown IMDB tokens that do not exist in wikitext103."
   ]
  },
  {
   "cell_type": "code",
   "execution_count": 50,
   "metadata": {},
   "outputs": [],
   "source": [
    "new_w = np.zeros((vs, em_sz), dtype=np.float32)\n",
    "for i,w in enumerate(itos):\n",
    "    r = stoi2[w]\n",
    "    new_w[i] = enc_wgts[r] if r>=0 else row_m"
   ]
  },
  {
   "cell_type": "markdown",
   "metadata": {},
   "source": [
    "We now overwrite the weights into the wgts odict.\n",
    "The decoder module, which we will explore in detail is also loaded with the same weights due to an idea called weight tying."
   ]
  },
  {
   "cell_type": "code",
   "execution_count": 51,
   "metadata": {},
   "outputs": [],
   "source": [
    "#wgts['0.encoder.weight'] = new_w.T\n",
    "#wgts['0.encoder_with_dropout.embed.weight'] = np.copy(new_w).T\n",
    "#wgts['1.decoder.weight'] = np.copy(new_w).T\n",
    "\n",
    "wgts['0.encoder.weight'] = T(new_w)\n",
    "wgts['0.encoder_with_dropout.embed.weight'] = T(np.copy(new_w))\n",
    "wgts['1.decoder.weight'] = T(np.copy(new_w))"
   ]
  },
  {
   "cell_type": "markdown",
   "metadata": {},
   "source": [
    "Now that we have the weights prepared, we are ready to create and start training our new IMDB language pytorch model!"
   ]
  },
  {
   "cell_type": "markdown",
   "metadata": {},
   "source": [
    "## Language model"
   ]
  },
  {
   "cell_type": "markdown",
   "metadata": {},
   "source": [
    "It is fairly straightforward to create a new language model using the fastai library. Like every other lesson, our model will have a backbone and a custom head. The backbone in our case is the IMDB LM pre-trained with wikitext and the custom head is a linear classifier. In this section we will focus on the backbone LM and the next section will talk about the classifier custom head.\n",
    "\n",
    "bptt (*also known traditionally in NLP LM as ngrams*) in fastai LMs is approximated to a std. deviation around 70, by perturbing the sequence length on a per-batch basis. This is akin to shuffling our data in computer vision, only that in NLP we cannot shuffle inputs and we have to maintain statefulness. \n",
    "\n",
    "Since we are predicting words using ngrams, we want our next batch to line up with the end-points of the previous mini-batch's items. batch-size is constant and but the fastai library expands and contracts bptt each mini-batch using a clever stochastic implementation of a batch. (original credits attributed to [Smerity](https://twitter.com/jeremyphoward/status/980227258395770882))"
   ]
  },
  {
   "cell_type": "code",
   "execution_count": 102,
   "metadata": {},
   "outputs": [],
   "source": [
    "wd=1e-7\n",
    "bptt=70\n",
    "bs=10\n",
    "opt_fn = partial(optim.Adam, betas=(0.8, 0.99))"
   ]
  },
  {
   "cell_type": "markdown",
   "metadata": {},
   "source": [
    "The goal of the LM is to learn to predict a word/token given a preceeding set of words(tokens). We take all the movie reviews in both the 90k training set and 10k validation set and concatenate them to form long strings of tokens. In fastai, we use the `LanguageModelLoader` to create a data loader which makes it easy to create and use bptt sized mini batches. The  `LanguageModelLoader` takes a concatenated string of tokens and returns a loader.\n",
    "\n",
    "We have a special modeldata object class for LMs called `LanguageModelData` to which we can pass the training and validation loaders and get in return the model itself."
   ]
  },
  {
   "cell_type": "code",
   "execution_count": 103,
   "metadata": {
    "scrolled": false
   },
   "outputs": [
    {
     "name": "stdout",
     "output_type": "stream",
     "text": [
      "Thu Sep 20 08:18:26 2018       \r\n",
      "+-----------------------------------------------------------------------------+\r\n",
      "| NVIDIA-SMI 387.34                 Driver Version: 387.34                    |\r\n",
      "|-------------------------------+----------------------+----------------------+\r\n",
      "| GPU  Name        Persistence-M| Bus-Id        Disp.A | Volatile Uncorr. ECC |\r\n",
      "| Fan  Temp  Perf  Pwr:Usage/Cap|         Memory-Usage | GPU-Util  Compute M. |\r\n",
      "|===============================+======================+======================|\r\n",
      "|   0  Quadro P4000        Off  | 00000000:00:05.0 Off |                  N/A |\r\n",
      "| 47%   44C    P0    31W / 105W |   1439MiB /  8114MiB |      0%      Default |\r\n",
      "+-------------------------------+----------------------+----------------------+\r\n",
      "                                                                               \r\n",
      "+-----------------------------------------------------------------------------+\r\n",
      "| Processes:                                                       GPU Memory |\r\n",
      "|  GPU       PID   Type   Process name                             Usage      |\r\n",
      "|=============================================================================|\r\n",
      "|    0     19641      C   ...rspace/anaconda3/envs/fastai/bin/python  1429MiB |\r\n",
      "+-----------------------------------------------------------------------------+\r\n"
     ]
    }
   ],
   "source": [
    "!nvidia-smi"
   ]
  },
  {
   "cell_type": "code",
   "execution_count": 104,
   "metadata": {},
   "outputs": [
    {
     "data": {
      "text/plain": [
       "(110,)"
      ]
     },
     "execution_count": 104,
     "metadata": {},
     "output_type": "execute_result"
    }
   ],
   "source": [
    "val_lm.shape"
   ]
  },
  {
   "cell_type": "code",
   "execution_count": 105,
   "metadata": {
    "scrolled": true
   },
   "outputs": [],
   "source": [
    "trn_dl = LanguageModelLoader(np.concatenate(trn_lm), bs, bptt)\n",
    "val_dl = LanguageModelLoader(np.concatenate(val_lm), bs, bptt)\n",
    "md = LanguageModelData(PATH, 1, vs, trn_dl, val_dl, bs=bs, bptt=bptt)"
   ]
  },
  {
   "cell_type": "markdown",
   "metadata": {},
   "source": [
    "We setup the dropouts for the model - these values have been chosen after experimentation. If you need to update them for custom LMs, you can change the weighting factor (0.7 here) based on the amount of data you have. For more data, you can reduce dropout factor and for small datasets, you can reduce overfitting by choosing a higher dropout factor. *No other dropout value requires tuning*"
   ]
  },
  {
   "cell_type": "code",
   "execution_count": 136,
   "metadata": {},
   "outputs": [],
   "source": [
    "#drops = np.array([0.25, 0.1, 0.2, 0.02, 0.15])*0.7\n",
    "drops = np.array([0.25, 0.1, 0.2, 0.02, 0.15])*2.25"
   ]
  },
  {
   "cell_type": "markdown",
   "metadata": {},
   "source": [
    "We first tune the last embedding layer so that the missing tokens initialized with mean weights get tuned properly. So we freeze everything except the last layer.\n",
    "\n",
    "We also keep track of the *accuracy* metric."
   ]
  },
  {
   "cell_type": "code",
   "execution_count": 137,
   "metadata": {},
   "outputs": [],
   "source": [
    "learner= md.get_model(opt_fn, em_sz, nh, nl, \n",
    "    dropouti=drops[0], dropout=drops[1], wdrop=drops[2], dropoute=drops[3], dropouth=drops[4])\n",
    "\n",
    "learner.metrics = [accuracy]\n",
    "learner.freeze_to(-1)"
   ]
  },
  {
   "cell_type": "code",
   "execution_count": 138,
   "metadata": {},
   "outputs": [],
   "source": [
    "learner.model.load_state_dict(wgts)"
   ]
  },
  {
   "cell_type": "markdown",
   "metadata": {},
   "source": [
    "We set learning rates and fit our IMDB LM. We first run one epoch to tune the last layer which contains the embedding weights. This should help the missing tokens in the wikitext103 learn better weights."
   ]
  },
  {
   "cell_type": "code",
   "execution_count": 139,
   "metadata": {},
   "outputs": [],
   "source": [
    "lr=1e-3\n",
    "lrs = lr"
   ]
  },
  {
   "cell_type": "code",
   "execution_count": 140,
   "metadata": {
    "scrolled": false
   },
   "outputs": [
    {
     "data": {
      "application/vnd.jupyter.widget-view+json": {
       "model_id": "10cde2054937472b83a19e936549a79e",
       "version_major": 2,
       "version_minor": 0
      },
      "text/plain": [
       "HBox(children=(IntProgress(value=0, description='Epoch', max=1), HTML(value='')))"
      ]
     },
     "metadata": {},
     "output_type": "display_data"
    },
    {
     "name": "stdout",
     "output_type": "stream",
     "text": [
      "epoch      trn_loss   val_loss   accuracy                 \n",
      "    0      6.95123    6.920629   0.024211  \n",
      "\n"
     ]
    },
    {
     "data": {
      "text/plain": [
       "[array([6.92063]), 0.024210525676608086]"
      ]
     },
     "execution_count": 140,
     "metadata": {},
     "output_type": "execute_result"
    }
   ],
   "source": [
    "learner.fit(lrs/2, 1, wds=wd, use_clr=(32,2), cycle_len=1)"
   ]
  },
  {
   "cell_type": "markdown",
   "metadata": {},
   "source": [
    "Note that we print out accuracy and keep track of how often we end up predicting the target word correctly. While this is a good metric to check, it is not part of our loss function as it can get quite bumpy. We only minimize cross-entropy loss in the LM.\n",
    "\n",
    "The exponent of the cross-entropy loss is called the perplexity of the LM. (low perplexity is better)."
   ]
  },
  {
   "cell_type": "code",
   "execution_count": 141,
   "metadata": {},
   "outputs": [],
   "source": [
    "learner.save('lm_last_ft')"
   ]
  },
  {
   "cell_type": "code",
   "execution_count": 142,
   "metadata": {},
   "outputs": [],
   "source": [
    "learner.load('lm_last_ft')"
   ]
  },
  {
   "cell_type": "code",
   "execution_count": 143,
   "metadata": {},
   "outputs": [],
   "source": [
    "learner.unfreeze()"
   ]
  },
  {
   "cell_type": "code",
   "execution_count": 144,
   "metadata": {
    "scrolled": true
   },
   "outputs": [
    {
     "data": {
      "application/vnd.jupyter.widget-view+json": {
       "model_id": "76093b600e6347a4b8189cc131a8edc4",
       "version_major": 2,
       "version_minor": 0
      },
      "text/plain": [
       "HBox(children=(IntProgress(value=0, description='Epoch', max=1), HTML(value='')))"
      ]
     },
     "metadata": {},
     "output_type": "display_data"
    },
    {
     "name": "stdout",
     "output_type": "stream",
     "text": [
      "epoch      trn_loss   val_loss   accuracy                 \n",
      "    0      5.433089   4.551676   0.221053  \n",
      "\n"
     ]
    }
   ],
   "source": [
    "learner.lr_find(start_lr=lrs/100, end_lr=lrs*100, linear=True)"
   ]
  },
  {
   "cell_type": "code",
   "execution_count": 145,
   "metadata": {
    "scrolled": true
   },
   "outputs": [
    {
     "data": {
      "image/png": "[encoded data removed]",
      "text/plain": [
       "<Figure size 432x288 with 1 Axes>"
      ]
     },
     "metadata": {},
     "output_type": "display_data"
    }
   ],
   "source": [
    "learner.sched.plot()"
   ]
  },
  {
   "cell_type": "code",
   "execution_count": 146,
   "metadata": {},
   "outputs": [],
   "source": [
    "lrs=0.01"
   ]
  },
  {
   "cell_type": "code",
   "execution_count": 147,
   "metadata": {
    "scrolled": true
   },
   "outputs": [
    {
     "data": {
      "application/vnd.jupyter.widget-view+json": {
       "model_id": "39285870043a484c8fecd216b6e2faa0",
       "version_major": 2,
       "version_minor": 0
      },
      "text/plain": [
       "HBox(children=(IntProgress(value=0, description='Epoch', max=40), HTML(value='')))"
      ]
     },
     "metadata": {},
     "output_type": "display_data"
    },
    {
     "name": "stdout",
     "output_type": "stream",
     "text": [
      "epoch      trn_loss   val_loss   accuracy                 \n",
      "    0      5.315913   4.263407   0.232632  \n",
      "    1      4.750124   3.846459   0.291579                 \n",
      "    2      4.410567   3.56172    0.323158                 \n",
      "    3      4.150157   3.365438   0.334737                 \n",
      "    4      3.946539   3.282152   0.344211                 \n",
      "    5      3.754025   3.199284   0.341053                 \n",
      "    6      3.570512   3.175725   0.369474                 \n",
      "    7      3.408397   3.126712   0.373684                 \n",
      "    8      3.278361   3.089606   0.377895                 \n",
      "    9      3.159798   3.096392   0.383158                 \n",
      "    10     3.083657   3.172356   0.374737                 \n",
      "    11     3.075109   3.270071   0.347368                 \n",
      "    12     3.03501    3.213439   0.363158                 \n",
      "    13     2.96425    3.169447   0.38                     \n",
      "    14     2.873018   3.201772   0.378947                 \n",
      "    15     2.783973   3.20988    0.368421                 \n",
      "    16     2.670185   3.237395   0.365263                 \n",
      "    17     2.564179   3.245168   0.364211                 \n",
      "    18     2.46415    3.250442   0.370526                 \n",
      "    19     2.390389   3.254857   0.366316                 \n",
      "    20     2.336468   3.297983   0.357895                 \n",
      "    21     2.35587    3.268423   0.358947                 \n",
      "    22     2.361835   3.379744   0.365263                 \n",
      "    23     2.335907   3.320889   0.373684                 \n",
      "    24     2.290351   3.348982   0.364211                 \n",
      "    25     2.236827   3.398604   0.353684                 \n",
      "    26     2.16722    3.377563   0.367368                 \n",
      "    27     2.104497   3.446016   0.364211                 \n",
      "    28     2.01835    3.446981   0.364211                 \n",
      "    29     1.930125   3.460935   0.363158                 \n",
      "    30     1.890772   3.548299   0.355789                 \n",
      "    31     1.914219   3.516311   0.350526                 \n",
      "    32     1.944631   3.482605   0.349474                 \n",
      "    33     1.978678   3.447994   0.363158                 \n",
      "    34     1.960446   3.530586   0.355789                 \n",
      "    35     1.90608    3.54213    0.353684                 \n",
      "    36     1.828571   3.567737   0.357895                 \n",
      "    37     1.765848   3.593635   0.364211                 \n",
      "    38     1.694717   3.579721   0.370526                 \n",
      "    39     1.626993   3.608545   0.368421                 \n",
      "\n"
     ]
    },
    {
     "data": {
      "text/plain": [
       "[array([3.60855]), 0.3684210479259491]"
      ]
     },
     "execution_count": 147,
     "metadata": {},
     "output_type": "execute_result"
    }
   ],
   "source": [
    "learner.fit(lrs, 4, wds=wd, use_clr=(20,10), cycle_len=10)"
   ]
  },
  {
   "cell_type": "markdown",
   "metadata": {},
   "source": [
    "We save the trained model weights and separately save the encoder part of the LM model as well. This will serve as our backbone in the classification task model."
   ]
  },
  {
   "cell_type": "code",
   "execution_count": 148,
   "metadata": {},
   "outputs": [],
   "source": [
    "learner.save('lm1')"
   ]
  },
  {
   "cell_type": "code",
   "execution_count": 149,
   "metadata": {},
   "outputs": [],
   "source": [
    "learner.save_encoder('lm1_enc')"
   ]
  },
  {
   "cell_type": "code",
   "execution_count": 150,
   "metadata": {},
   "outputs": [
    {
     "data": {
      "image/png": "[encoded data removed]",
      "text/plain": [
       "<Figure size 432x288 with 1 Axes>"
      ]
     },
     "metadata": {},
     "output_type": "display_data"
    }
   ],
   "source": [
    "learner.sched.plot_loss()"
   ]
  },
  {
   "cell_type": "markdown",
   "metadata": {},
   "source": [
    "# Predict The Dialog in The Room 2!"
   ]
  },
  {
   "cell_type": "code",
   "execution_count": 151,
   "metadata": {},
   "outputs": [],
   "source": [
    "def proc_str(s): return TEXT.preprocess(TEXT.tokenize(s))\n",
    "def num_str(s): return TEXT.numericalize([proc_str(s)])"
   ]
  },
  {
   "cell_type": "code",
   "execution_count": 152,
   "metadata": {},
   "outputs": [],
   "source": [
    "m=learner.model"
   ]
  },
  {
   "cell_type": "code",
   "execution_count": 153,
   "metadata": {},
   "outputs": [],
   "source": [
    "def sample_model(m, s, l=50):\n",
    "    s_toks = Tokenizer().proc_text(s)\n",
    "    s_nums = [stoi[i] for i in s_toks]\n",
    "    s_var = V(np.array(s_nums))[None]\n",
    "\n",
    "    m[0].bs=1\n",
    "    m.eval()\n",
    "    m.reset()\n",
    "\n",
    "    res, *_ = m(s_var)\n",
    "    #print('...', end='')\n",
    "    words = \"\"\n",
    "    for i in range(l):\n",
    "        r = torch.multinomial(res[-1].exp(), 2)\n",
    "        #r = torch.topk(res[-1].exp(), 2)[1]\n",
    "        if r.data[0] == 0:\n",
    "            r = r[1]\n",
    "        else:\n",
    "            r = r[0]\n",
    "        \n",
    "        word = itos[to_np(r)[0]]\n",
    "        res, *_ = m(r[0].unsqueeze(0))\n",
    "        #print(word, end=' ')\n",
    "        words += word + ' '\n",
    "    m[0].bs=bs\n",
    "    return(words)"
   ]
  },
  {
   "cell_type": "code",
   "execution_count": 154,
   "metadata": {
    "scrolled": false
   },
   "outputs": [],
   "source": [
    "the_new_room = \"Meanwhile in San Francisco: \" + sample_model(m, 'Meanwhile in San Francisco: ', 20000)"
   ]
  },
  {
   "cell_type": "code",
   "execution_count": 155,
   "metadata": {},
   "outputs": [],
   "source": [
    "#import csv"
   ]
  },
  {
   "cell_type": "code",
   "execution_count": 156,
   "metadata": {
    "scrolled": true
   },
   "outputs": [],
   "source": [
    "#with open(\"the_room_2.csv\",'wb') as resultFile:\n",
    "#    wr = csv.writer(the_new_room, dialect='excel')\n",
    "#    wr.writerow(the_new_room)"
   ]
  },
  {
   "cell_type": "code",
   "execution_count": 157,
   "metadata": {},
   "outputs": [],
   "source": [
    "text_file = open(\"Output.txt\", \"w\")\n",
    "text_file.write(\"%s\" % the_new_room)\n",
    "text_file.close()"
   ]
  },
  {
   "cell_type": "code",
   "execution_count": null,
   "metadata": {},
   "outputs": [],
   "source": [
    "!wd"
   ]
  },
  {
   "cell_type": "markdown",
   "metadata": {},
   "source": [
    "# Character Level Predictors"
   ]
  },
  {
   "cell_type": "code",
   "execution_count": null,
   "metadata": {},
   "outputs": [],
   "source": [
    "\n",
    "\n",
    "def get_next(inp):\n",
    "    idxs = num_str(inp)\n",
    "    res, *_ = m(VV(idxs.transpose(0,1)))\n",
    "    r = torch.multinomial(res[-1].exp(), 2)\n",
    "    if r.data[0] == 0:\n",
    "        r = r[1]\n",
    "    else:\n",
    "        r = r[0]\n",
    "    return TEXT.vocab.itos[to_np(r)[0]]\n",
    "\n"
   ]
  },
  {
   "cell_type": "code",
   "execution_count": null,
   "metadata": {},
   "outputs": [],
   "source": [
    "def get_next_n(inp, n):\n",
    "    res_lst = inp.split(' ')\n",
    "    try:\n",
    "        for i in range(n):\n",
    "            c = get_next(inp)\n",
    "            res_lst += [c]\n",
    "            inp_lst = inp.split(' ')\n",
    "            inp_lst += [c]\n",
    "            inp = \"\"\" \"\"\".join(inp_lst[1:])\n",
    "        return \"\"\" \"\"\".join(res_lst)\n",
    "    except:\n",
    "        print(res_lst)\n",
    "        print(c)\n",
    "        print(inp)"
   ]
  },
  {
   "cell_type": "code",
   "execution_count": null,
   "metadata": {},
   "outputs": [],
   "source": [
    "m = learner.model\n",
    "m.eval();"
   ]
  },
  {
   "cell_type": "code",
   "execution_count": null,
   "metadata": {},
   "outputs": [],
   "source": [
    "print(get_next_n(ss, 500))"
   ]
  }
 ],
 "metadata": {
  "_draft": {
   "nbviewer_url": "https://gist.github.com/0dd0df21cf404cf2bb51d0148c8b7d8b"
  },
  "gist": {
   "data": {
    "description": "fastai.text imdb example",
    "public": true
   },
   "id": "0dd0df21cf404cf2bb51d0148c8b7d8b"
  },
  "kernelspec": {
   "display_name": "Python 3",
   "language": "python",
   "name": "python3"
  },
  "language_info": {
   "codemirror_mode": {
    "name": "ipython",
    "version": 3
   },
   "file_extension": ".py",
   "mimetype": "text/x-python",
   "name": "python",
   "nbconvert_exporter": "python",
   "pygments_lexer": "ipython3",
   "version": "3.6.5"
  },
  "toc": {
   "colors": {
    "hover_highlight": "#DAA520",
    "navigate_num": "#000000",
    "navigate_text": "#333333",
    "running_highlight": "#FF0000",
    "selected_highlight": "#FFD700",
    "sidebar_border": "#EEEEEE",
    "wrapper_background": "#FFFFFF"
   },
   "moveMenuLeft": true,
   "nav_menu": {
    "height": "86px",
    "width": "252px"
   },
   "navigate_menu": true,
   "number_sections": true,
   "sideBar": true,
   "threshold": 4,
   "toc_cell": false,
   "toc_section_display": "block",
   "toc_window_display": false,
   "widenNotebook": false
  }
 },
 "nbformat": 4,
 "nbformat_minor": 2
}
