{
 "cells": [
  {
   "cell_type": "markdown",
   "metadata": {},
   "source": [
    "## Sex and the City: The Next Generation More Episodes"
   ]
  },
  {
   "cell_type": "markdown",
   "metadata": {},
   "source": [
    "## SATC:TNG"
   ]
  },
  {
   "cell_type": "code",
   "execution_count": null,
   "metadata": {},
   "outputs": [],
   "source": [
    "import pandas as pd\n",
    "import re"
   ]
  },
  {
   "cell_type": "markdown",
   "metadata": {},
   "source": [
    "### Data Is sourced from Kaggle:\n",
    "\n",
    "#### https://www.kaggle.com/snapcrack/every-sex-and-the-city-script/version/3"
   ]
  },
  {
   "cell_type": "code",
   "execution_count": null,
   "metadata": {},
   "outputs": [],
   "source": [
    "satc = pd.read_csv(\"SATC_all_lines.csv\")"
   ]
  },
  {
   "cell_type": "code",
   "execution_count": null,
   "metadata": {},
   "outputs": [],
   "source": [
    "# Modify the dataset for what we will feed into our NLP model\n",
    "cols = ['Speaker','Line']\n",
    "satc = satc[cols]\n",
    "#satc.loc[(tng['type'] == 'description') & (tng['who'].isna()), 'who'] = \"DESCRIPTION\"\n",
    "#tng.drop(['type'], axis=1, inplace=True)"
   ]
  },
  {
   "cell_type": "code",
   "execution_count": null,
   "metadata": {},
   "outputs": [],
   "source": [
    "satc['Speaker'] = satc['Speaker'].str.upper()\n",
    "satc['Line'] = satc['Speaker'] + \" :: \" + satc['Line']\n",
    "satc = satc.rename(columns={'Speaker': 'label', 'Line': 'text'})\n",
    "\n",
    "satc = satc.dropna(axis=0)\n",
    "\n",
    "satc['is_valid'] = False\n",
    "\n",
    "satc.to_csv('train.csv')"
   ]
  },
  {
   "cell_type": "markdown",
   "metadata": {},
   "source": [
    "### Read in our Edited Data Frame"
   ]
  },
  {
   "cell_type": "code",
   "execution_count": 2,
   "metadata": {},
   "outputs": [],
   "source": [
    "from pathlib import Path\n",
    "import pandas as pd\n",
    "import re\n",
    "import os\n",
    "from fastai.text import *\n",
    "import string\n",
    "import numpy as np\n",
    "\n",
    "%reload_ext autoreload\n",
    "%autoreload 2\n",
    "%matplotlib inline\n",
    "\n",
    "cwd = os.getcwd()\n",
    "path = Path(cwd)"
   ]
  },
  {
   "cell_type": "markdown",
   "metadata": {},
   "source": [
    "### Here is the factory method for implementing our own vocab and tokenizer methods if we choose to do so"
   ]
  },
  {
   "cell_type": "code",
   "execution_count": 3,
   "metadata": {},
   "outputs": [],
   "source": [
    "all_letters = list(string.printable + string.whitespace) #Letters need to be in a list not a string\n",
    "\n",
    "vocab=Vocab.create(all_letters, max_vocab=80000, min_freq=0)\n",
    "customtokenizer = Tokenizer(pre_rules= [], post_rules=[])\n",
    "\n",
    "processors = [TokenizeProcessor(),\n",
    "             NumericalizeProcessor()]\n",
    "\n",
    "data = (TextList.from_csv(path, 'train.csv', cols=['text'])\n",
    "                 .split_by_rand_pct(0.01)\n",
    "                 .label_for_lm()\n",
    "                 .databunch(bs=384))\n",
    "data.save('data_block_lm.pkl')"
   ]
  },
  {
   "cell_type": "code",
   "execution_count": 4,
   "metadata": {},
   "outputs": [
    {
     "name": "stderr",
     "output_type": "stream",
     "text": [
      "C:\\Users\\brent\\AppData\\Roaming\\Python\\Python37\\site-packages\\fastai\\datasets.py:156: YAMLLoadWarning: calling yaml.load() without Loader=... is deprecated, as the default Loader is unsafe. Please read https://msg.pyyaml.org/load for full details.\n",
      "  with open(fpath, 'r') as yaml_file: return yaml.load(yaml_file)\n"
     ]
    }
   ],
   "source": [
    "data_lm = load_data(path, 'data_block_lm.pkl',bs=384)\n",
    "learn = language_model_learner(data_lm, AWD_LSTM, drop_mult=0.3)"
   ]
  },
  {
   "cell_type": "code",
   "execution_count": 5,
   "metadata": {},
   "outputs": [
    {
     "data": {
      "text/html": [
       "<table border=\"1\" class=\"dataframe\">\n",
       "  <thead>\n",
       "    <tr style=\"text-align: right;\">\n",
       "      <th>idx</th>\n",
       "      <th>text</th>\n",
       "    </tr>\n",
       "  </thead>\n",
       "  <tbody>\n",
       "    <tr>\n",
       "      <td>0</td>\n",
       "      <td>we want to own ? xxbos xxup carrie : : xxmaj tim was xxunk , a well - liked and respected investment banker who made about two million a year . xxbos xxup carrie : : xxmaj they met one evening , in typical xxmaj new xxmaj york fashion at a gallery opening . xxbos xxup tim : : xxmaj like it ? xxbos xxup elizabeth : : xxmaj yes</td>\n",
       "    </tr>\n",
       "    <tr>\n",
       "      <td>1</td>\n",
       "      <td>god , what was his name ? xxbos xxup group : : xxmaj drew . xxbos xxup carrie : : xxmaj drew the sex god . xxbos xxup samantha : : xxmaj right . xxbos xxup samantha : : xxmaj afterwards ? i did n't feel a thing . xxbos xxup samantha : : xxmaj it was like , \" xxmaj hey , babe , got ta go . xxbos</td>\n",
       "    </tr>\n",
       "    <tr>\n",
       "      <td>2</td>\n",
       "      <td>that i 'd done it . xxbos xxup carrie : : i 'd just had sex like a man . xxbos xxup carrie : : i left feeling powerful , xxunk and incredibly alive . xxbos xxup carrie : : i felt like i owned this city . xxbos xxup carrie : : xxmaj nothing and no one could get in my way . xxbos xxup carrie : : -</td>\n",
       "    </tr>\n",
       "    <tr>\n",
       "      <td>3</td>\n",
       "      <td>plus i own my own business . xxbos xxup carrie : : xxmaj samantha had the kind of deluded self - xxunk that caused men like xxmaj ross xxmaj xxunk to run for president and it usually got her what she wanted . xxbos xxup samantha : : xxmaj well , if you 're not gon na hit on him , i will . xxbos xxup carrie : : xxmaj</td>\n",
       "    </tr>\n",
       "    <tr>\n",
       "      <td>4</td>\n",
       "      <td>xxup guest 1 : : xxmaj bing xxmaj crosby , i stand by my choice xxbos xxup miranda : : xxmaj sean xxmaj xxunk . xxbos xxup miranda : : xxmaj yesterday , today and tomorrow . xxbos xxup carrie : : xxmaj for a first date , xxmaj miranda felt like she was hitting it out of the ballpark . xxbos xxup miranda : : xxmaj thanks . xxbos</td>\n",
       "    </tr>\n",
       "  </tbody>\n",
       "</table>"
      ],
      "text/plain": [
       "<IPython.core.display.HTML object>"
      ]
     },
     "metadata": {},
     "output_type": "display_data"
    }
   ],
   "source": [
    "data_lm\n",
    "data_lm.show_batch()"
   ]
  },
  {
   "cell_type": "code",
   "execution_count": 6,
   "metadata": {},
   "outputs": [
    {
     "data": {
      "text/html": [],
      "text/plain": [
       "<IPython.core.display.HTML object>"
      ]
     },
     "metadata": {},
     "output_type": "display_data"
    },
    {
     "name": "stdout",
     "output_type": "stream",
     "text": [
      "LR Finder is complete, type {learner_name}.recorder.plot() to see the graph.\n"
     ]
    },
    {
     "data": {
      "image/png": "[encoded data removed]",
      "text/plain": [
       "<Figure size 432x288 with 1 Axes>"
      ]
     },
     "metadata": {
      "needs_background": "light"
     },
     "output_type": "display_data"
    }
   ],
   "source": [
    "learn.lr_find()\n",
    "learn.recorder.plot(skip_end=15)"
   ]
  },
  {
   "cell_type": "code",
   "execution_count": 7,
   "metadata": {},
   "outputs": [
    {
     "data": {
      "text/html": [
       "Total time: 03:51 <p><table border=\"1\" class=\"dataframe\">\n",
       "  <thead>\n",
       "    <tr style=\"text-align: left;\">\n",
       "      <th>epoch</th>\n",
       "      <th>train_loss</th>\n",
       "      <th>valid_loss</th>\n",
       "      <th>accuracy</th>\n",
       "      <th>time</th>\n",
       "    </tr>\n",
       "  </thead>\n",
       "  <tbody>\n",
       "    <tr>\n",
       "      <td>0</td>\n",
       "      <td>5.903359</td>\n",
       "      <td>5.458708</td>\n",
       "      <td>0.168229</td>\n",
       "      <td>00:11</td>\n",
       "    </tr>\n",
       "    <tr>\n",
       "      <td>1</td>\n",
       "      <td>5.378942</td>\n",
       "      <td>4.258925</td>\n",
       "      <td>0.266815</td>\n",
       "      <td>00:11</td>\n",
       "    </tr>\n",
       "    <tr>\n",
       "      <td>2</td>\n",
       "      <td>4.675931</td>\n",
       "      <td>3.423292</td>\n",
       "      <td>0.395461</td>\n",
       "      <td>00:11</td>\n",
       "    </tr>\n",
       "    <tr>\n",
       "      <td>3</td>\n",
       "      <td>4.030128</td>\n",
       "      <td>2.827710</td>\n",
       "      <td>0.471577</td>\n",
       "      <td>00:11</td>\n",
       "    </tr>\n",
       "    <tr>\n",
       "      <td>4</td>\n",
       "      <td>3.530687</td>\n",
       "      <td>2.728088</td>\n",
       "      <td>0.480878</td>\n",
       "      <td>00:11</td>\n",
       "    </tr>\n",
       "    <tr>\n",
       "      <td>5</td>\n",
       "      <td>3.198222</td>\n",
       "      <td>2.685916</td>\n",
       "      <td>0.482850</td>\n",
       "      <td>00:11</td>\n",
       "    </tr>\n",
       "    <tr>\n",
       "      <td>6</td>\n",
       "      <td>2.970131</td>\n",
       "      <td>2.661168</td>\n",
       "      <td>0.486272</td>\n",
       "      <td>00:11</td>\n",
       "    </tr>\n",
       "    <tr>\n",
       "      <td>7</td>\n",
       "      <td>2.812135</td>\n",
       "      <td>2.651084</td>\n",
       "      <td>0.489100</td>\n",
       "      <td>00:11</td>\n",
       "    </tr>\n",
       "    <tr>\n",
       "      <td>8</td>\n",
       "      <td>2.696773</td>\n",
       "      <td>2.649864</td>\n",
       "      <td>0.488876</td>\n",
       "      <td>00:11</td>\n",
       "    </tr>\n",
       "    <tr>\n",
       "      <td>9</td>\n",
       "      <td>2.613696</td>\n",
       "      <td>2.642417</td>\n",
       "      <td>0.489844</td>\n",
       "      <td>00:11</td>\n",
       "    </tr>\n",
       "    <tr>\n",
       "      <td>10</td>\n",
       "      <td>2.547386</td>\n",
       "      <td>2.634631</td>\n",
       "      <td>0.492076</td>\n",
       "      <td>00:11</td>\n",
       "    </tr>\n",
       "    <tr>\n",
       "      <td>11</td>\n",
       "      <td>2.507221</td>\n",
       "      <td>2.628881</td>\n",
       "      <td>0.491555</td>\n",
       "      <td>00:11</td>\n",
       "    </tr>\n",
       "    <tr>\n",
       "      <td>12</td>\n",
       "      <td>2.462349</td>\n",
       "      <td>2.627301</td>\n",
       "      <td>0.494122</td>\n",
       "      <td>00:11</td>\n",
       "    </tr>\n",
       "    <tr>\n",
       "      <td>13</td>\n",
       "      <td>2.424894</td>\n",
       "      <td>2.627330</td>\n",
       "      <td>0.492857</td>\n",
       "      <td>00:11</td>\n",
       "    </tr>\n",
       "    <tr>\n",
       "      <td>14</td>\n",
       "      <td>2.397099</td>\n",
       "      <td>2.625208</td>\n",
       "      <td>0.492560</td>\n",
       "      <td>00:11</td>\n",
       "    </tr>\n",
       "    <tr>\n",
       "      <td>15</td>\n",
       "      <td>2.374808</td>\n",
       "      <td>2.626981</td>\n",
       "      <td>0.494903</td>\n",
       "      <td>00:11</td>\n",
       "    </tr>\n",
       "    <tr>\n",
       "      <td>16</td>\n",
       "      <td>2.358458</td>\n",
       "      <td>2.627779</td>\n",
       "      <td>0.495238</td>\n",
       "      <td>00:11</td>\n",
       "    </tr>\n",
       "    <tr>\n",
       "      <td>17</td>\n",
       "      <td>2.343269</td>\n",
       "      <td>2.629769</td>\n",
       "      <td>0.493564</td>\n",
       "      <td>00:11</td>\n",
       "    </tr>\n",
       "    <tr>\n",
       "      <td>18</td>\n",
       "      <td>2.331768</td>\n",
       "      <td>2.627145</td>\n",
       "      <td>0.494159</td>\n",
       "      <td>00:11</td>\n",
       "    </tr>\n",
       "    <tr>\n",
       "      <td>19</td>\n",
       "      <td>2.327047</td>\n",
       "      <td>2.626053</td>\n",
       "      <td>0.493601</td>\n",
       "      <td>00:11</td>\n",
       "    </tr>\n",
       "  </tbody>\n",
       "</table>"
      ],
      "text/plain": [
       "<IPython.core.display.HTML object>"
      ]
     },
     "metadata": {},
     "output_type": "display_data"
    }
   ],
   "source": [
    "learn.fit_one_cycle(20, 1e-2, moms=(0.8,0.7))"
   ]
  },
  {
   "cell_type": "code",
   "execution_count": 8,
   "metadata": {},
   "outputs": [],
   "source": [
    "learn.save('fit_head')"
   ]
  },
  {
   "cell_type": "code",
   "execution_count": 9,
   "metadata": {},
   "outputs": [],
   "source": [
    "learn.unfreeze()"
   ]
  },
  {
   "cell_type": "code",
   "execution_count": 10,
   "metadata": {},
   "outputs": [
    {
     "data": {
      "text/html": [
       "Total time: 05:14 <p><table border=\"1\" class=\"dataframe\">\n",
       "  <thead>\n",
       "    <tr style=\"text-align: left;\">\n",
       "      <th>epoch</th>\n",
       "      <th>train_loss</th>\n",
       "      <th>valid_loss</th>\n",
       "      <th>accuracy</th>\n",
       "      <th>time</th>\n",
       "    </tr>\n",
       "  </thead>\n",
       "  <tbody>\n",
       "    <tr>\n",
       "      <td>0</td>\n",
       "      <td>2.329041</td>\n",
       "      <td>2.627448</td>\n",
       "      <td>0.493787</td>\n",
       "      <td>00:15</td>\n",
       "    </tr>\n",
       "    <tr>\n",
       "      <td>1</td>\n",
       "      <td>2.305839</td>\n",
       "      <td>2.623954</td>\n",
       "      <td>0.493415</td>\n",
       "      <td>00:15</td>\n",
       "    </tr>\n",
       "    <tr>\n",
       "      <td>2</td>\n",
       "      <td>2.286514</td>\n",
       "      <td>2.617912</td>\n",
       "      <td>0.496391</td>\n",
       "      <td>00:15</td>\n",
       "    </tr>\n",
       "    <tr>\n",
       "      <td>3</td>\n",
       "      <td>2.267854</td>\n",
       "      <td>2.613996</td>\n",
       "      <td>0.496726</td>\n",
       "      <td>00:15</td>\n",
       "    </tr>\n",
       "    <tr>\n",
       "      <td>4</td>\n",
       "      <td>2.244901</td>\n",
       "      <td>2.606811</td>\n",
       "      <td>0.497396</td>\n",
       "      <td>00:15</td>\n",
       "    </tr>\n",
       "    <tr>\n",
       "      <td>5</td>\n",
       "      <td>2.215837</td>\n",
       "      <td>2.618395</td>\n",
       "      <td>0.496689</td>\n",
       "      <td>00:15</td>\n",
       "    </tr>\n",
       "    <tr>\n",
       "      <td>6</td>\n",
       "      <td>2.194420</td>\n",
       "      <td>2.617142</td>\n",
       "      <td>0.497173</td>\n",
       "      <td>00:15</td>\n",
       "    </tr>\n",
       "    <tr>\n",
       "      <td>7</td>\n",
       "      <td>2.159266</td>\n",
       "      <td>2.633120</td>\n",
       "      <td>0.496168</td>\n",
       "      <td>00:15</td>\n",
       "    </tr>\n",
       "    <tr>\n",
       "      <td>8</td>\n",
       "      <td>2.118809</td>\n",
       "      <td>2.637964</td>\n",
       "      <td>0.495722</td>\n",
       "      <td>00:15</td>\n",
       "    </tr>\n",
       "    <tr>\n",
       "      <td>9</td>\n",
       "      <td>2.083519</td>\n",
       "      <td>2.652978</td>\n",
       "      <td>0.495089</td>\n",
       "      <td>00:15</td>\n",
       "    </tr>\n",
       "    <tr>\n",
       "      <td>10</td>\n",
       "      <td>2.058342</td>\n",
       "      <td>2.647616</td>\n",
       "      <td>0.497210</td>\n",
       "      <td>00:15</td>\n",
       "    </tr>\n",
       "    <tr>\n",
       "      <td>11</td>\n",
       "      <td>2.022721</td>\n",
       "      <td>2.663285</td>\n",
       "      <td>0.495833</td>\n",
       "      <td>00:16</td>\n",
       "    </tr>\n",
       "    <tr>\n",
       "      <td>12</td>\n",
       "      <td>1.985213</td>\n",
       "      <td>2.683280</td>\n",
       "      <td>0.494606</td>\n",
       "      <td>00:15</td>\n",
       "    </tr>\n",
       "    <tr>\n",
       "      <td>13</td>\n",
       "      <td>1.960464</td>\n",
       "      <td>2.678695</td>\n",
       "      <td>0.495052</td>\n",
       "      <td>00:15</td>\n",
       "    </tr>\n",
       "    <tr>\n",
       "      <td>14</td>\n",
       "      <td>1.936121</td>\n",
       "      <td>2.685929</td>\n",
       "      <td>0.495499</td>\n",
       "      <td>00:15</td>\n",
       "    </tr>\n",
       "    <tr>\n",
       "      <td>15</td>\n",
       "      <td>1.911853</td>\n",
       "      <td>2.699100</td>\n",
       "      <td>0.494680</td>\n",
       "      <td>00:15</td>\n",
       "    </tr>\n",
       "    <tr>\n",
       "      <td>16</td>\n",
       "      <td>1.892017</td>\n",
       "      <td>2.699328</td>\n",
       "      <td>0.495313</td>\n",
       "      <td>00:15</td>\n",
       "    </tr>\n",
       "    <tr>\n",
       "      <td>17</td>\n",
       "      <td>1.875067</td>\n",
       "      <td>2.703309</td>\n",
       "      <td>0.493973</td>\n",
       "      <td>00:15</td>\n",
       "    </tr>\n",
       "    <tr>\n",
       "      <td>18</td>\n",
       "      <td>1.867961</td>\n",
       "      <td>2.701576</td>\n",
       "      <td>0.494159</td>\n",
       "      <td>00:15</td>\n",
       "    </tr>\n",
       "    <tr>\n",
       "      <td>19</td>\n",
       "      <td>1.865288</td>\n",
       "      <td>2.701428</td>\n",
       "      <td>0.494382</td>\n",
       "      <td>00:15</td>\n",
       "    </tr>\n",
       "  </tbody>\n",
       "</table>"
      ],
      "text/plain": [
       "<IPython.core.display.HTML object>"
      ]
     },
     "metadata": {},
     "output_type": "display_data"
    }
   ],
   "source": [
    "learn.fit_one_cycle(20, 1e-3, moms=(0.8,0.7))"
   ]
  },
  {
   "cell_type": "code",
   "execution_count": 11,
   "metadata": {},
   "outputs": [],
   "source": [
    "learn.save('fine_tuned')\n",
    "learn.save_encoder('fine_tuned_enc')"
   ]
  },
  {
   "cell_type": "code",
   "execution_count": 12,
   "metadata": {},
   "outputs": [
    {
     "data": {
      "text/html": [
       "Total time: 05:13 <p><table border=\"1\" class=\"dataframe\">\n",
       "  <thead>\n",
       "    <tr style=\"text-align: left;\">\n",
       "      <th>epoch</th>\n",
       "      <th>train_loss</th>\n",
       "      <th>valid_loss</th>\n",
       "      <th>accuracy</th>\n",
       "      <th>time</th>\n",
       "    </tr>\n",
       "  </thead>\n",
       "  <tbody>\n",
       "    <tr>\n",
       "      <td>0</td>\n",
       "      <td>1.844090</td>\n",
       "      <td>2.707619</td>\n",
       "      <td>0.494271</td>\n",
       "      <td>00:15</td>\n",
       "    </tr>\n",
       "    <tr>\n",
       "      <td>1</td>\n",
       "      <td>1.850467</td>\n",
       "      <td>2.704762</td>\n",
       "      <td>0.494792</td>\n",
       "      <td>00:15</td>\n",
       "    </tr>\n",
       "    <tr>\n",
       "      <td>2</td>\n",
       "      <td>1.848465</td>\n",
       "      <td>2.707257</td>\n",
       "      <td>0.494345</td>\n",
       "      <td>00:15</td>\n",
       "    </tr>\n",
       "    <tr>\n",
       "      <td>3</td>\n",
       "      <td>1.848160</td>\n",
       "      <td>2.711402</td>\n",
       "      <td>0.495127</td>\n",
       "      <td>00:15</td>\n",
       "    </tr>\n",
       "    <tr>\n",
       "      <td>4</td>\n",
       "      <td>1.847846</td>\n",
       "      <td>2.710399</td>\n",
       "      <td>0.493936</td>\n",
       "      <td>00:15</td>\n",
       "    </tr>\n",
       "    <tr>\n",
       "      <td>5</td>\n",
       "      <td>1.848554</td>\n",
       "      <td>2.712913</td>\n",
       "      <td>0.493936</td>\n",
       "      <td>00:15</td>\n",
       "    </tr>\n",
       "    <tr>\n",
       "      <td>6</td>\n",
       "      <td>1.844034</td>\n",
       "      <td>2.714288</td>\n",
       "      <td>0.494643</td>\n",
       "      <td>00:15</td>\n",
       "    </tr>\n",
       "    <tr>\n",
       "      <td>7</td>\n",
       "      <td>1.837803</td>\n",
       "      <td>2.712879</td>\n",
       "      <td>0.493527</td>\n",
       "      <td>00:15</td>\n",
       "    </tr>\n",
       "    <tr>\n",
       "      <td>8</td>\n",
       "      <td>1.849705</td>\n",
       "      <td>2.708090</td>\n",
       "      <td>0.494568</td>\n",
       "      <td>00:15</td>\n",
       "    </tr>\n",
       "    <tr>\n",
       "      <td>9</td>\n",
       "      <td>1.846744</td>\n",
       "      <td>2.721080</td>\n",
       "      <td>0.494457</td>\n",
       "      <td>00:15</td>\n",
       "    </tr>\n",
       "    <tr>\n",
       "      <td>10</td>\n",
       "      <td>1.837174</td>\n",
       "      <td>2.717010</td>\n",
       "      <td>0.494085</td>\n",
       "      <td>00:15</td>\n",
       "    </tr>\n",
       "    <tr>\n",
       "      <td>11</td>\n",
       "      <td>1.829190</td>\n",
       "      <td>2.719224</td>\n",
       "      <td>0.494271</td>\n",
       "      <td>00:15</td>\n",
       "    </tr>\n",
       "    <tr>\n",
       "      <td>12</td>\n",
       "      <td>1.823712</td>\n",
       "      <td>2.720776</td>\n",
       "      <td>0.494866</td>\n",
       "      <td>00:15</td>\n",
       "    </tr>\n",
       "    <tr>\n",
       "      <td>13</td>\n",
       "      <td>1.819950</td>\n",
       "      <td>2.725877</td>\n",
       "      <td>0.494308</td>\n",
       "      <td>00:15</td>\n",
       "    </tr>\n",
       "    <tr>\n",
       "      <td>14</td>\n",
       "      <td>1.818995</td>\n",
       "      <td>2.721498</td>\n",
       "      <td>0.493638</td>\n",
       "      <td>00:15</td>\n",
       "    </tr>\n",
       "    <tr>\n",
       "      <td>15</td>\n",
       "      <td>1.818556</td>\n",
       "      <td>2.726921</td>\n",
       "      <td>0.493266</td>\n",
       "      <td>00:15</td>\n",
       "    </tr>\n",
       "    <tr>\n",
       "      <td>16</td>\n",
       "      <td>1.814572</td>\n",
       "      <td>2.724823</td>\n",
       "      <td>0.492374</td>\n",
       "      <td>00:15</td>\n",
       "    </tr>\n",
       "    <tr>\n",
       "      <td>17</td>\n",
       "      <td>1.812581</td>\n",
       "      <td>2.725501</td>\n",
       "      <td>0.494048</td>\n",
       "      <td>00:15</td>\n",
       "    </tr>\n",
       "    <tr>\n",
       "      <td>18</td>\n",
       "      <td>1.810029</td>\n",
       "      <td>2.725904</td>\n",
       "      <td>0.493341</td>\n",
       "      <td>00:15</td>\n",
       "    </tr>\n",
       "    <tr>\n",
       "      <td>19</td>\n",
       "      <td>1.807040</td>\n",
       "      <td>2.721137</td>\n",
       "      <td>0.494196</td>\n",
       "      <td>00:15</td>\n",
       "    </tr>\n",
       "  </tbody>\n",
       "</table>"
      ],
      "text/plain": [
       "<IPython.core.display.HTML object>"
      ]
     },
     "metadata": {},
     "output_type": "display_data"
    }
   ],
   "source": [
    "learn.fit_one_cycle(20, 1e-4, moms=(0.8,0.7))"
   ]
  },
  {
   "cell_type": "code",
   "execution_count": 13,
   "metadata": {},
   "outputs": [],
   "source": [
    "learn.save('fine_tuned')\n",
    "learn.save_encoder('fine_tuned_enc')"
   ]
  },
  {
   "cell_type": "markdown",
   "metadata": {},
   "source": [
    "# We have our trained model Now"
   ]
  },
  {
   "cell_type": "code",
   "execution_count": 14,
   "metadata": {},
   "outputs": [],
   "source": [
    "from pathlib import Path\n",
    "import pandas as pd\n",
    "import re\n",
    "import os\n",
    "from fastai.text import *\n",
    "import string\n",
    "import numpy as np\n",
    "\n",
    "%reload_ext autoreload\n",
    "%autoreload 2\n",
    "%matplotlib inline\n",
    "\n",
    "cwd = os.getcwd()\n",
    "path = Path(cwd)"
   ]
  },
  {
   "cell_type": "code",
   "execution_count": 15,
   "metadata": {},
   "outputs": [
    {
     "name": "stderr",
     "output_type": "stream",
     "text": [
      "C:\\Users\\brent\\AppData\\Roaming\\Python\\Python37\\site-packages\\fastai\\datasets.py:156: YAMLLoadWarning: calling yaml.load() without Loader=... is deprecated, as the default Loader is unsafe. Please read https://msg.pyyaml.org/load for full details.\n",
      "  with open(fpath, 'r') as yaml_file: return yaml.load(yaml_file)\n"
     ]
    }
   ],
   "source": [
    "data_lm = load_data(path, 'data_block_lm.pkl',bs=384)\n",
    "learn = language_model_learner(data_lm, AWD_LSTM, drop_mult=0.3)\n",
    "learn.load('fine_tuned')\n",
    "learn.load_encoder('fine_tuned_enc')"
   ]
  },
  {
   "cell_type": "code",
   "execution_count": 17,
   "metadata": {},
   "outputs": [
    {
     "data": {
      "text/plain": [
       "\"CARRIE : : - Thanks , The Man Who Women Are . xxbos CHARLOTTE : : When i get dressed , you need cream cheese , cheese salad . xxbos AIDAN : : Okay , that 's shit , huh ? Oh , my God ! You want to take a look here . Run for me at MORTGAGE Guy on the East Side . xxbos SAMANTHA : : Everyone 's giving me a call . xxbos CARRIE : : Not quite a date with a man who buys the much information they should not be trying . xxbos CARRIE : : And the new dating queen whose broken act Dolce & Gabbana could keep a secret ? xxbos CARRIE : : Then why do you have to act like that ? Yeah ? xxbos TOM : : He blonde with the arms of a So So sweet , powerful . xxbos MIRANDA : : How did i keep pure new and did you have a\""
      ]
     },
     "execution_count": 17,
     "metadata": {},
     "output_type": "execute_result"
    }
   ],
   "source": [
    "learn.predict(\"CARRIE\", 200, temperature=1.0)"
   ]
  },
  {
   "cell_type": "markdown",
   "metadata": {},
   "source": [
    "### We Create Some Functions that Will Help us Write "
   ]
  },
  {
   "cell_type": "code",
   "execution_count": 18,
   "metadata": {},
   "outputs": [],
   "source": [
    "def GetCharacterLines(character, numberOfLines = 1, temperatureChange = True, temperature = 1.0):\n",
    "    N_WORDS = 150\n",
    "    EPSILON = 0.1\n",
    "    #We predict the next N_WORDS\n",
    "    #Each iteration increases the temperature of the sentence.  We interpolate between 0 and 1.\n",
    "    if temperatureChange:\n",
    "        predictedLines = list(learn.predict(character.upper(), N_WORDS,\n",
    "                                            temperature=EPSILON + (i/(numberOfLines-1))).split(\"xxbos\")[0] for i in range(numberOfLines))\n",
    "    else:\n",
    "        predictedLines = list(learn.predict(character.upper(), N_WORDS,\n",
    "                                            temperature=temperature).split(\"xxbos\")[0] for i in range(numberOfLines))\n",
    "    return predictedLines"
   ]
  },
  {
   "cell_type": "code",
   "execution_count": 19,
   "metadata": {},
   "outputs": [],
   "source": [
    "def RecursiveLine(line = \"\", numberOfLines = 5, temperature = 1):\n",
    "    \"\"\"Accept a line and continuously feeds it into the model to build a block of the script.\"\"\"\n",
    "    N_WORDS = 150\n",
    "    dialog = \"\"\n",
    "    for i in range(numberOfLines):\n",
    "        #Sometimes we don't see the xxbos token and get an exception\n",
    "        try:\n",
    "            line = learn.predict(line, N_WORDS, temperature=temperature).split(\"xxbos\")[i] + \"xxbos\"\n",
    "        except:\n",
    "            line = line\n",
    "\n",
    "        dialog = dialog + line\n",
    "    \n",
    "    dialog = dialog.split(\"xxbos\")[:-1]\n",
    "    return dialog"
   ]
  },
  {
   "cell_type": "code",
   "execution_count": 20,
   "metadata": {},
   "outputs": [],
   "source": [
    "def ConversationLines(characterList, numberOfLines = 5, temperature = 1):\n",
    "    \"\"\"Accept a list of character names.  We reject any sentences that do not begin with these particular characters.\n",
    "    The same character will not speak 2 times in a row.\"\"\"\n",
    "    N_WORDS = 100\n",
    "    dialog = \"\"\n",
    "    line = \"\"\n",
    "    lastCharacter = str(None)\n",
    "    \n",
    "    characterList = [character.upper() for character in characterList]\n",
    "    \n",
    "    for i in range(numberOfLines):\n",
    "        #Keep creating lines until we have one of the characters\n",
    "        while True:\n",
    "            line = \"\"\n",
    "            line = learn.predict(line, N_WORDS, temperature=temperature).split(\"xxbos\")[0] + \" xxbos \"\n",
    "            #Who is the current speaker for the line?\n",
    "            currentCharacter = line.split(\" \")[1]\n",
    "            if (any(character in line for character in characterList)) and (currentCharacter != lastCharacter):\n",
    "                break\n",
    "    \n",
    "        dialog = dialog + line\n",
    "        lastCharacter = line.split(\" \")[1]\n",
    "    \n",
    "    dialog = dialog.split(\"xxbos\")[:-1]\n",
    "    dialog = [line.lstrip() for line in dialog]\n",
    "    return dialog"
   ]
  },
  {
   "cell_type": "code",
   "execution_count": 21,
   "metadata": {},
   "outputs": [],
   "source": [
    "def ConversationLinesRecursive(characterList, numberOfLines = 5, temperature = 1):\n",
    "    \"\"\"Accept a list of character names.  We reject any sentences that do not begin with these particular characters.\n",
    "    The same character will not speak 2 times in a row.\n",
    "    Continuously Feeds the past dialog in to generate the text\"\"\"\n",
    "    N_WORDS = 100\n",
    "    dialog = \"\"\n",
    "    lastCharacter = str(None)\n",
    "    \n",
    "    #Put the character list into all uppercase\n",
    "    characterList = [character.upper() for character in characterList]\n",
    "    \n",
    "    #We generate the number of lines\n",
    "    for i in range(numberOfLines):\n",
    "        \n",
    "        #Keep creating lines until we have one of the characters\n",
    "        while True:\n",
    "            line = learn.predict(dialog, N_WORDS, temperature=temperature).split(\"xxbos\")[-1] + \" xxbos \"\n",
    "            #Who is the current speaker for the line?\n",
    "            currentCharacter = line.split(\" \")[1]\n",
    "            if (any(character in line for character in characterList)) and (currentCharacter != lastCharacter):\n",
    "                break\n",
    "    \n",
    "        dialog = dialog + line\n",
    "        lastCharacter = line.split(\" \")[1]\n",
    "        \n",
    "    dialog = dialog.split(\"xxbos\")[:-1]\n",
    "    dialog = [line.lstrip() for line in dialog]\n",
    "    return dialog"
   ]
  },
  {
   "cell_type": "markdown",
   "metadata": {},
   "source": [
    "### Some Examples of Lines we can write automatically"
   ]
  },
  {
   "cell_type": "code",
   "execution_count": 22,
   "metadata": {},
   "outputs": [
    {
     "data": {
      "text/plain": [
       "['Carrie : : Writing about the relationships of women in the arts is one thing . ',\n",
       " ' MIKE : : Did i think Mitch could have Any problems ? ',\n",
       " ' CHYNA : : She wears underwear . ',\n",
       " \" CARRIE : : i would n't have left Aidan out here for a walk or something . \",\n",
       " \" MIRANDA : : i do n't know . \"]"
      ]
     },
     "execution_count": 22,
     "metadata": {},
     "output_type": "execute_result"
    }
   ],
   "source": [
    "RecursiveLine(\"Carrie\")"
   ]
  },
  {
   "cell_type": "code",
   "execution_count": 27,
   "metadata": {
    "scrolled": false
   },
   "outputs": [
    {
     "data": {
      "text/plain": [
       "[\"SAMANTHA : : Well it 's more like Yankee Mr. Joe .  \",\n",
       " 'MIRANDA : : i am so fucked up .  ',\n",
       " 'CARRIE : : What does this mean ?  ',\n",
       " \"SAMANTHA : : i 'm drunk ! It 's a girl i 'm talking about .  \",\n",
       " 'CARRIE : : Unfortunately , it was time for our toast .  ']"
      ]
     },
     "execution_count": 27,
     "metadata": {},
     "output_type": "execute_result"
    }
   ],
   "source": [
    "characters = [\"Carrie\", \"Miranda\", \"Samantha\", \"Charlotte\"]\n",
    "ConversationLines(characters, numberOfLines=5, temperature= 0.9)"
   ]
  },
  {
   "cell_type": "code",
   "execution_count": 26,
   "metadata": {
    "scrolled": false
   },
   "outputs": [
    {
     "data": {
      "text/plain": [
       "[\"CARRIE : : It 's most clear in the way we feel \",\n",
       " 'SAMANTHA : ',\n",
       " 'MIRANDA : ',\n",
       " \"CHARLOTTE : : i mean , that 's what they 're doing . \",\n",
       " 'MIRANDA : : What are You ']"
      ]
     },
     "execution_count": 26,
     "metadata": {},
     "output_type": "execute_result"
    }
   ],
   "source": [
    "characters = [\"Carrie\", \"Miranda\", \"Samantha\", \"Charlotte\"]\n",
    "ConversationLinesRecursive(characters, numberOfLines=5, temperature= 0.9)"
   ]
  },
  {
   "cell_type": "code",
   "execution_count": 25,
   "metadata": {},
   "outputs": [
    {
     "data": {
      "text/plain": [
       "['BIG : : What ? It ’s on your face too , baby . ',\n",
       " \"BIG : : We get in here and you 're down , Ira and i are going out for dinner tonight . \",\n",
       " 'BIG : : Who throw these things into the building ? The New York kid is perfect . You made it all the time . ',\n",
       " 'BIG : : It was the weakness of a hot man to figure out what to do about a woman that was her mother . ',\n",
       " \"BIG : : i 've lined up outside and i feel tiny . \",\n",
       " \"BIG : : - No , you 're on the list . \",\n",
       " 'BIG : : Well , that up . ',\n",
       " 'BIG : : Hey , here . ',\n",
       " \"BIG : : She 's a friend of mine . So you know how naughty he does that when he feels sad ? \",\n",
       " 'BIG : : Good night . ']"
      ]
     },
     "execution_count": 25,
     "metadata": {},
     "output_type": "execute_result"
    }
   ],
   "source": [
    "GetCharacterLines(\"Big\", numberOfLines=10, temperatureChange=False, temperature=1)"
   ]
  },
  {
   "cell_type": "markdown",
   "metadata": {},
   "source": [
    "# Area to Generate Dialog"
   ]
  },
  {
   "cell_type": "markdown",
   "metadata": {},
   "source": [
    "# My Script"
   ]
  },
  {
   "cell_type": "code",
   "execution_count": 28,
   "metadata": {},
   "outputs": [
    {
     "data": {
      "text/plain": [
       "['MIRANDA : : And he is .  ',\n",
       " \"SAMANTHA : : i should laugh as much as i can . If you ever had an evening you 'd really like to have dinner with him .  \",\n",
       " \"CARRIE : : God , we 've been trying to get a table for two months .  \",\n",
       " 'SAMANTHA : : i love Milk in romance .  ',\n",
       " \"CARRIE : : They were was n't French enough , literally .  \",\n",
       " \"SAMANTHA : : It 's n't an easy question for me , Samantha .  \",\n",
       " 'CARRIE : : There are cute guys in New York .  ',\n",
       " 'CHARLOTTE : : i told him uhm , then i am .  ',\n",
       " 'SAMANTHA : : How only mean sex ?  ',\n",
       " 'CARRIE : : Okay .  ',\n",
       " \"CHARLOTTE : : No , she 's a doctor . i 've never felt more comfortable with that bulge . And now i have something to look for .  \",\n",
       " 'CARRIE : : From a very good coach , i knew it was mine .  ',\n",
       " \"MIRANDA : : You can make and think it 's because you 're not a sure person .  \",\n",
       " \"CARRIE : : You said you were n't invited to any charity benefit ?  \",\n",
       " 'SAMANTHA : : What are You doing right there ?  ',\n",
       " 'CARRIE : : You were a charming side of the paper .  ',\n",
       " 'MIRANDA : : Oh well , Yes , Thanks .  ',\n",
       " \"CHARLOTTE : : - Also , i 'm flashing before you .  \",\n",
       " \"CARRIE : : It 's a lot of mistakes .  \",\n",
       " 'CHARLOTTE : : i went to Mr.  ',\n",
       " \"CARRIE : : That 's great .  \",\n",
       " 'MIRANDA : : Good . You had the most beautiful beautiful lady in the world .  ',\n",
       " \"SAMANTHA : : i really do n't think you 're lucky .  \",\n",
       " \"CHARLOTTE : : i do n't have time for it to be like that .  \",\n",
       " 'MIRANDA : : You got ta go .  ',\n",
       " \"CARRIE : : - i 've also got a cab home .  \",\n",
       " 'MIRANDA : : Where have i been ?  ',\n",
       " \"CARRIE : : i 'm a free agent and i want to save my days .  \",\n",
       " 'MIRANDA : : i want to be with you , win me back , and send me out to the dentist .  ',\n",
       " 'CARRIE : : He said not .  ',\n",
       " 'MIRANDA : : You got upset  ',\n",
       " \"CARRIE : : Big does n't have any money , no shoes , it 's money .  \",\n",
       " \"CHARLOTTE : : - Please , do n't color me .  \",\n",
       " 'CARRIE : : brand - new .  ',\n",
       " \"MIRANDA : : It 's a fairly routine procedure . There are extremely exciting procedure to conceive .  \",\n",
       " 'CARRIE : : Nice to meet you .  ',\n",
       " \"SAMANTHA : : Well , if you ca n't stop a second , now we 're being better .  \",\n",
       " 'MIRANDA : : Bye .  ',\n",
       " \"CARRIE : : But it was n't that good .  \",\n",
       " \"SAMANTHA : : How are you ? - Where 's that ?  \",\n",
       " 'CARRIE : : That Saturday , she was determined to prove Charlotte wrong .  ',\n",
       " 'SAMANTHA : : But i get this .  ',\n",
       " 'CARRIE : : As Charlotte felt she could seem in her skinny jeans and treated ,  ',\n",
       " 'CHARLOTTE : : These people now settled for shoes and then i went up with cancer .  ',\n",
       " \"MIRANDA : : Embraced the white , did n't you notice ?  \",\n",
       " 'CARRIE : : We both know that Real Estate 5 is going to be a model .  ',\n",
       " 'MIRANDA : : There are big guys around town .  ',\n",
       " 'SAMANTHA : : i need You to get married without ever having sex .  ',\n",
       " \"CARRIE : : No , do n't you ?  \",\n",
       " 'CHARLOTTE : : Here hand . Is this great ?  ',\n",
       " \"CARRIE : : Are n't you hungry ? That 's what he wanted .  \",\n",
       " 'MIRANDA : : He lost his ability to open up and trust women .  ',\n",
       " \"CARRIE : : i do n't think so .  \",\n",
       " \"CHARLOTTE : : So , Carrie , i 've got one of those amazing things that never stopped ?  \",\n",
       " 'CARRIE : : The next night , Miranda gave Matt the LA LA # 1 to date him .  ',\n",
       " 'MIRANDA : : After that dog ate love .  ',\n",
       " \"SAMANTHA : : i 'm gon na fuck some girls that do n't fuck you .  \",\n",
       " 'CARRIE : : Perfect .  ',\n",
       " \"SAMANTHA : : That 's the way to keep the heat .  \",\n",
       " \"CARRIE : : i do n't know . That happened when women asked for a divorce or something .  \",\n",
       " \"MIRANDA : : Tour of Berger 's ’d .  \",\n",
       " 'CHARLOTTE : : In a city of great expectations , sometimes she must have to let go of a man .  ',\n",
       " \"SAMANTHA : : If you 're basically the sex about a woman around a bunch of pairs , i see Richard .  \",\n",
       " 'CHARLOTTE : : Would i get the money for this ?  ',\n",
       " \"CARRIE : : Two hours later , i did n't mean to leave stuff for your birthday tonight .  \",\n",
       " \"MIRANDA : : In a bad wig there 'd be no trouble .  \",\n",
       " 'CHARLOTTE : : It was like the time when Big and i was talking and nothing .  ',\n",
       " 'MIRANDA : : So you feel like me ?  ',\n",
       " \"CARRIE : : The next morning , Charlotte popped What 's going on .  \",\n",
       " \"CHARLOTTE : : i do n't want him to be one of those people who really appreciate your ability to get hurt .  \",\n",
       " \"CARRIE : : There 's one thing to say to a man that aside from her , she does n't know why they 'll love her . i think she 'd be happy when she made an appointment .  \",\n",
       " \"CHARLOTTE : : i 'm quitting .  \",\n",
       " \"CARRIE : : It 's ok .  \",\n",
       " \"MIRANDA : : Let 's go hang .  \",\n",
       " 'CARRIE : : Over my pick over him .  ',\n",
       " 'MIRANDA : : Who am i to judge you ?  ',\n",
       " 'CARRIE : : You want to come ?  ',\n",
       " 'SAMANTHA : : It ’s called \" Just a Minute \" .  ',\n",
       " 'CARRIE : : The next night , while Samantha was still unable to indulge her fantasy she had just hit the Soho house .  ',\n",
       " 'MIRANDA : : Yeah , Adeena invited me out .  ',\n",
       " \"CHARLOTTE : : i 'm trying to get hurt .  \",\n",
       " \"SAMANTHA : : Here 's a thing . The fact is , Richard has a job , then he wants to get laid . He 's just looking for love and he 's not awfully high enough to have a baby in a relationship .  \",\n",
       " 'CARRIE : : Okay , thank you .  ',\n",
       " \"SAMANTHA : : I 'm a jerk .  \",\n",
       " 'CHARLOTTE : : - i can Wait till you see my outfit .  ',\n",
       " 'CARRIE : : But the movie was considered fake .  ',\n",
       " \"MIRANDA : : - i 'm see i 'm on the list .  \",\n",
       " \"CARRIE : : Miranda 's calling Brady .  \",\n",
       " \"SAMANTHA : : That 's the thing that does n't make me feel better .  \",\n",
       " 'MIRANDA : : Sure .  ',\n",
       " \"SAMANTHA : : i ca n't believe it .  \",\n",
       " 'CARRIE : : i know .  ',\n",
       " \"MIRANDA : : They 're threatened by cancer and they ’re gon na fuck them all day .  \",\n",
       " \"CHARLOTTE : : i 'm not working .  \",\n",
       " 'CARRIE : : Bye .  ',\n",
       " \"MIRANDA : : i told her i 'm going to get the presents .  \",\n",
       " \"CARRIE : : i 'm sorry .  \",\n",
       " \"MIRANDA : : If you 're upset about your feelings ,  \",\n",
       " \"CARRIE : : Turns out in a column it 's in the press , yes .  \",\n",
       " \"MIRANDA : : i really do n't know why  \"]"
      ]
     },
     "execution_count": 28,
     "metadata": {},
     "output_type": "execute_result"
    }
   ],
   "source": [
    "characters = [\"Carrie\", \"Miranda\", \"Samantha\", \"Charlotte\"]\n",
    "ConversationLines(characters, numberOfLines=100, temperature= 0.9)"
   ]
  },
  {
   "cell_type": "code",
   "execution_count": null,
   "metadata": {},
   "outputs": [],
   "source": []
  }
 ],
 "metadata": {
  "_draft": {
   "nbviewer_url": "https://gist.github.com/0dd0df21cf404cf2bb51d0148c8b7d8b"
  },
  "gist": {
   "data": {
    "description": "fastai.text imdb example",
    "public": true
   },
   "id": "0dd0df21cf404cf2bb51d0148c8b7d8b"
  },
  "kernelspec": {
   "display_name": "Python 3",
   "language": "python",
   "name": "python3"
  },
  "language_info": {
   "codemirror_mode": {
    "name": "ipython",
    "version": 3
   },
   "file_extension": ".py",
   "mimetype": "text/x-python",
   "name": "python",
   "nbconvert_exporter": "python",
   "pygments_lexer": "ipython3",
   "version": "3.7.2"
  },
  "toc": {
   "colors": {
    "hover_highlight": "#DAA520",
    "navigate_num": "#000000",
    "navigate_text": "#333333",
    "running_highlight": "#FF0000",
    "selected_highlight": "#FFD700",
    "sidebar_border": "#EEEEEE",
    "wrapper_background": "#FFFFFF"
   },
   "moveMenuLeft": true,
   "nav_menu": {
    "height": "86px",
    "width": "252px"
   },
   "navigate_menu": true,
   "number_sections": true,
   "sideBar": true,
   "threshold": 4,
   "toc_cell": false,
   "toc_section_display": "block",
   "toc_window_display": false,
   "widenNotebook": false
  }
 },
 "nbformat": 4,
 "nbformat_minor": 2
}
