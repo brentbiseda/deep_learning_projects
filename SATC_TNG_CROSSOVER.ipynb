{
 "cells": [
  {
   "cell_type": "markdown",
   "metadata": {},
   "source": [
    "# Crossover Episodes - Picard Has Sex in Space"
   ]
  },
  {
   "cell_type": "markdown",
   "metadata": {},
   "source": [
    "## Sex and the City: The Next Generation More Episodes"
   ]
  },
  {
   "cell_type": "markdown",
   "metadata": {},
   "source": [
    "## SATC:TNG"
   ]
  },
  {
   "cell_type": "code",
   "execution_count": null,
   "metadata": {},
   "outputs": [],
   "source": [
    "import pandas as pd\n",
    "import re"
   ]
  },
  {
   "cell_type": "code",
   "execution_count": null,
   "metadata": {},
   "outputs": [],
   "source": [
    "satc = pd.read_csv(\"train.csv\")"
   ]
  },
  {
   "cell_type": "code",
   "execution_count": null,
   "metadata": {},
   "outputs": [],
   "source": [
    "tng = pd.read_csv(\"train_tng.csv\")"
   ]
  },
  {
   "cell_type": "code",
   "execution_count": null,
   "metadata": {},
   "outputs": [],
   "source": [
    "satc.head()"
   ]
  },
  {
   "cell_type": "code",
   "execution_count": null,
   "metadata": {},
   "outputs": [],
   "source": [
    "tng.head()"
   ]
  },
  {
   "cell_type": "code",
   "execution_count": null,
   "metadata": {},
   "outputs": [],
   "source": [
    "satc['text'] = satc['text'].replace(satc['label'] ,'PICARD', regex = True)"
   ]
  },
  {
   "cell_type": "code",
   "execution_count": null,
   "metadata": {},
   "outputs": [],
   "source": [
    "tngsatc = pd.concat([tng,satc])"
   ]
  },
  {
   "cell_type": "code",
   "execution_count": null,
   "metadata": {},
   "outputs": [],
   "source": [
    "len(satc)"
   ]
  },
  {
   "cell_type": "code",
   "execution_count": null,
   "metadata": {},
   "outputs": [],
   "source": [
    "len(tng)"
   ]
  },
  {
   "cell_type": "code",
   "execution_count": null,
   "metadata": {},
   "outputs": [],
   "source": [
    "len(tngsatc)"
   ]
  },
  {
   "cell_type": "code",
   "execution_count": null,
   "metadata": {},
   "outputs": [],
   "source": [
    "tngsatc.head()"
   ]
  },
  {
   "cell_type": "code",
   "execution_count": null,
   "metadata": {
    "scrolled": false
   },
   "outputs": [],
   "source": [
    "tngsatc.tail()"
   ]
  },
  {
   "cell_type": "code",
   "execution_count": null,
   "metadata": {},
   "outputs": [],
   "source": [
    "tngsatc = tngsatc.dropna(axis=0)\n",
    "\n",
    "tngsatc['is_valid'] = False\n",
    "\n",
    "tngsatc.to_csv('tngsatc.csv')"
   ]
  },
  {
   "cell_type": "markdown",
   "metadata": {},
   "source": [
    "### Read in our Edited Data Frame"
   ]
  },
  {
   "cell_type": "code",
   "execution_count": 1,
   "metadata": {},
   "outputs": [],
   "source": [
    "from pathlib import Path\n",
    "import pandas as pd\n",
    "import re\n",
    "import os\n",
    "from fastai.text import *\n",
    "import string\n",
    "import numpy as np\n",
    "\n",
    "%reload_ext autoreload\n",
    "%autoreload 2\n",
    "%matplotlib inline\n",
    "\n",
    "cwd = os.getcwd()\n",
    "path = Path(cwd)"
   ]
  },
  {
   "cell_type": "markdown",
   "metadata": {},
   "source": [
    "### Here is the factory method for implementing our own vocab and tokenizer methods if we choose to do so"
   ]
  },
  {
   "cell_type": "code",
   "execution_count": null,
   "metadata": {},
   "outputs": [],
   "source": [
    "all_letters = list(string.printable + string.whitespace) #Letters need to be in a list not a string\n",
    "\n",
    "vocab=Vocab.create(all_letters, max_vocab=80000, min_freq=0)\n",
    "customtokenizer = Tokenizer(pre_rules= [], post_rules=[])\n",
    "\n",
    "processors = [TokenizeProcessor(),\n",
    "             NumericalizeProcessor()]\n",
    "\n",
    "data = (TextList.from_csv(path, 'tngsatc.csv', cols=['text'])\n",
    "                 .split_by_rand_pct(0.01)\n",
    "                 .label_for_lm()\n",
    "                 .databunch(bs=80))\n",
    "data.save('data_block_lm_both.pkl')"
   ]
  },
  {
   "cell_type": "code",
   "execution_count": 2,
   "metadata": {
    "scrolled": true
   },
   "outputs": [
    {
     "name": "stderr",
     "output_type": "stream",
     "text": [
      "C:\\Users\\brent\\AppData\\Roaming\\Python\\Python37\\site-packages\\fastai\\datasets.py:156: YAMLLoadWarning: calling yaml.load() without Loader=... is deprecated, as the default Loader is unsafe. Please read https://msg.pyyaml.org/load for full details.\n",
      "  with open(fpath, 'r') as yaml_file: return yaml.load(yaml_file)\n"
     ]
    }
   ],
   "source": [
    "data_lm = load_data(path, 'data_block_lm_both.pkl',bs=80)\n",
    "learn = language_model_learner(data_lm, AWD_LSTM, drop_mult=0.4)"
   ]
  },
  {
   "cell_type": "code",
   "execution_count": null,
   "metadata": {},
   "outputs": [],
   "source": [
    "data_lm\n",
    "data_lm.show_batch()"
   ]
  },
  {
   "cell_type": "code",
   "execution_count": null,
   "metadata": {},
   "outputs": [],
   "source": [
    "learn.lr_find()\n",
    "learn.recorder.plot(skip_end=15)"
   ]
  },
  {
   "cell_type": "code",
   "execution_count": null,
   "metadata": {},
   "outputs": [],
   "source": [
    "learn.fit_one_cycle(20, 1e-2, moms=(0.8,0.7))"
   ]
  },
  {
   "cell_type": "code",
   "execution_count": null,
   "metadata": {},
   "outputs": [],
   "source": [
    "learn.save('fit_head_both')"
   ]
  },
  {
   "cell_type": "code",
   "execution_count": 3,
   "metadata": {
    "scrolled": true
   },
   "outputs": [
    {
     "data": {
      "text/plain": [
       "LanguageLearner(data=TextLMDataBunch;\n",
       "\n",
       "Train: LabelList (147876 items)\n",
       "x: LMTextList\n",
       "xxbos xxup description : : xxmaj the xxup u.s.s. xxmaj enterprise xxup ncc xxup xxunk traveling at warp speed through space .,xxbos xxup picard xxup v.o. : : xxmaj captain 's log , stardate xxunk . xxmaj our destination is planet xxmaj cygnus xxup iv , beyond which lies the great unexplored mass of the galaxy .,xxbos xxup description : : on the gigantic new xxmaj enterprise xxup ncc xxup 1701-d.,xxbos xxup picard xxup v.o. : : xxmaj my orders are to examine xxmaj farpoint , a starbase built there by the inhabitants of that world . xxmaj meanwhile ...,xxbos xxup description : : xxmaj huge , with a giant wall diagram showing the xxunk of this xxmaj galaxy xxmaj class starship .\n",
       "y: LMLabelList\n",
       ",,,,\n",
       "Path: C:\\Users\\brent\\Desktop\\satc writer;\n",
       "\n",
       "Valid: LabelList (1493 items)\n",
       "x: LMTextList\n",
       "xxbos xxup description : : xxmaj the group moves off in casual clusters . xxmaj troi finds herself face to face with xxmaj alkar .,xxbos xxup description : : xxmaj in orbit over xxmaj tarchannen xxmaj three .,xxbos xxup description : : xxup troi xxup gathers xxup her xxup papers,xxbos xxup worf : : i raise fifty .,xxbos xxup description : : xxmaj they nod good - bye to xxmaj guinan and head for the turbolift . xxmaj riker takes a last look at :\n",
       "y: LMLabelList\n",
       ",,,,\n",
       "Path: C:\\Users\\brent\\Desktop\\satc writer;\n",
       "\n",
       "Test: None, model=SequentialRNN(\n",
       "  (0): AWD_LSTM(\n",
       "    (encoder): Embedding(16243, 400, padding_idx=1)\n",
       "    (encoder_dp): EmbeddingDropout(\n",
       "      (emb): Embedding(16243, 400, padding_idx=1)\n",
       "    )\n",
       "    (rnns): ModuleList(\n",
       "      (0): WeightDropout(\n",
       "        (module): LSTM(400, 1150, batch_first=True)\n",
       "      )\n",
       "      (1): WeightDropout(\n",
       "        (module): LSTM(1150, 1150, batch_first=True)\n",
       "      )\n",
       "      (2): WeightDropout(\n",
       "        (module): LSTM(1150, 400, batch_first=True)\n",
       "      )\n",
       "    )\n",
       "    (input_dp): RNNDropout()\n",
       "    (hidden_dps): ModuleList(\n",
       "      (0): RNNDropout()\n",
       "      (1): RNNDropout()\n",
       "      (2): RNNDropout()\n",
       "    )\n",
       "  )\n",
       "  (1): LinearDecoder(\n",
       "    (decoder): Linear(in_features=400, out_features=16243, bias=True)\n",
       "    (output_dp): RNNDropout()\n",
       "  )\n",
       "), opt_func=functools.partial(<class 'torch.optim.adam.Adam'>, betas=(0.9, 0.99)), loss_func=FlattenedLoss of CrossEntropyLoss(), metrics=[<function accuracy at 0x00000215F39DC840>], true_wd=True, bn_wd=True, wd=0.01, train_bn=True, path=WindowsPath('C:/Users/brent/Desktop/satc writer'), model_dir='models', callback_fns=[functools.partial(<class 'fastai.basic_train.Recorder'>, add_time=True)], callbacks=[RNNTrainer\n",
       "learn: ...\n",
       "alpha: 2.0\n",
       "beta: 1.0], layer_groups=[Sequential(\n",
       "  (0): WeightDropout(\n",
       "    (module): LSTM(400, 1150, batch_first=True)\n",
       "  )\n",
       "  (1): RNNDropout()\n",
       "), Sequential(\n",
       "  (0): WeightDropout(\n",
       "    (module): LSTM(1150, 1150, batch_first=True)\n",
       "  )\n",
       "  (1): RNNDropout()\n",
       "), Sequential(\n",
       "  (0): WeightDropout(\n",
       "    (module): LSTM(1150, 400, batch_first=True)\n",
       "  )\n",
       "  (1): RNNDropout()\n",
       "), Sequential(\n",
       "  (0): Embedding(16243, 400, padding_idx=1)\n",
       "  (1): EmbeddingDropout(\n",
       "    (emb): Embedding(16243, 400, padding_idx=1)\n",
       "  )\n",
       "  (2): LinearDecoder(\n",
       "    (decoder): Linear(in_features=400, out_features=16243, bias=True)\n",
       "    (output_dp): RNNDropout()\n",
       "  )\n",
       ")], add_time=True)"
      ]
     },
     "execution_count": 3,
     "metadata": {},
     "output_type": "execute_result"
    }
   ],
   "source": [
    "learn.load('fit_head_both')"
   ]
  },
  {
   "cell_type": "code",
   "execution_count": 4,
   "metadata": {},
   "outputs": [],
   "source": [
    "learn.unfreeze()"
   ]
  },
  {
   "cell_type": "code",
   "execution_count": 5,
   "metadata": {},
   "outputs": [
    {
     "data": {
      "text/html": [
       "Total time: 44:34 <p><table border=\"1\" class=\"dataframe\">\n",
       "  <thead>\n",
       "    <tr style=\"text-align: left;\">\n",
       "      <th>epoch</th>\n",
       "      <th>train_loss</th>\n",
       "      <th>valid_loss</th>\n",
       "      <th>accuracy</th>\n",
       "      <th>time</th>\n",
       "    </tr>\n",
       "  </thead>\n",
       "  <tbody>\n",
       "    <tr>\n",
       "      <td>0</td>\n",
       "      <td>2.517663</td>\n",
       "      <td>2.809579</td>\n",
       "      <td>0.445119</td>\n",
       "      <td>02:21</td>\n",
       "    </tr>\n",
       "    <tr>\n",
       "      <td>1</td>\n",
       "      <td>2.499608</td>\n",
       "      <td>2.795373</td>\n",
       "      <td>0.449554</td>\n",
       "      <td>02:20</td>\n",
       "    </tr>\n",
       "    <tr>\n",
       "      <td>2</td>\n",
       "      <td>2.478955</td>\n",
       "      <td>2.780712</td>\n",
       "      <td>0.450804</td>\n",
       "      <td>02:20</td>\n",
       "    </tr>\n",
       "    <tr>\n",
       "      <td>3</td>\n",
       "      <td>2.446410</td>\n",
       "      <td>2.768216</td>\n",
       "      <td>0.454434</td>\n",
       "      <td>02:21</td>\n",
       "    </tr>\n",
       "    <tr>\n",
       "      <td>4</td>\n",
       "      <td>2.411715</td>\n",
       "      <td>2.758357</td>\n",
       "      <td>0.454345</td>\n",
       "      <td>02:20</td>\n",
       "    </tr>\n",
       "    <tr>\n",
       "      <td>5</td>\n",
       "      <td>2.366935</td>\n",
       "      <td>2.755721</td>\n",
       "      <td>0.456429</td>\n",
       "      <td>02:20</td>\n",
       "    </tr>\n",
       "    <tr>\n",
       "      <td>6</td>\n",
       "      <td>2.326389</td>\n",
       "      <td>2.757265</td>\n",
       "      <td>0.456845</td>\n",
       "      <td>02:12</td>\n",
       "    </tr>\n",
       "    <tr>\n",
       "      <td>7</td>\n",
       "      <td>2.265467</td>\n",
       "      <td>2.766526</td>\n",
       "      <td>0.458006</td>\n",
       "      <td>02:10</td>\n",
       "    </tr>\n",
       "    <tr>\n",
       "      <td>8</td>\n",
       "      <td>2.223644</td>\n",
       "      <td>2.784796</td>\n",
       "      <td>0.456964</td>\n",
       "      <td>02:10</td>\n",
       "    </tr>\n",
       "    <tr>\n",
       "      <td>9</td>\n",
       "      <td>2.167418</td>\n",
       "      <td>2.796038</td>\n",
       "      <td>0.456548</td>\n",
       "      <td>02:10</td>\n",
       "    </tr>\n",
       "    <tr>\n",
       "      <td>10</td>\n",
       "      <td>2.129912</td>\n",
       "      <td>2.807127</td>\n",
       "      <td>0.454821</td>\n",
       "      <td>02:10</td>\n",
       "    </tr>\n",
       "    <tr>\n",
       "      <td>11</td>\n",
       "      <td>2.083468</td>\n",
       "      <td>2.820857</td>\n",
       "      <td>0.454702</td>\n",
       "      <td>02:10</td>\n",
       "    </tr>\n",
       "    <tr>\n",
       "      <td>12</td>\n",
       "      <td>2.039593</td>\n",
       "      <td>2.836612</td>\n",
       "      <td>0.455119</td>\n",
       "      <td>02:10</td>\n",
       "    </tr>\n",
       "    <tr>\n",
       "      <td>13</td>\n",
       "      <td>1.999339</td>\n",
       "      <td>2.849903</td>\n",
       "      <td>0.455417</td>\n",
       "      <td>02:10</td>\n",
       "    </tr>\n",
       "    <tr>\n",
       "      <td>14</td>\n",
       "      <td>1.963418</td>\n",
       "      <td>2.864351</td>\n",
       "      <td>0.453899</td>\n",
       "      <td>02:10</td>\n",
       "    </tr>\n",
       "    <tr>\n",
       "      <td>15</td>\n",
       "      <td>1.935988</td>\n",
       "      <td>2.873033</td>\n",
       "      <td>0.453423</td>\n",
       "      <td>02:10</td>\n",
       "    </tr>\n",
       "    <tr>\n",
       "      <td>16</td>\n",
       "      <td>1.905826</td>\n",
       "      <td>2.883416</td>\n",
       "      <td>0.453036</td>\n",
       "      <td>02:10</td>\n",
       "    </tr>\n",
       "    <tr>\n",
       "      <td>17</td>\n",
       "      <td>1.897348</td>\n",
       "      <td>2.887331</td>\n",
       "      <td>0.453274</td>\n",
       "      <td>02:10</td>\n",
       "    </tr>\n",
       "    <tr>\n",
       "      <td>18</td>\n",
       "      <td>1.886733</td>\n",
       "      <td>2.894205</td>\n",
       "      <td>0.453244</td>\n",
       "      <td>02:10</td>\n",
       "    </tr>\n",
       "    <tr>\n",
       "      <td>19</td>\n",
       "      <td>1.881476</td>\n",
       "      <td>2.891155</td>\n",
       "      <td>0.453036</td>\n",
       "      <td>02:10</td>\n",
       "    </tr>\n",
       "  </tbody>\n",
       "</table>"
      ],
      "text/plain": [
       "<IPython.core.display.HTML object>"
      ]
     },
     "metadata": {},
     "output_type": "display_data"
    }
   ],
   "source": [
    "learn.fit_one_cycle(20, 1e-3, moms=(0.8,0.7))"
   ]
  },
  {
   "cell_type": "code",
   "execution_count": 6,
   "metadata": {},
   "outputs": [],
   "source": [
    "learn.save('fine_tuned_both')\n",
    "learn.save_encoder('fine_tuned_enc_both')"
   ]
  },
  {
   "cell_type": "code",
   "execution_count": 7,
   "metadata": {},
   "outputs": [
    {
     "data": {
      "text/html": [
       "Total time: 43:30 <p><table border=\"1\" class=\"dataframe\">\n",
       "  <thead>\n",
       "    <tr style=\"text-align: left;\">\n",
       "      <th>epoch</th>\n",
       "      <th>train_loss</th>\n",
       "      <th>valid_loss</th>\n",
       "      <th>accuracy</th>\n",
       "      <th>time</th>\n",
       "    </tr>\n",
       "  </thead>\n",
       "  <tbody>\n",
       "    <tr>\n",
       "      <td>0</td>\n",
       "      <td>1.877931</td>\n",
       "      <td>2.890916</td>\n",
       "      <td>0.453304</td>\n",
       "      <td>02:10</td>\n",
       "    </tr>\n",
       "    <tr>\n",
       "      <td>1</td>\n",
       "      <td>1.877124</td>\n",
       "      <td>2.888594</td>\n",
       "      <td>0.453482</td>\n",
       "      <td>02:10</td>\n",
       "    </tr>\n",
       "    <tr>\n",
       "      <td>2</td>\n",
       "      <td>1.878566</td>\n",
       "      <td>2.892873</td>\n",
       "      <td>0.453304</td>\n",
       "      <td>02:10</td>\n",
       "    </tr>\n",
       "    <tr>\n",
       "      <td>3</td>\n",
       "      <td>1.893585</td>\n",
       "      <td>2.892801</td>\n",
       "      <td>0.453006</td>\n",
       "      <td>02:10</td>\n",
       "    </tr>\n",
       "    <tr>\n",
       "      <td>4</td>\n",
       "      <td>1.885365</td>\n",
       "      <td>2.894161</td>\n",
       "      <td>0.453065</td>\n",
       "      <td>02:10</td>\n",
       "    </tr>\n",
       "    <tr>\n",
       "      <td>5</td>\n",
       "      <td>1.882745</td>\n",
       "      <td>2.895905</td>\n",
       "      <td>0.452202</td>\n",
       "      <td>02:10</td>\n",
       "    </tr>\n",
       "    <tr>\n",
       "      <td>6</td>\n",
       "      <td>1.874473</td>\n",
       "      <td>2.900966</td>\n",
       "      <td>0.452946</td>\n",
       "      <td>02:10</td>\n",
       "    </tr>\n",
       "    <tr>\n",
       "      <td>7</td>\n",
       "      <td>1.865440</td>\n",
       "      <td>2.903513</td>\n",
       "      <td>0.452202</td>\n",
       "      <td>02:10</td>\n",
       "    </tr>\n",
       "    <tr>\n",
       "      <td>8</td>\n",
       "      <td>1.866338</td>\n",
       "      <td>2.904595</td>\n",
       "      <td>0.451756</td>\n",
       "      <td>02:10</td>\n",
       "    </tr>\n",
       "    <tr>\n",
       "      <td>9</td>\n",
       "      <td>1.867082</td>\n",
       "      <td>2.905867</td>\n",
       "      <td>0.452351</td>\n",
       "      <td>02:10</td>\n",
       "    </tr>\n",
       "    <tr>\n",
       "      <td>10</td>\n",
       "      <td>1.854546</td>\n",
       "      <td>2.909487</td>\n",
       "      <td>0.452798</td>\n",
       "      <td>02:10</td>\n",
       "    </tr>\n",
       "    <tr>\n",
       "      <td>11</td>\n",
       "      <td>1.853417</td>\n",
       "      <td>2.914214</td>\n",
       "      <td>0.451488</td>\n",
       "      <td>02:10</td>\n",
       "    </tr>\n",
       "    <tr>\n",
       "      <td>12</td>\n",
       "      <td>1.843214</td>\n",
       "      <td>2.918603</td>\n",
       "      <td>0.451042</td>\n",
       "      <td>02:10</td>\n",
       "    </tr>\n",
       "    <tr>\n",
       "      <td>13</td>\n",
       "      <td>1.832735</td>\n",
       "      <td>2.917283</td>\n",
       "      <td>0.451369</td>\n",
       "      <td>02:10</td>\n",
       "    </tr>\n",
       "    <tr>\n",
       "      <td>14</td>\n",
       "      <td>1.837874</td>\n",
       "      <td>2.914739</td>\n",
       "      <td>0.450863</td>\n",
       "      <td>02:10</td>\n",
       "    </tr>\n",
       "    <tr>\n",
       "      <td>15</td>\n",
       "      <td>1.837525</td>\n",
       "      <td>2.920410</td>\n",
       "      <td>0.450744</td>\n",
       "      <td>02:10</td>\n",
       "    </tr>\n",
       "    <tr>\n",
       "      <td>16</td>\n",
       "      <td>1.832351</td>\n",
       "      <td>2.921593</td>\n",
       "      <td>0.451190</td>\n",
       "      <td>02:10</td>\n",
       "    </tr>\n",
       "    <tr>\n",
       "      <td>17</td>\n",
       "      <td>1.833090</td>\n",
       "      <td>2.922107</td>\n",
       "      <td>0.451250</td>\n",
       "      <td>02:10</td>\n",
       "    </tr>\n",
       "    <tr>\n",
       "      <td>18</td>\n",
       "      <td>1.826655</td>\n",
       "      <td>2.920188</td>\n",
       "      <td>0.451280</td>\n",
       "      <td>02:10</td>\n",
       "    </tr>\n",
       "    <tr>\n",
       "      <td>19</td>\n",
       "      <td>1.830631</td>\n",
       "      <td>2.922510</td>\n",
       "      <td>0.451101</td>\n",
       "      <td>02:10</td>\n",
       "    </tr>\n",
       "  </tbody>\n",
       "</table>"
      ],
      "text/plain": [
       "<IPython.core.display.HTML object>"
      ]
     },
     "metadata": {},
     "output_type": "display_data"
    }
   ],
   "source": [
    "learn.fit_one_cycle(20, 1e-4, moms=(0.8,0.7))"
   ]
  },
  {
   "cell_type": "code",
   "execution_count": 8,
   "metadata": {},
   "outputs": [],
   "source": [
    "learn.save('fine_tuned_both')\n",
    "learn.save_encoder('fine_tuned_enc_both')"
   ]
  },
  {
   "cell_type": "markdown",
   "metadata": {},
   "source": [
    "# We have our trained model Now"
   ]
  },
  {
   "cell_type": "code",
   "execution_count": 9,
   "metadata": {},
   "outputs": [],
   "source": [
    "from pathlib import Path\n",
    "import pandas as pd\n",
    "import re\n",
    "import os\n",
    "from fastai.text import *\n",
    "import string\n",
    "import numpy as np\n",
    "\n",
    "%reload_ext autoreload\n",
    "%autoreload 2\n",
    "%matplotlib inline\n",
    "\n",
    "cwd = os.getcwd()\n",
    "path = Path(cwd)"
   ]
  },
  {
   "cell_type": "code",
   "execution_count": 11,
   "metadata": {},
   "outputs": [
    {
     "name": "stderr",
     "output_type": "stream",
     "text": [
      "C:\\Users\\brent\\AppData\\Roaming\\Python\\Python37\\site-packages\\fastai\\datasets.py:156: YAMLLoadWarning: calling yaml.load() without Loader=... is deprecated, as the default Loader is unsafe. Please read https://msg.pyyaml.org/load for full details.\n",
      "  with open(fpath, 'r') as yaml_file: return yaml.load(yaml_file)\n"
     ]
    }
   ],
   "source": [
    "data_lm = load_data(path, 'data_block_lm_both.pkl',bs=80)\n",
    "learn = language_model_learner(data_lm, AWD_LSTM, drop_mult=0.3)\n",
    "learn.load('fine_tuned_both')\n",
    "learn.load_encoder('fine_tuned_enc_both')"
   ]
  },
  {
   "cell_type": "code",
   "execution_count": 12,
   "metadata": {},
   "outputs": [
    {
     "data": {
      "text/plain": [
       "\"WORF : : i am glad that you will ever learn to ignore me for a long time . xxbos PICARD : : Mister Data -- energizing and reprogramming i find you ... xxbos DESCRIPTION : : Riker hurries out quickly , removing a big bag of Chips Ahoy . xxbos PICARD : : can i get You a drink ? xxbos GEORDI : : It 's a simple , sometimes ; Holographic chips . xxbos PICARD : : i wanted to delivery you in ten minutes . xxbos DESCRIPTION : : Picard glances at the Transporter Technician with an elaborately carved PADD . xxbos DATA 'S COM VOICE : : They are hailing us , sir . xxbos PICARD : : Not to all . xxbos RIKER : : i 'm sorry , if you 'll keep him under decision . xxbos TROI : : Captain , Geordi will not even acknowledge your vast experience with human eye level ... but i find his own way to end this ... xxbos\""
      ]
     },
     "execution_count": 12,
     "metadata": {},
     "output_type": "execute_result"
    }
   ],
   "source": [
    "learn.predict(\"WORF\", 200, temperature=1.0)"
   ]
  },
  {
   "cell_type": "markdown",
   "metadata": {},
   "source": [
    "### We Create Some Functions that Will Help us Write "
   ]
  },
  {
   "cell_type": "code",
   "execution_count": 13,
   "metadata": {},
   "outputs": [],
   "source": [
    "def GetCharacterLines(character, numberOfLines = 1, temperatureChange = True, temperature = 1.0):\n",
    "    N_WORDS = 150\n",
    "    EPSILON = 0.1\n",
    "    #We predict the next N_WORDS\n",
    "    #Each iteration increases the temperature of the sentence.  We interpolate between 0 and 1.\n",
    "    if temperatureChange:\n",
    "        predictedLines = list(learn.predict(character.upper(), N_WORDS,\n",
    "                                            temperature=EPSILON + (i/(numberOfLines-1))).split(\"xxbos\")[0] for i in range(numberOfLines))\n",
    "    else:\n",
    "        predictedLines = list(learn.predict(character.upper(), N_WORDS,\n",
    "                                            temperature=temperature).split(\"xxbos\")[0] for i in range(numberOfLines))\n",
    "    return predictedLines"
   ]
  },
  {
   "cell_type": "code",
   "execution_count": 14,
   "metadata": {},
   "outputs": [],
   "source": [
    "def RecursiveLine(line = \"\", numberOfLines = 5, temperature = 1):\n",
    "    \"\"\"Accept a line and continuously feeds it into the model to build a block of the script.\"\"\"\n",
    "    N_WORDS = 150\n",
    "    dialog = \"\"\n",
    "    for i in range(numberOfLines):\n",
    "        #Sometimes we don't see the xxbos token and get an exception\n",
    "        try:\n",
    "            line = learn.predict(line, N_WORDS, temperature=temperature).split(\"xxbos\")[i] + \"xxbos\"\n",
    "        except:\n",
    "            line = line\n",
    "\n",
    "        dialog = dialog + line\n",
    "    \n",
    "    dialog = dialog.split(\"xxbos\")[:-1]\n",
    "    return dialog"
   ]
  },
  {
   "cell_type": "code",
   "execution_count": 15,
   "metadata": {},
   "outputs": [],
   "source": [
    "def ConversationLines(characterList, numberOfLines = 5, temperature = 1):\n",
    "    \"\"\"Accept a list of character names.  We reject any sentences that do not begin with these particular characters.\n",
    "    The same character will not speak 2 times in a row.\"\"\"\n",
    "    N_WORDS = 100\n",
    "    dialog = \"\"\n",
    "    line = \"\"\n",
    "    lastCharacter = str(None)\n",
    "    \n",
    "    characterList = [character.upper() for character in characterList]\n",
    "    \n",
    "    for i in range(numberOfLines):\n",
    "        #Keep creating lines until we have one of the characters\n",
    "        while True:\n",
    "            line = \"\"\n",
    "            line = learn.predict(line, N_WORDS, temperature=temperature).split(\"xxbos\")[0] + \" xxbos \"\n",
    "            #Who is the current speaker for the line?\n",
    "            currentCharacter = line.split(\" \")[1]\n",
    "            if (any(character in line for character in characterList)) and (currentCharacter != lastCharacter):\n",
    "                break\n",
    "    \n",
    "        dialog = dialog + line\n",
    "        lastCharacter = line.split(\" \")[1]\n",
    "    \n",
    "    dialog = dialog.split(\"xxbos\")[:-1]\n",
    "    dialog = [line.lstrip() for line in dialog]\n",
    "    return dialog"
   ]
  },
  {
   "cell_type": "code",
   "execution_count": 16,
   "metadata": {},
   "outputs": [],
   "source": [
    "def ConversationLinesRecursive(characterList, numberOfLines = 5, temperature = 1):\n",
    "    \"\"\"Accept a list of character names.  We reject any sentences that do not begin with these particular characters.\n",
    "    The same character will not speak 2 times in a row.\n",
    "    Continuously Feeds the past dialog in to generate the text\"\"\"\n",
    "    N_WORDS = 100\n",
    "    dialog = \"\"\n",
    "    lastCharacter = str(None)\n",
    "    \n",
    "    #Put the character list into all uppercase\n",
    "    characterList = [character.upper() for character in characterList]\n",
    "    \n",
    "    #We generate the number of lines\n",
    "    for i in range(numberOfLines):\n",
    "        \n",
    "        #Keep creating lines until we have one of the characters\n",
    "        while True:\n",
    "            line = learn.predict(dialog, N_WORDS, temperature=temperature).split(\"xxbos\")[-1] + \" xxbos \"\n",
    "            #Who is the current speaker for the line?\n",
    "            currentCharacter = line.split(\" \")[1]\n",
    "            if (any(character in line for character in characterList)) and (currentCharacter != lastCharacter):\n",
    "                break\n",
    "    \n",
    "        dialog = dialog + line\n",
    "        lastCharacter = line.split(\" \")[1]\n",
    "        \n",
    "    dialog = dialog.split(\"xxbos\")[:-1]\n",
    "    dialog = [line.lstrip() for line in dialog]\n",
    "    return dialog"
   ]
  },
  {
   "cell_type": "markdown",
   "metadata": {},
   "source": [
    "### Some Examples of Lines we can write automatically"
   ]
  },
  {
   "cell_type": "code",
   "execution_count": 39,
   "metadata": {
    "scrolled": true
   },
   "outputs": [
    {
     "data": {
      "text/plain": [
       "['Picard : : And i will not be able to tell you that . You have to say , \" Please , come in . ',\n",
       " \" PICARD : : If you wish , i 'll see you tomorrow . \",\n",
       " ' PICARD : : You have a very lovely life . ',\n",
       " \" PICARD : : - It 's a cult . \",\n",
       " ' PICARD : : i \\'m not a \" Single Person . \" ',\n",
       " \" PICARD : : You 're a big girl , you know ? \",\n",
       " \" PICARD : : And i 'll go to the ladies ' room . \",\n",
       " ' DESCRIPTION : : The Borg is a little surprised at this . ',\n",
       " ' DESCRIPTION : : Picard ENTERS . He \\'s wearing his Starfleet uniform on his uniform , and it \\'s very similar to the one seen in \" The Offspring \" . He looks over the shoulder of Riker',\n",
       " ' PICARD : : No . But the Enterprise has been prepared to be the Enterprise in a few minutes , Commander . We must transmit a signal to the']"
      ]
     },
     "execution_count": 39,
     "metadata": {},
     "output_type": "execute_result"
    }
   ],
   "source": [
    "RecursiveLine(\"Picard\",numberOfLines=10,temperature=0.6)"
   ]
  },
  {
   "cell_type": "code",
   "execution_count": 40,
   "metadata": {
    "scrolled": false
   },
   "outputs": [
    {
     "data": {
      "text/plain": [
       "['PICARD : : She has a quiet day .  ',\n",
       " 'DESCRIPTION : : Picard , Riker , Data , Geordi , Troi , Beverly , Worf , Beverly , Geordi , and Worf . The VIEWSCREEN displays a starfield .  ',\n",
       " \"PICARD : : It 's a fashion show .  \",\n",
       " 'DESCRIPTION : : Picard stares at him , then turns and EXITS .  ',\n",
       " \"PICARD : : It 's a New York birthday party .  \"]"
      ]
     },
     "execution_count": 40,
     "metadata": {},
     "output_type": "execute_result"
    }
   ],
   "source": [
    "characters = [\"Picard\", \"Riker\", \"Description\"]\n",
    "ConversationLines(characters, numberOfLines=5, temperature= 0.6)"
   ]
  },
  {
   "cell_type": "code",
   "execution_count": 42,
   "metadata": {
    "scrolled": false
   },
   "outputs": [
    {
     "data": {
      "text/plain": [
       "['DESCRIPTION : : He ',\n",
       " 'PICARD : : This is ',\n",
       " 'DESCRIPTION : : Riker and Data are working on a solution to the problem . The three ',\n",
       " \"PICARD : : You know what ? i 'm gon na go . \",\n",
       " 'DESCRIPTION : ']"
      ]
     },
     "execution_count": 42,
     "metadata": {},
     "output_type": "execute_result"
    }
   ],
   "source": [
    "characters = [\"Picard\", \"Riker\", \"Description\"]\n",
    "ConversationLinesRecursive(characters, numberOfLines=5, temperature= 0.6)"
   ]
  },
  {
   "cell_type": "code",
   "execution_count": 43,
   "metadata": {},
   "outputs": [
    {
     "data": {
      "text/plain": [
       "[\" DESCRIPTION : : The doors open and Wesley ENTERS . Wesley ENTERS , carrying a PADD . He 's not sure what to do next . \",\n",
       " ' DESCRIPTION : : Riker and Worf EXIT . ',\n",
       " \" PICARD : : i do n't know what i am . \",\n",
       " ' DESCRIPTION : : She moves to a wall panel , switches it \" TECH \" , as : ',\n",
       " ' PICARD : : You were in my bedroom when you were 16 and i was in Paris with the man . ',\n",
       " ' DESCRIPTION : : Picard EXITS . ',\n",
       " ' DESCRIPTION : : He looks at her with puzzlement . He decides to take another step back . ',\n",
       " ' DESCRIPTION : : Picard and Riker exchange a look ... ',\n",
       " ' PICARD : : Are you sure ? ',\n",
       " ' DESCRIPTION : : Data is at Science One with Data . ']"
      ]
     },
     "execution_count": 43,
     "metadata": {},
     "output_type": "execute_result"
    }
   ],
   "source": [
    "GetCharacterLines(\"\", numberOfLines=10, temperatureChange=False, temperature=0.6)"
   ]
  },
  {
   "cell_type": "code",
   "execution_count": 44,
   "metadata": {
    "scrolled": false
   },
   "outputs": [
    {
     "data": {
      "text/plain": [
       "[\"PICARD : : You 're not going to be in the mood . \",\n",
       " \"PICARD : : You 're not going to be here , Data . \",\n",
       " \"PICARD : : You 're not going to get married . \",\n",
       " \"PICARD : : It 's a big deal . \",\n",
       " \"PICARD : : You 're still not ready . \",\n",
       " \"PICARD : : Counselor . Look at this . It 's just a couple of things ... \",\n",
       " \"PICARD : : We 're just going to be in the middle of a fight and we 'll never get out of here . \",\n",
       " 'PICARD : : So the idea of warp drive suggests that we could be together . ',\n",
       " \"PICARD : : Oh , i hope that 's the conversation spin - Go ahead . \",\n",
       " 'PICARD : : Let me help you . ']"
      ]
     },
     "execution_count": 44,
     "metadata": {},
     "output_type": "execute_result"
    }
   ],
   "source": [
    "GetCharacterLines(\"Picard\", 10)"
   ]
  },
  {
   "cell_type": "markdown",
   "metadata": {},
   "source": [
    "# Area to Generate Dialog"
   ]
  },
  {
   "cell_type": "code",
   "execution_count": 50,
   "metadata": {
    "scrolled": true
   },
   "outputs": [
    {
     "data": {
      "text/plain": [
       "['DESCRIPTION : : Picard and Riker exchange a look . ',\n",
       " 'DESCRIPTION : : Picard , Riker , Data , Worf , Ensign Felton . Geordi is at the aft science station . ',\n",
       " 'DESCRIPTION : : The Enterprise is docked at the Starbase . ',\n",
       " 'DESCRIPTION : : He seems to be making a difficult decision . ',\n",
       " 'DESCRIPTION : : The Bridge crew reacts with shock at what Riker sees . ',\n",
       " 'DESCRIPTION : : She looks up at him , smiles . ',\n",
       " \"DESCRIPTION : : The Administrator / Lieutenant turns and looks at Picard . He knows it 's impossible . \",\n",
       " 'DESCRIPTION : : Picard studies the Tamarian . ',\n",
       " 'DESCRIPTION : : She sits down , and once again , Picard gives a hug to her between the two . She searches for the right moment to make a troubled mistake , and when she helps her to comfort her , she finally leans to him . She studies her face and admits over her . ',\n",
       " 'DESCRIPTION : : Completely disrupted . Stabilizes . ']"
      ]
     },
     "execution_count": 50,
     "metadata": {},
     "output_type": "execute_result"
    }
   ],
   "source": [
    "GetCharacterLines(\"DESCRIPTION\", 10)"
   ]
  },
  {
   "cell_type": "code",
   "execution_count": 54,
   "metadata": {},
   "outputs": [
    {
     "data": {
      "text/plain": [
       "['PICARD : : Charlotte had a little time to figure this out .  ',\n",
       " \"DESCRIPTION : : Worf is trying to get his attention . He 's trying to figure out what he 's doing .  \",\n",
       " \"PICARD : : It 's not that fast .  \",\n",
       " 'RIKER : : Yes , sir .  ',\n",
       " \"PICARD : : Well , let 's just say i thought you might .  \",\n",
       " 'DESCRIPTION : : Riker and Worf exchange a look .  ',\n",
       " 'PICARD : : Do you know what this is about ? Why are you doing this ?  ',\n",
       " 'DESCRIPTION : : He looks at her , assessing .  ',\n",
       " \"PICARD : : I 'm not sure . It does n't matter how you feel .  \",\n",
       " 'DESCRIPTION : : There is a tense beat as the two men eye each other .  ',\n",
       " \"PICARD : : But you do n't have to do that .  \",\n",
       " 'DESCRIPTION : : Picard turns to Wesley .  ',\n",
       " \"PICARD : : So , she 's the one with the great boyfriend .  \",\n",
       " 'DESCRIPTION : : a scan of the planet MATERIALIZES . There is no indication of any activity .  ',\n",
       " \"PICARD : : i 'm not meeting my people , Captain .  \",\n",
       " \"DESCRIPTION : : Data 's head snaps up at the tone of his voice .  \",\n",
       " \"PICARD : : If you 're not a Knicks man , you 're a Knicks game , and you 're not gon na finish it .  \",\n",
       " \"DESCRIPTION : : The Klingons exchange glances . Worf does n't like the sound of this .  \",\n",
       " \"PICARD : : He 's a Starfleet officer ... and i 've never known him to be the kind of man he was . Can he be more than that ?  \",\n",
       " 'DESCRIPTION : : Ro and Kalita work the consoles .  ']"
      ]
     },
     "execution_count": 54,
     "metadata": {},
     "output_type": "execute_result"
    }
   ],
   "source": [
    "characters = [\"RIKER\", \"DATA\", \"WORF\", \"DESCRIPTION\", \"PICARD\"]\n",
    "ConversationLines(characters, numberOfLines=20, temperature= 0.6)"
   ]
  },
  {
   "cell_type": "code",
   "execution_count": 55,
   "metadata": {},
   "outputs": [
    {
     "data": {
      "text/plain": [
       "\"PICARD : : He 's the liar . xxbos PICARD : : i do n't know . xxbos DESCRIPTION : : Picard and Troi EXIT . xxbos PICARD : : No . That 's a good question . xxbos DESCRIPTION : : She turns back to the console . xxbos PICARD : : i have a date with Jack . xxbos PICARD : : The Professor 's ship has been destroyed . Our missions have been rendered ineffective by the fleet . The Cardassians have left the Neutral Zone ... and i have no hope of deciphering the program . xxbos DATA : : Jenna is dead . xxbos PICARD : : My God , it 's a big deal . xxbos PICARD : : You 're gon na do it . xxbos DESCRIPTION : : She looks up from his console . xxbos PICARD : : At least we can get them into the Observation Lounge . xxbos PICARD : : If you 're\""
      ]
     },
     "execution_count": 55,
     "metadata": {},
     "output_type": "execute_result"
    }
   ],
   "source": [
    "learn.predict(\"PICARD\", 200, temperature=0.6)"
   ]
  },
  {
   "cell_type": "code",
   "execution_count": 56,
   "metadata": {},
   "outputs": [
    {
     "data": {
      "text/plain": [
       "[\"PICARD : : You 're not going to be naked in this world . \",\n",
       " \"PICARD : : You 're not going to be here for a while ? \",\n",
       " \"PICARD : : It 's not like that . \",\n",
       " \"PICARD : : You 're not going to be here . \",\n",
       " \"PICARD : : That 's the thing about New York . \",\n",
       " \"PICARD : : You 're not going to take the wrong place . \",\n",
       " \"PICARD : : You 're not going to be in a relationship with a man . \",\n",
       " \"PICARD : : It 's just a little weird i 've been thinking about this . \",\n",
       " \"PICARD : : It 's a beautiful night . \",\n",
       " \"PICARD : : You 're not going to get married . \",\n",
       " \"PICARD : : You 're the one who 's gone . \",\n",
       " \"PICARD : : He 's not the one . \",\n",
       " \"PICARD : : You 're not really in the mood for a movie . \",\n",
       " \"PICARD : : He 's not a killer . \",\n",
       " 'PICARD : : Okay , Thanks . ',\n",
       " \"PICARD : : You 're not going to be here in your life . \",\n",
       " 'PICARD : : There was a lot of men in there . ',\n",
       " 'PICARD : : The Bridge is yours . ',\n",
       " \"PICARD : : i do n't want to see you . \",\n",
       " \"PICARD : : Now , very well . Let 's do it . \",\n",
       " \"PICARD : : It 's a Great , loves , great deal . \",\n",
       " 'PICARD : : So , what a surprise . ',\n",
       " 'PICARD : : Worf , when we have a chance to study them -- ',\n",
       " \"PICARD : : No , it 's just like i 'm in bed with Big . \",\n",
       " 'PICARD : : Bring him to your position . ',\n",
       " 'PICARD : : This is a baby . Just a little . ',\n",
       " 'PICARD : : Then what is the status of the sensors ? ',\n",
       " 'PICARD : : Exactly . ',\n",
       " 'PICARD : : He told me to come to the hotel . ',\n",
       " \"PICARD : : Why 's Brady ? \",\n",
       " 'PICARD : : Our book of Shakespeare , from the book , \" i \\'m Just Being \" , appears at your convenience . ',\n",
       " 'PICARD : : Men do ',\n",
       " 'PICARD : : And an idiot ! ',\n",
       " \"PICARD 'S COM VOICE : : No , sir . The only blow we ca n't penetrate . \",\n",
       " \"PICARD : : And i know , i wo n't be in the same room temporarily . \",\n",
       " 'PICARD : : we never mentioned him . ',\n",
       " 'PICARD : : The scrambles we try to make are almost as unfazed as they are . They crawl toward us hard , to stop work , and stop -- ',\n",
       " 'PICARD : : No . ',\n",
       " \"PICARD : : Charlotte , it 's inquiry , just because you willingly keep it alive forever . \",\n",
       " 'PICARD : : His hands are hard . ']"
      ]
     },
     "execution_count": 56,
     "metadata": {},
     "output_type": "execute_result"
    }
   ],
   "source": [
    "GetCharacterLines(\"PICARD\", 40)"
   ]
  },
  {
   "cell_type": "code",
   "execution_count": null,
   "metadata": {},
   "outputs": [],
   "source": []
  }
 ],
 "metadata": {
  "_draft": {
   "nbviewer_url": "https://gist.github.com/0dd0df21cf404cf2bb51d0148c8b7d8b"
  },
  "gist": {
   "data": {
    "description": "fastai.text imdb example",
    "public": true
   },
   "id": "0dd0df21cf404cf2bb51d0148c8b7d8b"
  },
  "kernelspec": {
   "display_name": "Python 3",
   "language": "python",
   "name": "python3"
  },
  "language_info": {
   "codemirror_mode": {
    "name": "ipython",
    "version": 3
   },
   "file_extension": ".py",
   "mimetype": "text/x-python",
   "name": "python",
   "nbconvert_exporter": "python",
   "pygments_lexer": "ipython3",
   "version": "3.7.2"
  },
  "toc": {
   "colors": {
    "hover_highlight": "#DAA520",
    "navigate_num": "#000000",
    "navigate_text": "#333333",
    "running_highlight": "#FF0000",
    "selected_highlight": "#FFD700",
    "sidebar_border": "#EEEEEE",
    "wrapper_background": "#FFFFFF"
   },
   "moveMenuLeft": true,
   "nav_menu": {
    "height": "86px",
    "width": "252px"
   },
   "navigate_menu": true,
   "number_sections": true,
   "sideBar": true,
   "threshold": 4,
   "toc_cell": false,
   "toc_section_display": "block",
   "toc_window_display": false,
   "widenNotebook": false
  }
 },
 "nbformat": 4,
 "nbformat_minor": 2
}
