{
 "cells": [
  {
   "cell_type": "markdown",
   "metadata": {},
   "source": [
    "## Star Trek TNG More Episodes"
   ]
  },
  {
   "cell_type": "code",
   "execution_count": null,
   "metadata": {},
   "outputs": [],
   "source": [
    "import pandas as pd\n",
    "import re"
   ]
  },
  {
   "cell_type": "markdown",
   "metadata": {},
   "source": [
    "### Data Is sourced from Github:\n",
    "\n",
    "#### https://github.com/RTrek/startrekTNGdataset/tree/master/data2"
   ]
  },
  {
   "cell_type": "code",
   "execution_count": null,
   "metadata": {},
   "outputs": [],
   "source": [
    "tng = pd.read_csv(\"TNG.csv\")"
   ]
  },
  {
   "cell_type": "code",
   "execution_count": null,
   "metadata": {},
   "outputs": [],
   "source": [
    "# Modify the dataset for what we will feed into our NLP model\n",
    "cols = ['who','type', 'text']\n",
    "tng = tng[cols]\n",
    "tng.loc[(tng['type'] == 'description') & (tng['who'].isna()), 'who'] = \"DESCRIPTION\"\n",
    "tng.drop(['type'], axis=1, inplace=True)"
   ]
  },
  {
   "cell_type": "code",
   "execution_count": null,
   "metadata": {},
   "outputs": [],
   "source": [
    "#Replace all Q characters with 1\n",
    "tng[tng['who'].str.contains('Q', na=False)] = \"Q\""
   ]
  },
  {
   "cell_type": "code",
   "execution_count": null,
   "metadata": {},
   "outputs": [],
   "source": [
    "tng['text'] = tng['who'] + \" ::\" + tng['text']\n",
    "tng = tng.rename(columns={'who': 'label'})\n",
    "\n",
    "tng = tng.dropna(axis=0)\n",
    "\n",
    "tng['is_valid'] = False\n",
    "\n",
    "#tng.to_csv('train.csv', index=False)\n",
    "tng.to_csv('train.csv')"
   ]
  },
  {
   "cell_type": "markdown",
   "metadata": {},
   "source": [
    "### Read in our Edited Data Frame"
   ]
  },
  {
   "cell_type": "code",
   "execution_count": null,
   "metadata": {},
   "outputs": [],
   "source": [
    "from pathlib import Path\n",
    "import pandas as pd\n",
    "import re\n",
    "import os\n",
    "from fastai.text import *\n",
    "import string\n",
    "import numpy as np\n",
    "\n",
    "%reload_ext autoreload\n",
    "%autoreload 2\n",
    "%matplotlib inline\n",
    "\n",
    "cwd = os.getcwd()\n",
    "path = Path(cwd)"
   ]
  },
  {
   "cell_type": "markdown",
   "metadata": {},
   "source": [
    "### Here is the factory method for implementing our own vocab and tokenizer methods if we choose to do so"
   ]
  },
  {
   "cell_type": "code",
   "execution_count": null,
   "metadata": {},
   "outputs": [],
   "source": [
    "all_letters = list(string.printable + string.whitespace) #Letters need to be in a list not a string\n",
    "\n",
    "vocab=Vocab.create(all_letters, max_vocab=80000, min_freq=0)\n",
    "customtokenizer = Tokenizer(pre_rules= [], post_rules=[])\n",
    "\n",
    "processors = [TokenizeProcessor(),\n",
    "             NumericalizeProcessor()]\n",
    "\n",
    "data = (TextList.from_csv(path, 'train.csv', cols=['text'])\n",
    "                 .split_by_rand_pct(0.01)\n",
    "                 .label_for_lm()\n",
    "                 .databunch(bs=192))\n",
    "data.save('data_block_lm.pkl')"
   ]
  },
  {
   "cell_type": "code",
   "execution_count": null,
   "metadata": {},
   "outputs": [],
   "source": [
    "data_lm = load_data(path, 'data_block_lm.pkl',bs=192)\n",
    "learn = language_model_learner(data_lm, AWD_LSTM, drop_mult=0.3)"
   ]
  },
  {
   "cell_type": "code",
   "execution_count": null,
   "metadata": {},
   "outputs": [],
   "source": [
    "data_lm\n",
    "data_lm.show_batch()"
   ]
  },
  {
   "cell_type": "code",
   "execution_count": null,
   "metadata": {},
   "outputs": [],
   "source": [
    "learn.lr_find()\n",
    "learn.recorder.plot(skip_end=15)"
   ]
  },
  {
   "cell_type": "code",
   "execution_count": null,
   "metadata": {},
   "outputs": [],
   "source": [
    "learn.fit_one_cycle(20, 1e-2, moms=(0.8,0.7))"
   ]
  },
  {
   "cell_type": "code",
   "execution_count": null,
   "metadata": {},
   "outputs": [],
   "source": [
    "learn.save('fit_head')"
   ]
  },
  {
   "cell_type": "code",
   "execution_count": null,
   "metadata": {},
   "outputs": [],
   "source": [
    "learn.unfreeze()"
   ]
  },
  {
   "cell_type": "code",
   "execution_count": null,
   "metadata": {},
   "outputs": [],
   "source": [
    "learn.fit_one_cycle(20, 1e-3, moms=(0.8,0.7))"
   ]
  },
  {
   "cell_type": "code",
   "execution_count": null,
   "metadata": {},
   "outputs": [],
   "source": [
    "learn.save('fine_tuned')\n",
    "learn.save_encoder('fine_tuned_enc')"
   ]
  },
  {
   "cell_type": "code",
   "execution_count": null,
   "metadata": {},
   "outputs": [],
   "source": [
    "learn.fit_one_cycle(20, 1e-4, moms=(0.8,0.7))"
   ]
  },
  {
   "cell_type": "code",
   "execution_count": null,
   "metadata": {},
   "outputs": [],
   "source": [
    "learn.save('fine_tuned')\n",
    "learn.save_encoder('fine_tuned_enc')"
   ]
  },
  {
   "cell_type": "markdown",
   "metadata": {},
   "source": [
    "# We have our trained model Now"
   ]
  },
  {
   "cell_type": "code",
   "execution_count": 1,
   "metadata": {},
   "outputs": [],
   "source": [
    "from pathlib import Path\n",
    "import pandas as pd\n",
    "import re\n",
    "import os\n",
    "from fastai.text import *\n",
    "import string\n",
    "import numpy as np\n",
    "\n",
    "%reload_ext autoreload\n",
    "%autoreload 2\n",
    "%matplotlib inline\n",
    "\n",
    "cwd = os.getcwd()\n",
    "path = Path(cwd)"
   ]
  },
  {
   "cell_type": "code",
   "execution_count": 2,
   "metadata": {},
   "outputs": [
    {
     "name": "stderr",
     "output_type": "stream",
     "text": [
      "C:\\Users\\brent\\AppData\\Roaming\\Python\\Python37\\site-packages\\fastai\\datasets.py:156: YAMLLoadWarning: calling yaml.load() without Loader=... is deprecated, as the default Loader is unsafe. Please read https://msg.pyyaml.org/load for full details.\n",
      "  with open(fpath, 'r') as yaml_file: return yaml.load(yaml_file)\n"
     ]
    }
   ],
   "source": [
    "data_lm = load_data(path, 'data_block_lm.pkl',bs=192)\n",
    "learn = language_model_learner(data_lm, AWD_LSTM, drop_mult=0.3)\n",
    "learn.load('fine_tuned')\n",
    "learn.load_encoder('fine_tuned_enc')"
   ]
  },
  {
   "cell_type": "code",
   "execution_count": 3,
   "metadata": {},
   "outputs": [
    {
     "data": {
      "text/plain": [
       "\"PICARD : : What is it ? xxbos DESCRIPTION : : Picard , Riker , Worf , Geordi , Troi , Beverly . Troi is sitting on the edge of the bed , Data is at the head of the table , Worf at the other side . The mood is grim . Beverly is standing near the bed , staring at the medical monitor . She is shivering , cold . She looks around the room , feeling a rush of sensation and emotion . xxbos GEORDI : : It 's the best thing that ever happened to you . xxbos PICARD : : What 's the matter ? xxbos DESCRIPTION : : Picard , Riker , Worf , Data , Geordi and Troi are sitting at the table . xxbos DESCRIPTION : : Picard and Riker are in the Command Chair . Worf is seated at his Command Chair . Worf is at Tactical . The N.D 's stand at\""
      ]
     },
     "execution_count": 3,
     "metadata": {},
     "output_type": "execute_result"
    }
   ],
   "source": [
    "learn.predict(\"PICARD\", 200, temperature=0.5)"
   ]
  },
  {
   "cell_type": "markdown",
   "metadata": {},
   "source": [
    "### We Create Some Functions that Will Help us Write "
   ]
  },
  {
   "cell_type": "code",
   "execution_count": 3,
   "metadata": {},
   "outputs": [],
   "source": [
    "def GetCharacterLines(character, numberOfLines = 1, temperatureChange = True, temperature = 1.0):\n",
    "    N_WORDS = 150\n",
    "    EPSILON = 0.1\n",
    "    #We predict the next N_WORDS\n",
    "    #Each iteration increases the temperature of the sentence.  We interpolate between 0 and 1.\n",
    "    if temperatureChange:\n",
    "        predictedLines = list(learn.predict(character.upper(), N_WORDS,\n",
    "                                            temperature=EPSILON + (i/(numberOfLines-1))).split(\"xxbos\")[0] for i in range(numberOfLines))\n",
    "    else:\n",
    "        predictedLines = list(learn.predict(character.upper(), N_WORDS,\n",
    "                                            temperature=temperature).split(\"xxbos\")[0] for i in range(numberOfLines))\n",
    "    return predictedLines"
   ]
  },
  {
   "cell_type": "code",
   "execution_count": 4,
   "metadata": {},
   "outputs": [],
   "source": [
    "def RecursiveLine(line = \"\", numberOfLines = 5, temperature = 1):\n",
    "    \"\"\"Accept a line and continuously feeds it into the model to build a block of the script.\"\"\"\n",
    "    N_WORDS = 150\n",
    "    dialog = \"\"\n",
    "    for i in range(numberOfLines):\n",
    "        #Sometimes we don't see the xxbos token and get an exception\n",
    "        try:\n",
    "            line = learn.predict(line, N_WORDS, temperature=temperature).split(\"xxbos\")[i] + \"xxbos\"\n",
    "        except:\n",
    "            line = line\n",
    "\n",
    "        dialog = dialog + line\n",
    "    \n",
    "    dialog = dialog.split(\"xxbos\")[:-1]\n",
    "    return dialog"
   ]
  },
  {
   "cell_type": "code",
   "execution_count": 5,
   "metadata": {},
   "outputs": [],
   "source": [
    "def ConversationLines(characterList, numberOfLines = 5, temperature = 1):\n",
    "    \"\"\"Accept a list of character names.  We reject any sentences that do not begin with these particular characters.\n",
    "    The same character will not speak 2 times in a row.\"\"\"\n",
    "    N_WORDS = 100\n",
    "    dialog = \"\"\n",
    "    line = \"\"\n",
    "    lastCharacter = str(None)\n",
    "    \n",
    "    characterList = [character.upper() for character in characterList]\n",
    "    \n",
    "    for i in range(numberOfLines):\n",
    "        #Keep creating lines until we have one of the characters\n",
    "        while True:\n",
    "            line = \"\"\n",
    "            line = learn.predict(line, N_WORDS, temperature=temperature).split(\"xxbos\")[0] + \" xxbos \"\n",
    "            #Who is the current speaker for the line?\n",
    "            currentCharacter = line.split(\" \")[1]\n",
    "            if (any(character in line for character in characterList)) and (currentCharacter != lastCharacter):\n",
    "                break\n",
    "    \n",
    "        dialog = dialog + line\n",
    "        lastCharacter = line.split(\" \")[1]\n",
    "    \n",
    "    dialog = dialog.split(\"xxbos\")[:-1]\n",
    "    dialog = [line.lstrip() for line in dialog]\n",
    "    return dialog"
   ]
  },
  {
   "cell_type": "code",
   "execution_count": 6,
   "metadata": {},
   "outputs": [],
   "source": [
    "def ConversationLinesRecursive(characterList, numberOfLines = 5, temperature = 1):\n",
    "    \"\"\"Accept a list of character names.  We reject any sentences that do not begin with these particular characters.\n",
    "    The same character will not speak 2 times in a row.\n",
    "    Continuously Feeds the past dialog in to generate the text\"\"\"\n",
    "    N_WORDS = 100\n",
    "    dialog = \"\"\n",
    "    lastCharacter = str(None)\n",
    "    \n",
    "    #Put the character list into all uppercase\n",
    "    characterList = [character.upper() for character in characterList]\n",
    "    \n",
    "    #We generate the number of lines\n",
    "    for i in range(numberOfLines):\n",
    "        \n",
    "        #Keep creating lines until we have one of the characters\n",
    "        while True:\n",
    "            line = learn.predict(dialog, N_WORDS, temperature=temperature).split(\"xxbos\")[-1] + \" xxbos \"\n",
    "            #Who is the current speaker for the line?\n",
    "            currentCharacter = line.split(\" \")[1]\n",
    "            if (any(character in line for character in characterList)) and (currentCharacter != lastCharacter):\n",
    "                break\n",
    "    \n",
    "        dialog = dialog + line\n",
    "        lastCharacter = line.split(\" \")[1]\n",
    "        \n",
    "    dialog = dialog.split(\"xxbos\")[:-1]\n",
    "    dialog = [line.lstrip() for line in dialog]\n",
    "    return dialog"
   ]
  },
  {
   "cell_type": "markdown",
   "metadata": {},
   "source": [
    "### Some Examples of Lines we can write automatically"
   ]
  },
  {
   "cell_type": "code",
   "execution_count": 23,
   "metadata": {},
   "outputs": [
    {
     "data": {
      "text/plain": [
       "['Picard : : There are other treasures to be found . ',\n",
       " ' DESCRIPTION : : Picard is aghast , as Beverly stands . ',\n",
       " \" WORF : : Picard must see some depth , even after we accept this new Prime Directive , and do n't know how much time is going to advance . \",\n",
       " ' DESCRIPTION : : a beat , then studies her a long beat . ',\n",
       " \" DESCRIPTION : : This door , off Picard 's shocked reaction ... \"]"
      ]
     },
     "execution_count": 23,
     "metadata": {},
     "output_type": "execute_result"
    }
   ],
   "source": [
    "RecursiveLine(\"Picard\")"
   ]
  },
  {
   "cell_type": "code",
   "execution_count": 34,
   "metadata": {
    "scrolled": false
   },
   "outputs": [
    {
     "data": {
      "text/plain": [
       "['RIKER : : An interesting choice .  ',\n",
       " \"PICARD : : If he looks ... the people in this chamber will have been confined to the brig if you 're to return to your post .  \",\n",
       " 'RIKER : : Go ahead , Ensign .  ',\n",
       " 'PICARD : : Darmok .  ',\n",
       " 'RIKER : : Are you all right ?  ']"
      ]
     },
     "execution_count": 34,
     "metadata": {},
     "output_type": "execute_result"
    }
   ],
   "source": [
    "characters = [\"Picard\", \"Riker\", \"Counselor\"]\n",
    "ConversationLines(characters, numberOfLines=5, temperature= 0.9)"
   ]
  },
  {
   "cell_type": "code",
   "execution_count": 44,
   "metadata": {
    "scrolled": false
   },
   "outputs": [
    {
     "data": {
      "text/plain": [
       "['PICARD : : Then ',\n",
       " \"RIKER : : Let 's hook up the \",\n",
       " 'PICARD : : Begin energy ',\n",
       " 'RIKER : : Shelby to bridge . We ',\n",
       " 'PICARD : : Always , you have the knowledge of the future . Your offspring must also be able to repair it . If you wish to happy , i will still be able to guide you into the task which will ']"
      ]
     },
     "execution_count": 44,
     "metadata": {},
     "output_type": "execute_result"
    }
   ],
   "source": [
    "characters = [\"Picard\", \"Riker\", \"Counselor\"]\n",
    "ConversationLinesRecursive(characters, numberOfLines=5, temperature= 0.9)"
   ]
  },
  {
   "cell_type": "code",
   "execution_count": 26,
   "metadata": {},
   "outputs": [
    {
     "data": {
      "text/plain": [
       "[' DESCRIPTION : : She gives him a appeal and turns away . ',\n",
       " ' KEEL : : No word of your orders ... anything unusual . ',\n",
       " \" DESCRIPTION : : The Cardassians ENTER from Data 's Room and cross close to Beverly . She scans with her tricorder . \",\n",
       " \" COMPUTER : : The opposing advocate 's job is to find a context in which to explain . \",\n",
       " ' DESCRIPTION : : reacts , considering how possible it is , Geordi . ',\n",
       " ' PICARD : : Are you saying , i killed manually ... ',\n",
       " ' DESCRIPTION : : Taibak hesitates -- he is still monitoring his console . ',\n",
       " ' LETEK : : Letek , in the exact same words from Letek , had no choice but to surrender . ',\n",
       " ' DESCRIPTION : : Troi smiles and takes a long look ... ',\n",
       " ' DATA : : The port engine nacelle has been jolted from the engine . We should not be thrown dead . ']"
      ]
     },
     "execution_count": 26,
     "metadata": {},
     "output_type": "execute_result"
    }
   ],
   "source": [
    "GetCharacterLines(\"\", numberOfLines=10, temperatureChange=False, temperature=1)"
   ]
  },
  {
   "cell_type": "code",
   "execution_count": 27,
   "metadata": {
    "scrolled": false
   },
   "outputs": [
    {
     "data": {
      "text/plain": [
       "['PICARD : : What is it ? ',\n",
       " 'PICARD : : What do you mean ? ',\n",
       " 'PICARD : : What is it ? ',\n",
       " \"PICARD : : It 's a simple matter , Number One . It 's a very ... Human expression . \",\n",
       " \"PICARD : : You 're a good officer , Doctor . You can be sure that Lieutenant La Forge is the best officer in the fleet . \",\n",
       " 'PICARD : : What is the status of the warp engines ? ',\n",
       " 'PICARD : : i see Spock in his way . ',\n",
       " 'PICARD : : Captain , you are transmitting nothing . We have succeeded in arming the cell . We have a reason for that -- Commander . ',\n",
       " \"PICARD 'S COM VOICE : : Captain , this is a Klingon vessel . i 're the first time in ten years for a Klingon to be overly presumptuous . If you may proceed move in your direction , you 've agreed -- \",\n",
       " 'PICARD : : Captain Picard , any good luck is right . ']"
      ]
     },
     "execution_count": 27,
     "metadata": {},
     "output_type": "execute_result"
    }
   ],
   "source": [
    "GetCharacterLines(\"Picard\", 10)"
   ]
  },
  {
   "cell_type": "code",
   "execution_count": 28,
   "metadata": {},
   "outputs": [
    {
     "data": {
      "text/plain": [
       "[\"RIKER : : You 're not going to be here . \",\n",
       " \"RIKER : : We 're going to have to get back to Federation space . \",\n",
       " \"RIKER : : That 's right . We 're going to have to get to Sickbay . \",\n",
       " \"RIKER : : We 're going to have to do it all the time . \",\n",
       " 'RIKER : : Do you have the coordinates to beam down ? ',\n",
       " 'RIKER : : Not much of a mystery . ',\n",
       " 'RIKER : : Set course for the Devron System , and engage at warp nine . ',\n",
       " \"RIKER : : Geordi ... i do n't know what you 're looking for ... \",\n",
       " 'RIKER : : The two of you had an unusual time . They knew each other for a moment . Wonderful stories ... as well as physical or physical . How did you come on board ? ',\n",
       " \"RIKER : : That arms like him could fall short of me wide - eyed and i 'd say . \"]"
      ]
     },
     "execution_count": 28,
     "metadata": {},
     "output_type": "execute_result"
    }
   ],
   "source": [
    "GetCharacterLines(\"Riker\", 10)"
   ]
  },
  {
   "cell_type": "code",
   "execution_count": 29,
   "metadata": {},
   "outputs": [
    {
     "data": {
      "text/plain": [
       "[\"COUNSELOR TROI : : You 're not going to be here for a while . \",\n",
       " \"COUNSELOR TROI : : Captain , i 'm not sure i can explain it . \",\n",
       " \"COUNSELOR TROI : : You 're not going to be here , Deanna . \",\n",
       " 'COUNSELOR TROI : : What is it ? ',\n",
       " \"COUNSELOR TROI : : You do n't have to talk about it . \",\n",
       " 'COUNSELOR TROI : : What would you like to hear ? ',\n",
       " \"COUNSELOR 'S VOICE : : Captain , i have the bridge . Counselor . \",\n",
       " \"COUNSELOR TROI : : You 're female . \",\n",
       " 'COUNSELOR TROI COM VOICE : : Troi to Captain Picard . ',\n",
       " 'COUNSELOR TROI : : After meeting your conscience , in Security ... ']"
      ]
     },
     "execution_count": 29,
     "metadata": {},
     "output_type": "execute_result"
    }
   ],
   "source": [
    "GetCharacterLines(\"Counselor\", 10)"
   ]
  },
  {
   "cell_type": "markdown",
   "metadata": {},
   "source": [
    "# Area to Generate Dialog"
   ]
  },
  {
   "cell_type": "code",
   "execution_count": 45,
   "metadata": {},
   "outputs": [
    {
     "data": {
      "text/plain": [
       "[\"PICARD ( V.O. )  : : Captain 's log , supplemental . We have arrived at Starbase Two - twenty - seven . We are in orbit around Beta Agni Two for the Federation and have agreed to contact the Enterprise . \",\n",
       " \"PICARD ( V.O. )  : : Captain 's log , stardate 45652.1 . The Enterprise has entered an area of space known as the Typhon Expanse . We are the first Starfleet vessel to chart this unexplored region . \",\n",
       " \"PICARD ( V.O. )  : : Captain 's Log , Stardate 47391.2 . i am returning to the Enterprise in response to a distress call from a Federation science station . It is a distress call from a Federation science station . \",\n",
       " \"PICARD ( V.O. )  : : Captain 's log , supplemental . We are on a course to Starbase Three- zero - one . We have been on a long , difficult journey to the Neutral Zone . \",\n",
       " \"PICARD ( V.O. )  : : Captain 's log , Stardate Gemaris Five where , in the meantime , we have been contacted by an alien officer who is en route to the Ramatis Three meeting ... \",\n",
       " \"PICARD ( V.O. )  : : Captain 's log , supplemental . It is clear that the Enterprise was not damaged in any way . It is fortunate that the Enterprise was able to remain in orbit of the Stargazer . \",\n",
       " \"PICARD ( V.O. )  : : Captain 's log , stardate 45652.1 . The Enterprise has entered an area of space known as the Typhon Expanse ; they are the first Starfleet vessel to chart this unexplored region . \",\n",
       " \"PICARD ( V.O. )  : : Captain 's log , Stardate engage . We are on course to rendezvous with the starship Cairo , an Angosian special mission . \",\n",
       " \"PICARD ( V.O. )  : : Captain 's log , supplemental . We have been in orbit around Dytallix nine the past two days , supervising the repairs . \",\n",
       " \"PICARD ( V.O. )  : : As before . Evidently n't they decades who have lost their sense of honor . \"]"
      ]
     },
     "execution_count": 45,
     "metadata": {},
     "output_type": "execute_result"
    }
   ],
   "source": [
    "GetCharacterLines(\"PICARD ( V.O. ) \", 10)"
   ]
  },
  {
   "cell_type": "code",
   "execution_count": 48,
   "metadata": {},
   "outputs": [
    {
     "data": {
      "text/plain": [
       "['DESCRIPTION : : The Enterprise is docked at a starbase in a starbase . ',\n",
       " 'DESCRIPTION : : The Enterprise is struck by the torpedoes from the Klingon ships . ',\n",
       " 'DESCRIPTION : : The Enterprise is docked at a starbase in a starbase . ',\n",
       " 'DESCRIPTION : : FADE IN : ',\n",
       " 'DESCRIPTION : : The voice is quiet . ',\n",
       " 'DESCRIPTION : : As Riker , Data , Worf , and TWO N.D. SECURITY GUARDS ENTER . Riker ENTERS , looks around the room , sees a small ALIEN TRANSPORTER CREWMEMBER standing near the cell door . He casts a glance over at the Lieutenant . ',\n",
       " 'DESCRIPTION : : Troi is on her feet , reaching her to come out of the turbolift . ',\n",
       " 'DESCRIPTION : : They are all looking at each other , looking much more comfortable when their eyes meet . ',\n",
       " 'DESCRIPTION : : She takes the goblet from the table and sets it on the table ... things boys and drinks are feeling ... something they share in a toast . ',\n",
       " 'DESCRIPTION : : a beat . ']"
      ]
     },
     "execution_count": 48,
     "metadata": {},
     "output_type": "execute_result"
    }
   ],
   "source": [
    "GetCharacterLines(\"DESCRIPTION\", 10)"
   ]
  },
  {
   "cell_type": "code",
   "execution_count": 46,
   "metadata": {},
   "outputs": [
    {
     "data": {
      "text/plain": [
       "['PICARD ( V.O. )  : : Our chief medical officer , Lieutenant Commander Riker will attempt to trace the problem , puzzled . ',\n",
       " ' q : : q ',\n",
       " \" PICARD : : i 'd like to work hard enough here to talk . \",\n",
       " ' TROI : : No . ',\n",
       " ' DESCRIPTION : : The Administrator ignores it troi and confronts Riker . ',\n",
       " ' DESCRIPTION : : The motion surrounding proceeded as detailed as we did a moment ago . ',\n",
       " ' DESCRIPTION : : But on the way , Geordi steps past Picard and claps him on the shoulder ... ',\n",
       " ' DESCRIPTION : : as the ball does not move , the Edolord message is begun again in a description ... ',\n",
       " \" K'NERA : : i believe it will just be to you and your crew . \",\n",
       " \" K'NERA : : i believe it will just be to you and your crew . \"]"
      ]
     },
     "execution_count": 46,
     "metadata": {},
     "output_type": "execute_result"
    }
   ],
   "source": [
    "RecursiveLine(\"PICARD ( V.O. ) \",numberOfLines=10)"
   ]
  },
  {
   "cell_type": "code",
   "execution_count": 8,
   "metadata": {},
   "outputs": [
    {
     "data": {
      "text/plain": [
       "['WORF : : Approximately seven ... six years ',\n",
       " 'DATA : : i am capable of emitting a highly internal reading . However , the secondary systems are very unstable , too ',\n",
       " 'DESCRIPTION : : Data is seated at Ops . SETAL is in Command , where WORF is functioning at the command stations of his team . Picard and Worf ENTER from transporter room three . Riker enters the turbolift , turns around in his chair , passes a crewperson at his station , sees his ',\n",
       " 'WORF : : ',\n",
       " 'DATA : : i am aware of the risks involved . Doctor Marr is very curious about the ',\n",
       " 'RIKER : : All right they ',\n",
       " 'TROI RIKER : : What ',\n",
       " 'DATA : : Thank ',\n",
       " 'RIKER : ',\n",
       " 'DATA : : ',\n",
       " 'WORF : : It is interesting that the Klingons do not understand their studied enemies . ',\n",
       " 'RIKER : ',\n",
       " 'DATA : : Your smile fades after ',\n",
       " 'RIKER : : Mister Worf . Description : : ',\n",
       " 'DATA : : Geordi , i can promise you a future in human power that would never have been able to sustain your gaze as ',\n",
       " 'WORF : : Lieutenant ',\n",
       " 'RIKER : : ',\n",
       " 'WORF : : Trial sounds , Lieutenant ... they will ',\n",
       " 'DATA : : All stop . i ',\n",
       " 'WORF : : You ']"
      ]
     },
     "execution_count": 8,
     "metadata": {},
     "output_type": "execute_result"
    }
   ],
   "source": [
    "characters = [\"RIKER\", \"DATA\", \"WORF\"]\n",
    "ConversationLinesRecursive(characters, numberOfLines=20, temperature= 1.0)"
   ]
  },
  {
   "cell_type": "markdown",
   "metadata": {},
   "source": [
    "# My Script"
   ]
  },
  {
   "cell_type": "markdown",
   "metadata": {},
   "source": [
    "PICARD ( V.O. )  : : Captain 's log , supplemental . We have arrived at Starbase Two - twenty - seven . We are in orbit around Beta Agni Two for the Federation and have agreed to contact the Enterprise .\n",
    "\n",
    " DESCRIPTION : : As Riker , Data , Worf , and TWO N.D. SECURITY GUARDS ENTER . Riker ENTERS , looks around the room , sees a small ALIEN TRANSPORTER CREWMEMBER standing near the cell door . He casts a glance over at the Lieutenant .\n",
    " \n",
    " DATA : : i am capable of emitting a highly internal reading . However , the secondary systems are very unstable , too\n",
    " \n",
    " WORF : : Lieutenant\n",
    " \n",
    " DATA : : i am aware of the risks involved . Doctor Marr is very curious about the\n",
    " \n",
    " RIKER : : Captain -- we 're going to need your help .\n",
    " \n",
    " RIKER : : That 's right . The Romulans have crossed into the Neutral Zone . You 've taken a weapon from Khitomer . They 've told me you 've failed in their mission .\n",
    " \n",
    " PICARD : : It 's not why you came here . When i was a boy\n",
    " \n",
    " RIKER : \n",
    " \n",
    " PICARD : : Geordi ... we 're in the midst of a Red Alert . You have to leave now . If you\n",
    " \n",
    " RIKER : : They 're waiting for us . You\n",
    " \n",
    " PICARD : : The Federation 's finest specialist in communication with Alpha state , and who has unique skills ... and eight hours of stellar physics . We will be able to determine that this Beta Stromgren system will be following this action with\n",
    " \n",
    " PICARD : : Mister Worf\n",
    " \n",
    " RIKER : : But\n",
    " \n",
    " PICARD : : Worf , what\n",
    " \n",
    " RIKER : : i 'm not sure . i think there 's a lot of interference from the Romulans . We 've tried to shut it down -- but we 're not going\n",
    " \n",
    " PICARD : : Mister Worf ... do you have any idea what the Duras\n",
    "\n",
    " RIKER : : No . You were Starfleet 's finest specialist in communication with Cardassian\n",
    "\n"
   ]
  },
  {
   "cell_type": "code",
   "execution_count": null,
   "metadata": {},
   "outputs": [],
   "source": []
  }
 ],
 "metadata": {
  "_draft": {
   "nbviewer_url": "https://gist.github.com/0dd0df21cf404cf2bb51d0148c8b7d8b"
  },
  "gist": {
   "data": {
    "description": "fastai.text imdb example",
    "public": true
   },
   "id": "0dd0df21cf404cf2bb51d0148c8b7d8b"
  },
  "kernelspec": {
   "display_name": "Python 3",
   "language": "python",
   "name": "python3"
  },
  "language_info": {
   "codemirror_mode": {
    "name": "ipython",
    "version": 3
   },
   "file_extension": ".py",
   "mimetype": "text/x-python",
   "name": "python",
   "nbconvert_exporter": "python",
   "pygments_lexer": "ipython3",
   "version": "3.7.2"
  },
  "toc": {
   "colors": {
    "hover_highlight": "#DAA520",
    "navigate_num": "#000000",
    "navigate_text": "#333333",
    "running_highlight": "#FF0000",
    "selected_highlight": "#FFD700",
    "sidebar_border": "#EEEEEE",
    "wrapper_background": "#FFFFFF"
   },
   "moveMenuLeft": true,
   "nav_menu": {
    "height": "86px",
    "width": "252px"
   },
   "navigate_menu": true,
   "number_sections": true,
   "sideBar": true,
   "threshold": 4,
   "toc_cell": false,
   "toc_section_display": "block",
   "toc_window_display": false,
   "widenNotebook": false
  }
 },
 "nbformat": 4,
 "nbformat_minor": 2
}
